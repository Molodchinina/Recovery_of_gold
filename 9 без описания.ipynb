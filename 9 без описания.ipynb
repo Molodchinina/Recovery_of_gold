{
 "cells": [
  {
   "cell_type": "markdown",
   "metadata": {},
   "source": [
    "## Подготовка данных"
   ]
  },
  {
   "cell_type": "markdown",
   "metadata": {},
   "source": [
    "### Откроем и изучим данные"
   ]
  },
  {
   "cell_type": "code",
   "execution_count": 1,
   "metadata": {},
   "outputs": [],
   "source": [
    "import pandas as pd\n",
    "import matplotlib.pyplot as plt\n",
    "import seaborn as sns\n",
    "import numpy as np\n",
    "from sklearn.metrics import mean_absolute_error\n",
    "from sklearn.linear_model import LinearRegression\n",
    "from sklearn.tree import DecisionTreeRegressor\n",
    "from sklearn.ensemble import RandomForestRegressor\n",
    "from sklearn.model_selection import train_test_split\n",
    "from sklearn.metrics import make_scorer\n",
    "from sklearn.model_selection import cross_val_score\n",
    "from sklearn.model_selection import GridSearchCV\n",
    "from sklearn.metrics import accuracy_score\n",
    "from sklearn.dummy import DummyRegressor\n",
    "\n",
    "from sklearn.metrics import mean_squared_error\n",
    "from sklearn.preprocessing import StandardScaler\n",
    "from scipy import stats as st\n",
    "from sklearn.utils import shuffle\n",
    "from sklearn.preprocessing import OrdinalEncoder "
   ]
  },
  {
   "cell_type": "code",
   "execution_count": 2,
   "metadata": {},
   "outputs": [
    {
     "name": "stdout",
     "output_type": "stream",
     "text": [
      "<class 'pandas.core.frame.DataFrame'>\n",
      "RangeIndex: 14149 entries, 0 to 14148\n",
      "Data columns (total 87 columns):\n",
      " #   Column                                              Non-Null Count  Dtype  \n",
      "---  ------                                              --------------  -----  \n",
      " 0   date                                                14149 non-null  object \n",
      " 1   final.output.concentrate_ag                         14148 non-null  float64\n",
      " 2   final.output.concentrate_pb                         14148 non-null  float64\n",
      " 3   final.output.concentrate_sol                        13938 non-null  float64\n",
      " 4   final.output.concentrate_au                         14149 non-null  float64\n",
      " 5   final.output.recovery                               14149 non-null  float64\n",
      " 6   final.output.tail_ag                                14149 non-null  float64\n",
      " 7   final.output.tail_pb                                14049 non-null  float64\n",
      " 8   final.output.tail_sol                               14144 non-null  float64\n",
      " 9   final.output.tail_au                                14149 non-null  float64\n",
      " 10  primary_cleaner.input.sulfate                       14129 non-null  float64\n",
      " 11  primary_cleaner.input.depressant                    14117 non-null  float64\n",
      " 12  primary_cleaner.input.feed_size                     14149 non-null  float64\n",
      " 13  primary_cleaner.input.xanthate                      14049 non-null  float64\n",
      " 14  primary_cleaner.output.concentrate_ag               14149 non-null  float64\n",
      " 15  primary_cleaner.output.concentrate_pb               14063 non-null  float64\n",
      " 16  primary_cleaner.output.concentrate_sol              13863 non-null  float64\n",
      " 17  primary_cleaner.output.concentrate_au               14149 non-null  float64\n",
      " 18  primary_cleaner.output.tail_ag                      14148 non-null  float64\n",
      " 19  primary_cleaner.output.tail_pb                      14134 non-null  float64\n",
      " 20  primary_cleaner.output.tail_sol                     14103 non-null  float64\n",
      " 21  primary_cleaner.output.tail_au                      14149 non-null  float64\n",
      " 22  primary_cleaner.state.floatbank8_a_air              14145 non-null  float64\n",
      " 23  primary_cleaner.state.floatbank8_a_level            14148 non-null  float64\n",
      " 24  primary_cleaner.state.floatbank8_b_air              14145 non-null  float64\n",
      " 25  primary_cleaner.state.floatbank8_b_level            14148 non-null  float64\n",
      " 26  primary_cleaner.state.floatbank8_c_air              14147 non-null  float64\n",
      " 27  primary_cleaner.state.floatbank8_c_level            14148 non-null  float64\n",
      " 28  primary_cleaner.state.floatbank8_d_air              14146 non-null  float64\n",
      " 29  primary_cleaner.state.floatbank8_d_level            14148 non-null  float64\n",
      " 30  rougher.calculation.sulfate_to_au_concentrate       14148 non-null  float64\n",
      " 31  rougher.calculation.floatbank10_sulfate_to_au_feed  14148 non-null  float64\n",
      " 32  rougher.calculation.floatbank11_sulfate_to_au_feed  14148 non-null  float64\n",
      " 33  rougher.calculation.au_pb_ratio                     14149 non-null  float64\n",
      " 34  rougher.input.feed_ag                               14149 non-null  float64\n",
      " 35  rougher.input.feed_pb                               14049 non-null  float64\n",
      " 36  rougher.input.feed_rate                             14141 non-null  float64\n",
      " 37  rougher.input.feed_size                             14005 non-null  float64\n",
      " 38  rougher.input.feed_sol                              14071 non-null  float64\n",
      " 39  rougher.input.feed_au                               14149 non-null  float64\n",
      " 40  rougher.input.floatbank10_sulfate                   14120 non-null  float64\n",
      " 41  rougher.input.floatbank10_xanthate                  14141 non-null  float64\n",
      " 42  rougher.input.floatbank11_sulfate                   14113 non-null  float64\n",
      " 43  rougher.input.floatbank11_xanthate                  13721 non-null  float64\n",
      " 44  rougher.output.concentrate_ag                       14149 non-null  float64\n",
      " 45  rougher.output.concentrate_pb                       14149 non-null  float64\n",
      " 46  rougher.output.concentrate_sol                      14127 non-null  float64\n",
      " 47  rougher.output.concentrate_au                       14149 non-null  float64\n",
      " 48  rougher.output.recovery                             14149 non-null  float64\n",
      " 49  rougher.output.tail_ag                              14148 non-null  float64\n",
      " 50  rougher.output.tail_pb                              14149 non-null  float64\n",
      " 51  rougher.output.tail_sol                             14149 non-null  float64\n",
      " 52  rougher.output.tail_au                              14149 non-null  float64\n",
      " 53  rougher.state.floatbank10_a_air                     14148 non-null  float64\n",
      " 54  rougher.state.floatbank10_a_level                   14148 non-null  float64\n",
      " 55  rougher.state.floatbank10_b_air                     14148 non-null  float64\n",
      " 56  rougher.state.floatbank10_b_level                   14148 non-null  float64\n",
      " 57  rougher.state.floatbank10_c_air                     14148 non-null  float64\n",
      " 58  rougher.state.floatbank10_c_level                   14148 non-null  float64\n",
      " 59  rougher.state.floatbank10_d_air                     14149 non-null  float64\n",
      " 60  rougher.state.floatbank10_d_level                   14149 non-null  float64\n",
      " 61  rougher.state.floatbank10_e_air                     13713 non-null  float64\n",
      " 62  rougher.state.floatbank10_e_level                   14149 non-null  float64\n",
      " 63  rougher.state.floatbank10_f_air                     14149 non-null  float64\n",
      " 64  rougher.state.floatbank10_f_level                   14149 non-null  float64\n",
      " 65  secondary_cleaner.output.tail_ag                    14147 non-null  float64\n",
      " 66  secondary_cleaner.output.tail_pb                    14139 non-null  float64\n",
      " 67  secondary_cleaner.output.tail_sol                   12544 non-null  float64\n",
      " 68  secondary_cleaner.output.tail_au                    14149 non-null  float64\n",
      " 69  secondary_cleaner.state.floatbank2_a_air            13932 non-null  float64\n",
      " 70  secondary_cleaner.state.floatbank2_a_level          14148 non-null  float64\n",
      " 71  secondary_cleaner.state.floatbank2_b_air            14128 non-null  float64\n",
      " 72  secondary_cleaner.state.floatbank2_b_level          14148 non-null  float64\n",
      " 73  secondary_cleaner.state.floatbank3_a_air            14145 non-null  float64\n",
      " 74  secondary_cleaner.state.floatbank3_a_level          14148 non-null  float64\n",
      " 75  secondary_cleaner.state.floatbank3_b_air            14148 non-null  float64\n",
      " 76  secondary_cleaner.state.floatbank3_b_level          14148 non-null  float64\n",
      " 77  secondary_cleaner.state.floatbank4_a_air            14143 non-null  float64\n",
      " 78  secondary_cleaner.state.floatbank4_a_level          14148 non-null  float64\n",
      " 79  secondary_cleaner.state.floatbank4_b_air            14148 non-null  float64\n",
      " 80  secondary_cleaner.state.floatbank4_b_level          14148 non-null  float64\n",
      " 81  secondary_cleaner.state.floatbank5_a_air            14148 non-null  float64\n",
      " 82  secondary_cleaner.state.floatbank5_a_level          14148 non-null  float64\n",
      " 83  secondary_cleaner.state.floatbank5_b_air            14148 non-null  float64\n",
      " 84  secondary_cleaner.state.floatbank5_b_level          14148 non-null  float64\n",
      " 85  secondary_cleaner.state.floatbank6_a_air            14147 non-null  float64\n",
      " 86  secondary_cleaner.state.floatbank6_a_level          14148 non-null  float64\n",
      "dtypes: float64(86), object(1)\n",
      "memory usage: 9.4+ MB\n",
      "None\n",
      "                  date  final.output.concentrate_ag  \\\n",
      "0  2016-01-15 00:00:00                     6.055403   \n",
      "1  2016-01-15 01:00:00                     6.029369   \n",
      "2  2016-01-15 02:00:00                     6.055926   \n",
      "3  2016-01-15 03:00:00                     6.047977   \n",
      "4  2016-01-15 04:00:00                     6.148599   \n",
      "5  2016-01-15 05:00:00                     6.482968   \n",
      "6  2016-01-15 06:00:00                     6.533849   \n",
      "7  2016-01-15 07:00:00                     6.130823   \n",
      "8  2016-01-15 08:00:00                     5.834140   \n",
      "9  2016-01-15 09:00:00                     5.687063   \n",
      "\n",
      "   final.output.concentrate_pb  final.output.concentrate_sol  \\\n",
      "0                     9.889648                      5.507324   \n",
      "1                     9.968944                      5.257781   \n",
      "2                    10.213995                      5.383759   \n",
      "3                     9.977019                      4.858634   \n",
      "4                    10.142511                      4.939416   \n",
      "5                    10.049416                      5.480257   \n",
      "6                    10.058141                      4.569100   \n",
      "7                     9.935481                      4.389813   \n",
      "8                    10.071156                      4.876389   \n",
      "9                     9.980404                      5.282514   \n",
      "\n",
      "   final.output.concentrate_au  final.output.recovery  final.output.tail_ag  \\\n",
      "0                    42.192020              70.541216             10.411962   \n",
      "1                    42.701629              69.266198             10.462676   \n",
      "2                    42.657501              68.116445             10.507046   \n",
      "3                    42.689819              68.347543             10.422762   \n",
      "4                    42.774141              66.927016             10.360302   \n",
      "5                    41.633678              69.465816             10.182708   \n",
      "6                    41.995316              69.300835             10.304598   \n",
      "7                    42.452727              70.230976             10.443288   \n",
      "8                    43.404078              69.688595             10.420140   \n",
      "9                    43.235220              70.279619             10.487013   \n",
      "\n",
      "   final.output.tail_pb  final.output.tail_sol  final.output.tail_au  ...  \\\n",
      "0              0.895447              16.904297              2.143149  ...   \n",
      "1              0.927452              16.634514              2.224930  ...   \n",
      "2              0.953716              16.208849              2.257889  ...   \n",
      "3              0.883763              16.532835              2.146849  ...   \n",
      "4              0.792826              16.525686              2.055292  ...   \n",
      "5              0.664118              16.999638              1.918586  ...   \n",
      "6              0.807342              16.723575              2.058913  ...   \n",
      "7              0.949346              16.689959              2.143437  ...   \n",
      "8              1.065453              17.201948              2.209881  ...   \n",
      "9              1.159805              17.483979              2.209593  ...   \n",
      "\n",
      "   secondary_cleaner.state.floatbank4_a_air  \\\n",
      "0                                 14.016835   \n",
      "1                                 13.992281   \n",
      "2                                 14.015015   \n",
      "3                                 14.036510   \n",
      "4                                 14.027298   \n",
      "5                                 13.938497   \n",
      "6                                 14.046819   \n",
      "7                                 13.974691   \n",
      "8                                 13.964030   \n",
      "9                                 13.989632   \n",
      "\n",
      "   secondary_cleaner.state.floatbank4_a_level  \\\n",
      "0                                 -502.488007   \n",
      "1                                 -505.503262   \n",
      "2                                 -502.520901   \n",
      "3                                 -500.857308   \n",
      "4                                 -499.838632   \n",
      "5                                 -500.970168   \n",
      "6                                 -500.971133   \n",
      "7                                 -501.819696   \n",
      "8                                 -504.252450   \n",
      "9                                 -503.195299   \n",
      "\n",
      "   secondary_cleaner.state.floatbank4_b_air  \\\n",
      "0                                 12.099931   \n",
      "1                                 11.950531   \n",
      "2                                 11.912783   \n",
      "3                                 11.999550   \n",
      "4                                 11.953070   \n",
      "5                                 11.883350   \n",
      "6                                 12.091543   \n",
      "7                                 12.101324   \n",
      "8                                 12.060738   \n",
      "9                                 12.052233   \n",
      "\n",
      "   secondary_cleaner.state.floatbank4_b_level  \\\n",
      "0                                 -504.715942   \n",
      "1                                 -501.331529   \n",
      "2                                 -501.133383   \n",
      "3                                 -501.193686   \n",
      "4                                 -501.053894   \n",
      "5                                 -500.395298   \n",
      "6                                 -500.501426   \n",
      "7                                 -500.583446   \n",
      "8                                 -501.174549   \n",
      "9                                 -500.928547   \n",
      "\n",
      "   secondary_cleaner.state.floatbank5_a_air  \\\n",
      "0                                  9.925633   \n",
      "1                                 10.039245   \n",
      "2                                 10.070913   \n",
      "3                                  9.970366   \n",
      "4                                  9.925709   \n",
      "5                                 10.054147   \n",
      "6                                 10.003247   \n",
      "7                                  9.873169   \n",
      "8                                 10.033838   \n",
      "9                                  9.962574   \n",
      "\n",
      "   secondary_cleaner.state.floatbank5_a_level  \\\n",
      "0                                 -498.310211   \n",
      "1                                 -500.169983   \n",
      "2                                 -500.129135   \n",
      "3                                 -499.201640   \n",
      "4                                 -501.686727   \n",
      "5                                 -496.374715   \n",
      "6                                 -497.083180   \n",
      "7                                 -499.171928   \n",
      "8                                 -501.178133   \n",
      "9                                 -502.986357   \n",
      "\n",
      "   secondary_cleaner.state.floatbank5_b_air  \\\n",
      "0                                  8.079666   \n",
      "1                                  7.984757   \n",
      "2                                  8.013877   \n",
      "3                                  7.977324   \n",
      "4                                  7.894242   \n",
      "5                                  7.965083   \n",
      "6                                  8.010890   \n",
      "7                                  7.993381   \n",
      "8                                  7.881604   \n",
      "9                                  7.979219   \n",
      "\n",
      "   secondary_cleaner.state.floatbank5_b_level  \\\n",
      "0                                 -500.470978   \n",
      "1                                 -500.582168   \n",
      "2                                 -500.517572   \n",
      "3                                 -500.255908   \n",
      "4                                 -500.356035   \n",
      "5                                 -499.364752   \n",
      "6                                 -500.002423   \n",
      "7                                 -499.794518   \n",
      "8                                 -499.729434   \n",
      "9                                 -500.146835   \n",
      "\n",
      "   secondary_cleaner.state.floatbank6_a_air  \\\n",
      "0                                 14.151341   \n",
      "1                                 13.998353   \n",
      "2                                 14.028663   \n",
      "3                                 14.005551   \n",
      "4                                 13.996647   \n",
      "5                                 14.017067   \n",
      "6                                 14.029649   \n",
      "7                                 13.984498   \n",
      "8                                 13.967135   \n",
      "9                                 13.981614   \n",
      "\n",
      "   secondary_cleaner.state.floatbank6_a_level  \n",
      "0                                 -605.841980  \n",
      "1                                 -599.787184  \n",
      "2                                 -601.427363  \n",
      "3                                 -599.996129  \n",
      "4                                 -601.496691  \n",
      "5                                 -599.707915  \n",
      "6                                 -600.905470  \n",
      "7                                 -600.411070  \n",
      "8                                 -599.061188  \n",
      "9                                 -598.070855  \n",
      "\n",
      "[10 rows x 87 columns]\n",
      "Дубликатов: 0\n",
      "Размер датасета: (14149, 87)\n"
     ]
    }
   ],
   "source": [
    "data_train = pd.read_csv('/datasets/gold_recovery_train_new.csv')\n",
    "print(data_train.info())\n",
    "print(data_train.head(10))\n",
    "print('Дубликатов:', data_train.duplicated().sum())\n",
    "print('Размер датасета:', data_train.shape)"
   ]
  },
  {
   "cell_type": "code",
   "execution_count": 3,
   "metadata": {},
   "outputs": [
    {
     "name": "stdout",
     "output_type": "stream",
     "text": [
      "<class 'pandas.core.frame.DataFrame'>\n",
      "RangeIndex: 5290 entries, 0 to 5289\n",
      "Data columns (total 53 columns):\n",
      " #   Column                                      Non-Null Count  Dtype  \n",
      "---  ------                                      --------------  -----  \n",
      " 0   date                                        5290 non-null   object \n",
      " 1   primary_cleaner.input.sulfate               5286 non-null   float64\n",
      " 2   primary_cleaner.input.depressant            5285 non-null   float64\n",
      " 3   primary_cleaner.input.feed_size             5290 non-null   float64\n",
      " 4   primary_cleaner.input.xanthate              5286 non-null   float64\n",
      " 5   primary_cleaner.state.floatbank8_a_air      5290 non-null   float64\n",
      " 6   primary_cleaner.state.floatbank8_a_level    5290 non-null   float64\n",
      " 7   primary_cleaner.state.floatbank8_b_air      5290 non-null   float64\n",
      " 8   primary_cleaner.state.floatbank8_b_level    5290 non-null   float64\n",
      " 9   primary_cleaner.state.floatbank8_c_air      5290 non-null   float64\n",
      " 10  primary_cleaner.state.floatbank8_c_level    5290 non-null   float64\n",
      " 11  primary_cleaner.state.floatbank8_d_air      5290 non-null   float64\n",
      " 12  primary_cleaner.state.floatbank8_d_level    5290 non-null   float64\n",
      " 13  rougher.input.feed_ag                       5290 non-null   float64\n",
      " 14  rougher.input.feed_pb                       5290 non-null   float64\n",
      " 15  rougher.input.feed_rate                     5287 non-null   float64\n",
      " 16  rougher.input.feed_size                     5289 non-null   float64\n",
      " 17  rougher.input.feed_sol                      5269 non-null   float64\n",
      " 18  rougher.input.feed_au                       5290 non-null   float64\n",
      " 19  rougher.input.floatbank10_sulfate           5285 non-null   float64\n",
      " 20  rougher.input.floatbank10_xanthate          5290 non-null   float64\n",
      " 21  rougher.input.floatbank11_sulfate           5282 non-null   float64\n",
      " 22  rougher.input.floatbank11_xanthate          5265 non-null   float64\n",
      " 23  rougher.state.floatbank10_a_air             5290 non-null   float64\n",
      " 24  rougher.state.floatbank10_a_level           5290 non-null   float64\n",
      " 25  rougher.state.floatbank10_b_air             5290 non-null   float64\n",
      " 26  rougher.state.floatbank10_b_level           5290 non-null   float64\n",
      " 27  rougher.state.floatbank10_c_air             5290 non-null   float64\n",
      " 28  rougher.state.floatbank10_c_level           5290 non-null   float64\n",
      " 29  rougher.state.floatbank10_d_air             5290 non-null   float64\n",
      " 30  rougher.state.floatbank10_d_level           5290 non-null   float64\n",
      " 31  rougher.state.floatbank10_e_air             5290 non-null   float64\n",
      " 32  rougher.state.floatbank10_e_level           5290 non-null   float64\n",
      " 33  rougher.state.floatbank10_f_air             5290 non-null   float64\n",
      " 34  rougher.state.floatbank10_f_level           5290 non-null   float64\n",
      " 35  secondary_cleaner.state.floatbank2_a_air    5287 non-null   float64\n",
      " 36  secondary_cleaner.state.floatbank2_a_level  5290 non-null   float64\n",
      " 37  secondary_cleaner.state.floatbank2_b_air    5288 non-null   float64\n",
      " 38  secondary_cleaner.state.floatbank2_b_level  5290 non-null   float64\n",
      " 39  secondary_cleaner.state.floatbank3_a_air    5281 non-null   float64\n",
      " 40  secondary_cleaner.state.floatbank3_a_level  5290 non-null   float64\n",
      " 41  secondary_cleaner.state.floatbank3_b_air    5290 non-null   float64\n",
      " 42  secondary_cleaner.state.floatbank3_b_level  5290 non-null   float64\n",
      " 43  secondary_cleaner.state.floatbank4_a_air    5290 non-null   float64\n",
      " 44  secondary_cleaner.state.floatbank4_a_level  5290 non-null   float64\n",
      " 45  secondary_cleaner.state.floatbank4_b_air    5290 non-null   float64\n",
      " 46  secondary_cleaner.state.floatbank4_b_level  5290 non-null   float64\n",
      " 47  secondary_cleaner.state.floatbank5_a_air    5290 non-null   float64\n",
      " 48  secondary_cleaner.state.floatbank5_a_level  5290 non-null   float64\n",
      " 49  secondary_cleaner.state.floatbank5_b_air    5290 non-null   float64\n",
      " 50  secondary_cleaner.state.floatbank5_b_level  5290 non-null   float64\n",
      " 51  secondary_cleaner.state.floatbank6_a_air    5290 non-null   float64\n",
      " 52  secondary_cleaner.state.floatbank6_a_level  5290 non-null   float64\n",
      "dtypes: float64(52), object(1)\n",
      "memory usage: 2.1+ MB\n",
      "None\n",
      "                  date  primary_cleaner.input.sulfate  \\\n",
      "0  2016-09-01 00:59:59                     210.800909   \n",
      "1  2016-09-01 01:59:59                     215.392455   \n",
      "2  2016-09-01 02:59:59                     215.259946   \n",
      "3  2016-09-01 03:59:59                     215.336236   \n",
      "4  2016-09-01 04:59:59                     199.099327   \n",
      "5  2016-09-01 05:59:59                     168.485085   \n",
      "6  2016-09-01 06:59:59                     144.133440   \n",
      "7  2016-09-01 07:59:59                     133.513396   \n",
      "8  2016-09-01 08:59:59                     133.735356   \n",
      "9  2016-09-01 09:59:59                     126.961069   \n",
      "\n",
      "   primary_cleaner.input.depressant  primary_cleaner.input.feed_size  \\\n",
      "0                         14.993118                         8.080000   \n",
      "1                         14.987471                         8.080000   \n",
      "2                         12.884934                         7.786667   \n",
      "3                         12.006805                         7.640000   \n",
      "4                         10.682530                         7.530000   \n",
      "5                          8.817007                         7.420000   \n",
      "6                          7.924610                         7.420000   \n",
      "7                          8.055252                         6.988000   \n",
      "8                          7.999618                         6.935000   \n",
      "9                          8.017856                         7.030000   \n",
      "\n",
      "   primary_cleaner.input.xanthate  primary_cleaner.state.floatbank8_a_air  \\\n",
      "0                        1.005021                             1398.981301   \n",
      "1                        0.990469                             1398.777912   \n",
      "2                        0.996043                             1398.493666   \n",
      "3                        0.863514                             1399.618111   \n",
      "4                        0.805575                             1401.268123   \n",
      "5                        0.791191                             1402.826803   \n",
      "6                        0.788838                             1398.252401   \n",
      "7                        0.801871                             1401.669677   \n",
      "8                        0.789329                             1402.358981   \n",
      "9                        0.805298                             1400.816120   \n",
      "\n",
      "   primary_cleaner.state.floatbank8_a_level  \\\n",
      "0                               -500.225577   \n",
      "1                               -500.057435   \n",
      "2                               -500.868360   \n",
      "3                               -498.863574   \n",
      "4                               -500.808305   \n",
      "5                               -499.299521   \n",
      "6                               -499.748672   \n",
      "7                               -501.777839   \n",
      "8                               -499.981597   \n",
      "9                               -499.014158   \n",
      "\n",
      "   primary_cleaner.state.floatbank8_b_air  \\\n",
      "0                             1399.144926   \n",
      "1                             1398.055362   \n",
      "2                             1398.860436   \n",
      "3                             1397.440120   \n",
      "4                             1398.128818   \n",
      "5                             1401.511119   \n",
      "6                             1393.255503   \n",
      "7                             1400.754446   \n",
      "8                             1400.985954   \n",
      "9                             1399.975401   \n",
      "\n",
      "   primary_cleaner.state.floatbank8_b_level  \\\n",
      "0                               -499.919735   \n",
      "1                               -499.778182   \n",
      "2                               -499.764529   \n",
      "3                               -499.211024   \n",
      "4                               -499.504543   \n",
      "5                               -499.205357   \n",
      "6                               -499.195380   \n",
      "7                               -502.514024   \n",
      "8                               -496.802968   \n",
      "9                               -499.570552   \n",
      "\n",
      "   primary_cleaner.state.floatbank8_c_air  ...  \\\n",
      "0                             1400.102998  ...   \n",
      "1                             1396.151033  ...   \n",
      "2                             1398.075709  ...   \n",
      "3                             1400.129303  ...   \n",
      "4                             1402.172226  ...   \n",
      "5                             1404.088107  ...   \n",
      "6                             1396.738566  ...   \n",
      "7                             1400.465244  ...   \n",
      "8                             1401.168584  ...   \n",
      "9                             1401.871924  ...   \n",
      "\n",
      "   secondary_cleaner.state.floatbank4_a_air  \\\n",
      "0                                 12.023554   \n",
      "1                                 12.058140   \n",
      "2                                 11.962366   \n",
      "3                                 12.033091   \n",
      "4                                 12.025367   \n",
      "5                                 12.029797   \n",
      "6                                 12.026296   \n",
      "7                                 12.040911   \n",
      "8                                 11.998184   \n",
      "9                                 12.040725   \n",
      "\n",
      "   secondary_cleaner.state.floatbank4_a_level  \\\n",
      "0                                 -497.795834   \n",
      "1                                 -498.695773   \n",
      "2                                 -498.767484   \n",
      "3                                 -498.350935   \n",
      "4                                 -500.786497   \n",
      "5                                 -499.814895   \n",
      "6                                 -499.473127   \n",
      "7                                 -501.293852   \n",
      "8                                 -499.481608   \n",
      "9                                 -499.987743   \n",
      "\n",
      "   secondary_cleaner.state.floatbank4_b_air  \\\n",
      "0                                  8.016656   \n",
      "1                                  8.130979   \n",
      "2                                  8.096893   \n",
      "3                                  8.074946   \n",
      "4                                  8.054678   \n",
      "5                                  8.036586   \n",
      "6                                  8.027984   \n",
      "7                                  8.020490   \n",
      "8                                  8.012610   \n",
      "9                                  7.989503   \n",
      "\n",
      "   secondary_cleaner.state.floatbank4_b_level  \\\n",
      "0                                 -501.289139   \n",
      "1                                 -499.634209   \n",
      "2                                 -500.827423   \n",
      "3                                 -499.474407   \n",
      "4                                 -500.397500   \n",
      "5                                 -500.371492   \n",
      "6                                 -500.983079   \n",
      "7                                 -499.185229   \n",
      "8                                 -500.896783   \n",
      "9                                 -499.750625   \n",
      "\n",
      "   secondary_cleaner.state.floatbank5_a_air  \\\n",
      "0                                  7.946562   \n",
      "1                                  7.958270   \n",
      "2                                  8.071056   \n",
      "3                                  7.897085   \n",
      "4                                  8.107890   \n",
      "5                                  8.041446   \n",
      "6                                  7.907340   \n",
      "7                                  8.116897   \n",
      "8                                  7.974422   \n",
      "9                                  7.989710   \n",
      "\n",
      "   secondary_cleaner.state.floatbank5_a_level  \\\n",
      "0                                 -432.317850   \n",
      "1                                 -525.839648   \n",
      "2                                 -500.801673   \n",
      "3                                 -500.868509   \n",
      "4                                 -509.526725   \n",
      "5                                 -510.037054   \n",
      "6                                 -507.964971   \n",
      "7                                 -511.927561   \n",
      "8                                 -521.199104   \n",
      "9                                 -509.946737   \n",
      "\n",
      "   secondary_cleaner.state.floatbank5_b_air  \\\n",
      "0                                  4.872511   \n",
      "1                                  4.878850   \n",
      "2                                  4.905125   \n",
      "3                                  4.931400   \n",
      "4                                  4.957674   \n",
      "5                                  4.983949   \n",
      "6                                  5.010224   \n",
      "7                                  5.036498   \n",
      "8                                  5.061599   \n",
      "9                                  5.068811   \n",
      "\n",
      "   secondary_cleaner.state.floatbank5_b_level  \\\n",
      "0                                 -500.037437   \n",
      "1                                 -500.162375   \n",
      "2                                 -499.828510   \n",
      "3                                 -499.963623   \n",
      "4                                 -500.360026   \n",
      "5                                 -499.990990   \n",
      "6                                 -500.043697   \n",
      "7                                 -500.149615   \n",
      "8                                 -499.791519   \n",
      "9                                 -499.293900   \n",
      "\n",
      "   secondary_cleaner.state.floatbank6_a_air  \\\n",
      "0                                 26.705889   \n",
      "1                                 25.019940   \n",
      "2                                 24.994862   \n",
      "3                                 24.948919   \n",
      "4                                 25.003331   \n",
      "5                                 24.978973   \n",
      "6                                 25.040709   \n",
      "7                                 25.032580   \n",
      "8                                 25.005063   \n",
      "9                                 24.992741   \n",
      "\n",
      "   secondary_cleaner.state.floatbank6_a_level  \n",
      "0                                 -499.709414  \n",
      "1                                 -499.819438  \n",
      "2                                 -500.622559  \n",
      "3                                 -498.709987  \n",
      "4                                 -500.856333  \n",
      "5                                 -500.475640  \n",
      "6                                 -499.501984  \n",
      "7                                 -503.970657  \n",
      "8                                 -497.613716  \n",
      "9                                 -499.272255  \n",
      "\n",
      "[10 rows x 53 columns]\n",
      "Дубликатов: 0\n",
      "Размер датасета: (5290, 53)\n"
     ]
    }
   ],
   "source": [
    "data_test = pd.read_csv('/datasets/gold_recovery_test_new.csv')\n",
    "print(data_test.info())\n",
    "print(data_test.head(10))\n",
    "print('Дубликатов:', data_test.duplicated().sum())\n",
    "print('Размер датасета:', data_test.shape)"
   ]
  },
  {
   "cell_type": "code",
   "execution_count": 4,
   "metadata": {},
   "outputs": [
    {
     "name": "stdout",
     "output_type": "stream",
     "text": [
      "<class 'pandas.core.frame.DataFrame'>\n",
      "RangeIndex: 19439 entries, 0 to 19438\n",
      "Data columns (total 87 columns):\n",
      " #   Column                                              Non-Null Count  Dtype  \n",
      "---  ------                                              --------------  -----  \n",
      " 0   date                                                19439 non-null  object \n",
      " 1   final.output.concentrate_ag                         19438 non-null  float64\n",
      " 2   final.output.concentrate_pb                         19438 non-null  float64\n",
      " 3   final.output.concentrate_sol                        19228 non-null  float64\n",
      " 4   final.output.concentrate_au                         19439 non-null  float64\n",
      " 5   final.output.recovery                               19439 non-null  float64\n",
      " 6   final.output.tail_ag                                19438 non-null  float64\n",
      " 7   final.output.tail_pb                                19338 non-null  float64\n",
      " 8   final.output.tail_sol                               19433 non-null  float64\n",
      " 9   final.output.tail_au                                19439 non-null  float64\n",
      " 10  primary_cleaner.input.sulfate                       19415 non-null  float64\n",
      " 11  primary_cleaner.input.depressant                    19402 non-null  float64\n",
      " 12  primary_cleaner.input.feed_size                     19439 non-null  float64\n",
      " 13  primary_cleaner.input.xanthate                      19335 non-null  float64\n",
      " 14  primary_cleaner.output.concentrate_ag               19439 non-null  float64\n",
      " 15  primary_cleaner.output.concentrate_pb               19323 non-null  float64\n",
      " 16  primary_cleaner.output.concentrate_sol              19069 non-null  float64\n",
      " 17  primary_cleaner.output.concentrate_au               19439 non-null  float64\n",
      " 18  primary_cleaner.output.tail_ag                      19435 non-null  float64\n",
      " 19  primary_cleaner.output.tail_pb                      19418 non-null  float64\n",
      " 20  primary_cleaner.output.tail_sol                     19377 non-null  float64\n",
      " 21  primary_cleaner.output.tail_au                      19439 non-null  float64\n",
      " 22  primary_cleaner.state.floatbank8_a_air              19435 non-null  float64\n",
      " 23  primary_cleaner.state.floatbank8_a_level            19438 non-null  float64\n",
      " 24  primary_cleaner.state.floatbank8_b_air              19435 non-null  float64\n",
      " 25  primary_cleaner.state.floatbank8_b_level            19438 non-null  float64\n",
      " 26  primary_cleaner.state.floatbank8_c_air              19437 non-null  float64\n",
      " 27  primary_cleaner.state.floatbank8_c_level            19438 non-null  float64\n",
      " 28  primary_cleaner.state.floatbank8_d_air              19436 non-null  float64\n",
      " 29  primary_cleaner.state.floatbank8_d_level            19438 non-null  float64\n",
      " 30  rougher.calculation.sulfate_to_au_concentrate       19437 non-null  float64\n",
      " 31  rougher.calculation.floatbank10_sulfate_to_au_feed  19437 non-null  float64\n",
      " 32  rougher.calculation.floatbank11_sulfate_to_au_feed  19437 non-null  float64\n",
      " 33  rougher.calculation.au_pb_ratio                     19439 non-null  float64\n",
      " 34  rougher.input.feed_ag                               19439 non-null  float64\n",
      " 35  rougher.input.feed_pb                               19339 non-null  float64\n",
      " 36  rougher.input.feed_rate                             19428 non-null  float64\n",
      " 37  rougher.input.feed_size                             19294 non-null  float64\n",
      " 38  rougher.input.feed_sol                              19340 non-null  float64\n",
      " 39  rougher.input.feed_au                               19439 non-null  float64\n",
      " 40  rougher.input.floatbank10_sulfate                   19405 non-null  float64\n",
      " 41  rougher.input.floatbank10_xanthate                  19431 non-null  float64\n",
      " 42  rougher.input.floatbank11_sulfate                   19395 non-null  float64\n",
      " 43  rougher.input.floatbank11_xanthate                  18986 non-null  float64\n",
      " 44  rougher.output.concentrate_ag                       19439 non-null  float64\n",
      " 45  rougher.output.concentrate_pb                       19439 non-null  float64\n",
      " 46  rougher.output.concentrate_sol                      19416 non-null  float64\n",
      " 47  rougher.output.concentrate_au                       19439 non-null  float64\n",
      " 48  rougher.output.recovery                             19439 non-null  float64\n",
      " 49  rougher.output.tail_ag                              19438 non-null  float64\n",
      " 50  rougher.output.tail_pb                              19439 non-null  float64\n",
      " 51  rougher.output.tail_sol                             19439 non-null  float64\n",
      " 52  rougher.output.tail_au                              19439 non-null  float64\n",
      " 53  rougher.state.floatbank10_a_air                     19438 non-null  float64\n",
      " 54  rougher.state.floatbank10_a_level                   19438 non-null  float64\n",
      " 55  rougher.state.floatbank10_b_air                     19438 non-null  float64\n",
      " 56  rougher.state.floatbank10_b_level                   19438 non-null  float64\n",
      " 57  rougher.state.floatbank10_c_air                     19438 non-null  float64\n",
      " 58  rougher.state.floatbank10_c_level                   19438 non-null  float64\n",
      " 59  rougher.state.floatbank10_d_air                     19439 non-null  float64\n",
      " 60  rougher.state.floatbank10_d_level                   19439 non-null  float64\n",
      " 61  rougher.state.floatbank10_e_air                     19003 non-null  float64\n",
      " 62  rougher.state.floatbank10_e_level                   19439 non-null  float64\n",
      " 63  rougher.state.floatbank10_f_air                     19439 non-null  float64\n",
      " 64  rougher.state.floatbank10_f_level                   19439 non-null  float64\n",
      " 65  secondary_cleaner.output.tail_ag                    19437 non-null  float64\n",
      " 66  secondary_cleaner.output.tail_pb                    19427 non-null  float64\n",
      " 67  secondary_cleaner.output.tail_sol                   17691 non-null  float64\n",
      " 68  secondary_cleaner.output.tail_au                    19439 non-null  float64\n",
      " 69  secondary_cleaner.state.floatbank2_a_air            19219 non-null  float64\n",
      " 70  secondary_cleaner.state.floatbank2_a_level          19438 non-null  float64\n",
      " 71  secondary_cleaner.state.floatbank2_b_air            19416 non-null  float64\n",
      " 72  secondary_cleaner.state.floatbank2_b_level          19438 non-null  float64\n",
      " 73  secondary_cleaner.state.floatbank3_a_air            19426 non-null  float64\n",
      " 74  secondary_cleaner.state.floatbank3_a_level          19438 non-null  float64\n",
      " 75  secondary_cleaner.state.floatbank3_b_air            19438 non-null  float64\n",
      " 76  secondary_cleaner.state.floatbank3_b_level          19438 non-null  float64\n",
      " 77  secondary_cleaner.state.floatbank4_a_air            19433 non-null  float64\n",
      " 78  secondary_cleaner.state.floatbank4_a_level          19438 non-null  float64\n",
      " 79  secondary_cleaner.state.floatbank4_b_air            19438 non-null  float64\n",
      " 80  secondary_cleaner.state.floatbank4_b_level          19438 non-null  float64\n",
      " 81  secondary_cleaner.state.floatbank5_a_air            19438 non-null  float64\n",
      " 82  secondary_cleaner.state.floatbank5_a_level          19438 non-null  float64\n",
      " 83  secondary_cleaner.state.floatbank5_b_air            19438 non-null  float64\n",
      " 84  secondary_cleaner.state.floatbank5_b_level          19438 non-null  float64\n",
      " 85  secondary_cleaner.state.floatbank6_a_air            19437 non-null  float64\n",
      " 86  secondary_cleaner.state.floatbank6_a_level          19438 non-null  float64\n",
      "dtypes: float64(86), object(1)\n",
      "memory usage: 12.9+ MB\n",
      "None\n",
      "                  date  final.output.concentrate_ag  \\\n",
      "0  2016-01-15 00:00:00                     6.055403   \n",
      "1  2016-01-15 01:00:00                     6.029369   \n",
      "2  2016-01-15 02:00:00                     6.055926   \n",
      "3  2016-01-15 03:00:00                     6.047977   \n",
      "4  2016-01-15 04:00:00                     6.148599   \n",
      "5  2016-01-15 05:00:00                     6.482968   \n",
      "6  2016-01-15 06:00:00                     6.533849   \n",
      "7  2016-01-15 07:00:00                     6.130823   \n",
      "8  2016-01-15 08:00:00                     5.834140   \n",
      "9  2016-01-15 09:00:00                     5.687063   \n",
      "\n",
      "   final.output.concentrate_pb  final.output.concentrate_sol  \\\n",
      "0                     9.889648                      5.507324   \n",
      "1                     9.968944                      5.257781   \n",
      "2                    10.213995                      5.383759   \n",
      "3                     9.977019                      4.858634   \n",
      "4                    10.142511                      4.939416   \n",
      "5                    10.049416                      5.480257   \n",
      "6                    10.058141                      4.569100   \n",
      "7                     9.935481                      4.389813   \n",
      "8                    10.071156                      4.876389   \n",
      "9                     9.980404                      5.282514   \n",
      "\n",
      "   final.output.concentrate_au  final.output.recovery  final.output.tail_ag  \\\n",
      "0                    42.192020              70.541216             10.411962   \n",
      "1                    42.701629              69.266198             10.462676   \n",
      "2                    42.657501              68.116445             10.507046   \n",
      "3                    42.689819              68.347543             10.422762   \n",
      "4                    42.774141              66.927016             10.360302   \n",
      "5                    41.633678              69.465816             10.182708   \n",
      "6                    41.995316              69.300835             10.304598   \n",
      "7                    42.452727              70.230976             10.443288   \n",
      "8                    43.404078              69.688595             10.420140   \n",
      "9                    43.235220              70.279619             10.487013   \n",
      "\n",
      "   final.output.tail_pb  final.output.tail_sol  final.output.tail_au  ...  \\\n",
      "0              0.895447              16.904297              2.143149  ...   \n",
      "1              0.927452              16.634514              2.224930  ...   \n",
      "2              0.953716              16.208849              2.257889  ...   \n",
      "3              0.883763              16.532835              2.146849  ...   \n",
      "4              0.792826              16.525686              2.055292  ...   \n",
      "5              0.664118              16.999638              1.918586  ...   \n",
      "6              0.807342              16.723575              2.058913  ...   \n",
      "7              0.949346              16.689959              2.143437  ...   \n",
      "8              1.065453              17.201948              2.209881  ...   \n",
      "9              1.159805              17.483979              2.209593  ...   \n",
      "\n",
      "   secondary_cleaner.state.floatbank4_a_air  \\\n",
      "0                                 14.016835   \n",
      "1                                 13.992281   \n",
      "2                                 14.015015   \n",
      "3                                 14.036510   \n",
      "4                                 14.027298   \n",
      "5                                 13.938497   \n",
      "6                                 14.046819   \n",
      "7                                 13.974691   \n",
      "8                                 13.964030   \n",
      "9                                 13.989632   \n",
      "\n",
      "   secondary_cleaner.state.floatbank4_a_level  \\\n",
      "0                                 -502.488007   \n",
      "1                                 -505.503262   \n",
      "2                                 -502.520901   \n",
      "3                                 -500.857308   \n",
      "4                                 -499.838632   \n",
      "5                                 -500.970168   \n",
      "6                                 -500.971133   \n",
      "7                                 -501.819696   \n",
      "8                                 -504.252450   \n",
      "9                                 -503.195299   \n",
      "\n",
      "   secondary_cleaner.state.floatbank4_b_air  \\\n",
      "0                                 12.099931   \n",
      "1                                 11.950531   \n",
      "2                                 11.912783   \n",
      "3                                 11.999550   \n",
      "4                                 11.953070   \n",
      "5                                 11.883350   \n",
      "6                                 12.091543   \n",
      "7                                 12.101324   \n",
      "8                                 12.060738   \n",
      "9                                 12.052233   \n",
      "\n",
      "   secondary_cleaner.state.floatbank4_b_level  \\\n",
      "0                                 -504.715942   \n",
      "1                                 -501.331529   \n",
      "2                                 -501.133383   \n",
      "3                                 -501.193686   \n",
      "4                                 -501.053894   \n",
      "5                                 -500.395298   \n",
      "6                                 -500.501426   \n",
      "7                                 -500.583446   \n",
      "8                                 -501.174549   \n",
      "9                                 -500.928547   \n",
      "\n",
      "   secondary_cleaner.state.floatbank5_a_air  \\\n",
      "0                                  9.925633   \n",
      "1                                 10.039245   \n",
      "2                                 10.070913   \n",
      "3                                  9.970366   \n",
      "4                                  9.925709   \n",
      "5                                 10.054147   \n",
      "6                                 10.003247   \n",
      "7                                  9.873169   \n",
      "8                                 10.033838   \n",
      "9                                  9.962574   \n",
      "\n",
      "   secondary_cleaner.state.floatbank5_a_level  \\\n",
      "0                                 -498.310211   \n",
      "1                                 -500.169983   \n",
      "2                                 -500.129135   \n",
      "3                                 -499.201640   \n",
      "4                                 -501.686727   \n",
      "5                                 -496.374715   \n",
      "6                                 -497.083180   \n",
      "7                                 -499.171928   \n",
      "8                                 -501.178133   \n",
      "9                                 -502.986357   \n",
      "\n",
      "   secondary_cleaner.state.floatbank5_b_air  \\\n",
      "0                                  8.079666   \n",
      "1                                  7.984757   \n",
      "2                                  8.013877   \n",
      "3                                  7.977324   \n",
      "4                                  7.894242   \n",
      "5                                  7.965083   \n",
      "6                                  8.010890   \n",
      "7                                  7.993381   \n",
      "8                                  7.881604   \n",
      "9                                  7.979219   \n",
      "\n",
      "   secondary_cleaner.state.floatbank5_b_level  \\\n",
      "0                                 -500.470978   \n",
      "1                                 -500.582168   \n",
      "2                                 -500.517572   \n",
      "3                                 -500.255908   \n",
      "4                                 -500.356035   \n",
      "5                                 -499.364752   \n",
      "6                                 -500.002423   \n",
      "7                                 -499.794518   \n",
      "8                                 -499.729434   \n",
      "9                                 -500.146835   \n",
      "\n",
      "   secondary_cleaner.state.floatbank6_a_air  \\\n",
      "0                                 14.151341   \n",
      "1                                 13.998353   \n",
      "2                                 14.028663   \n",
      "3                                 14.005551   \n",
      "4                                 13.996647   \n",
      "5                                 14.017067   \n",
      "6                                 14.029649   \n",
      "7                                 13.984498   \n",
      "8                                 13.967135   \n",
      "9                                 13.981614   \n",
      "\n",
      "   secondary_cleaner.state.floatbank6_a_level  \n",
      "0                                 -605.841980  \n",
      "1                                 -599.787184  \n",
      "2                                 -601.427363  \n",
      "3                                 -599.996129  \n",
      "4                                 -601.496691  \n",
      "5                                 -599.707915  \n",
      "6                                 -600.905470  \n",
      "7                                 -600.411070  \n",
      "8                                 -599.061188  \n",
      "9                                 -598.070855  \n",
      "\n",
      "[10 rows x 87 columns]\n",
      "Дубликатов: 0\n",
      "Размер датасета: (19439, 87)\n"
     ]
    }
   ],
   "source": [
    "data_full = pd.read_csv('/datasets/gold_recovery_full_new.csv')\n",
    "print(data_full.info())\n",
    "print(data_full.head(10))\n",
    "print('Дубликатов:', data_full.duplicated().sum())\n",
    "print('Размер датасета:', data_full.shape)"
   ]
  },
  {
   "cell_type": "markdown",
   "metadata": {},
   "source": [
    "### Проверим, что эффективность обогащения рассчитана правильно"
   ]
  },
  {
   "cell_type": "code",
   "execution_count": 5,
   "metadata": {},
   "outputs": [
    {
     "name": "stdout",
     "output_type": "stream",
     "text": [
      "Эффективность обогащения чернового концентрата 0        87.107763\n",
      "1        86.843261\n",
      "2        86.842308\n",
      "3        87.226430\n",
      "4        86.688794\n",
      "           ...    \n",
      "14144    89.574376\n",
      "14145    87.724007\n",
      "14146    88.890579\n",
      "14147    89.858126\n",
      "14148    89.514960\n",
      "Length: 14149, dtype: float64\n",
      "Абсолютная средняя ошибка = 1.0748911125799084e-14\n"
     ]
    }
   ],
   "source": [
    "# рассчитаем recovery\n",
    "recovery = (data_train['rougher.output.concentrate_au'] * (data_train['rougher.input.feed_au'] - data_train['rougher.output.tail_au']) / data_train['rougher.input.feed_au'] \n",
    "                        / (data_train['rougher.output.concentrate_au'] - data_train['rougher.output.tail_au']) * 100)\n",
    "\n",
    "print('Эффективность обогащения чернового концентрата', recovery)\n",
    "print('Абсолютная средняя ошибка =', mean_absolute_error(data_train['rougher.output.recovery'], recovery))"
   ]
  },
  {
   "cell_type": "markdown",
   "metadata": {},
   "source": [
    "<b>Вывод: </b> Значения МАЕ близки к 0. Значит эффективность обогащения рассчитана правильно."
   ]
  },
  {
   "cell_type": "markdown",
   "metadata": {},
   "source": [
    "### Проанализирем признаки, недоступные в тестовой выборке"
   ]
  },
  {
   "cell_type": "code",
   "execution_count": 6,
   "metadata": {},
   "outputs": [],
   "source": [
    "# копируем data_train для анализа\n",
    "data_train_copy = data_train.copy()"
   ]
  },
  {
   "cell_type": "code",
   "execution_count": 7,
   "metadata": {},
   "outputs": [],
   "source": [
    "# убираем признаки из data_train, которые есть в data_test\n",
    "data_train_copy = data_train_copy.drop(columns=list(data_test.columns))"
   ]
  },
  {
   "cell_type": "code",
   "execution_count": 8,
   "metadata": {},
   "outputs": [
    {
     "name": "stdout",
     "output_type": "stream",
     "text": [
      "<class 'pandas.core.frame.DataFrame'>\n",
      "RangeIndex: 14149 entries, 0 to 14148\n",
      "Data columns (total 34 columns):\n",
      " #   Column                                              Non-Null Count  Dtype  \n",
      "---  ------                                              --------------  -----  \n",
      " 0   final.output.concentrate_ag                         14148 non-null  float64\n",
      " 1   final.output.concentrate_pb                         14148 non-null  float64\n",
      " 2   final.output.concentrate_sol                        13938 non-null  float64\n",
      " 3   final.output.concentrate_au                         14149 non-null  float64\n",
      " 4   final.output.recovery                               14149 non-null  float64\n",
      " 5   final.output.tail_ag                                14149 non-null  float64\n",
      " 6   final.output.tail_pb                                14049 non-null  float64\n",
      " 7   final.output.tail_sol                               14144 non-null  float64\n",
      " 8   final.output.tail_au                                14149 non-null  float64\n",
      " 9   primary_cleaner.output.concentrate_ag               14149 non-null  float64\n",
      " 10  primary_cleaner.output.concentrate_pb               14063 non-null  float64\n",
      " 11  primary_cleaner.output.concentrate_sol              13863 non-null  float64\n",
      " 12  primary_cleaner.output.concentrate_au               14149 non-null  float64\n",
      " 13  primary_cleaner.output.tail_ag                      14148 non-null  float64\n",
      " 14  primary_cleaner.output.tail_pb                      14134 non-null  float64\n",
      " 15  primary_cleaner.output.tail_sol                     14103 non-null  float64\n",
      " 16  primary_cleaner.output.tail_au                      14149 non-null  float64\n",
      " 17  rougher.calculation.sulfate_to_au_concentrate       14148 non-null  float64\n",
      " 18  rougher.calculation.floatbank10_sulfate_to_au_feed  14148 non-null  float64\n",
      " 19  rougher.calculation.floatbank11_sulfate_to_au_feed  14148 non-null  float64\n",
      " 20  rougher.calculation.au_pb_ratio                     14149 non-null  float64\n",
      " 21  rougher.output.concentrate_ag                       14149 non-null  float64\n",
      " 22  rougher.output.concentrate_pb                       14149 non-null  float64\n",
      " 23  rougher.output.concentrate_sol                      14127 non-null  float64\n",
      " 24  rougher.output.concentrate_au                       14149 non-null  float64\n",
      " 25  rougher.output.recovery                             14149 non-null  float64\n",
      " 26  rougher.output.tail_ag                              14148 non-null  float64\n",
      " 27  rougher.output.tail_pb                              14149 non-null  float64\n",
      " 28  rougher.output.tail_sol                             14149 non-null  float64\n",
      " 29  rougher.output.tail_au                              14149 non-null  float64\n",
      " 30  secondary_cleaner.output.tail_ag                    14147 non-null  float64\n",
      " 31  secondary_cleaner.output.tail_pb                    14139 non-null  float64\n",
      " 32  secondary_cleaner.output.tail_sol                   12544 non-null  float64\n",
      " 33  secondary_cleaner.output.tail_au                    14149 non-null  float64\n",
      "dtypes: float64(34)\n",
      "memory usage: 3.7 MB\n",
      "None\n",
      "   final.output.concentrate_ag  final.output.concentrate_pb  \\\n",
      "0                     6.055403                     9.889648   \n",
      "1                     6.029369                     9.968944   \n",
      "2                     6.055926                    10.213995   \n",
      "3                     6.047977                     9.977019   \n",
      "4                     6.148599                    10.142511   \n",
      "5                     6.482968                    10.049416   \n",
      "6                     6.533849                    10.058141   \n",
      "7                     6.130823                     9.935481   \n",
      "8                     5.834140                    10.071156   \n",
      "9                     5.687063                     9.980404   \n",
      "\n",
      "   final.output.concentrate_sol  final.output.concentrate_au  \\\n",
      "0                      5.507324                    42.192020   \n",
      "1                      5.257781                    42.701629   \n",
      "2                      5.383759                    42.657501   \n",
      "3                      4.858634                    42.689819   \n",
      "4                      4.939416                    42.774141   \n",
      "5                      5.480257                    41.633678   \n",
      "6                      4.569100                    41.995316   \n",
      "7                      4.389813                    42.452727   \n",
      "8                      4.876389                    43.404078   \n",
      "9                      5.282514                    43.235220   \n",
      "\n",
      "   final.output.recovery  final.output.tail_ag  final.output.tail_pb  \\\n",
      "0              70.541216             10.411962              0.895447   \n",
      "1              69.266198             10.462676              0.927452   \n",
      "2              68.116445             10.507046              0.953716   \n",
      "3              68.347543             10.422762              0.883763   \n",
      "4              66.927016             10.360302              0.792826   \n",
      "5              69.465816             10.182708              0.664118   \n",
      "6              69.300835             10.304598              0.807342   \n",
      "7              70.230976             10.443288              0.949346   \n",
      "8              69.688595             10.420140              1.065453   \n",
      "9              70.279619             10.487013              1.159805   \n",
      "\n",
      "   final.output.tail_sol  final.output.tail_au  \\\n",
      "0              16.904297              2.143149   \n",
      "1              16.634514              2.224930   \n",
      "2              16.208849              2.257889   \n",
      "3              16.532835              2.146849   \n",
      "4              16.525686              2.055292   \n",
      "5              16.999638              1.918586   \n",
      "6              16.723575              2.058913   \n",
      "7              16.689959              2.143437   \n",
      "8              17.201948              2.209881   \n",
      "9              17.483979              2.209593   \n",
      "\n",
      "   primary_cleaner.output.concentrate_ag  ...  rougher.output.concentrate_au  \\\n",
      "0                               8.547551  ...                      19.793808   \n",
      "1                               8.558743  ...                      20.050975   \n",
      "2                               8.603505  ...                      19.737170   \n",
      "3                               7.221879  ...                      19.320810   \n",
      "4                               9.089428  ...                      19.216101   \n",
      "5                               9.553724  ...                      18.950385   \n",
      "6                               8.968869  ...                      19.319591   \n",
      "7                               8.545238  ...                      19.507897   \n",
      "8                               8.046686  ...                      19.789465   \n",
      "9                               8.098985  ...                      19.497669   \n",
      "\n",
      "   rougher.output.recovery  rougher.output.tail_ag  rougher.output.tail_pb  \\\n",
      "0                87.107763                5.008018                0.508728   \n",
      "1                86.843261                4.955378                0.536689   \n",
      "2                86.842308                4.843460                0.546416   \n",
      "3                87.226430                4.655288                0.542525   \n",
      "4                86.688794                4.552800                0.515438   \n",
      "5                88.156912                4.397415                0.491350   \n",
      "6                88.168065                4.478080                0.518266   \n",
      "7                87.668336                4.728325                0.548067   \n",
      "8                87.035862                4.764300                0.599181   \n",
      "9                87.650868                4.667157                0.615418   \n",
      "\n",
      "   rougher.output.tail_sol  rougher.output.tail_au  \\\n",
      "0                19.154297                1.170244   \n",
      "1                18.965234                1.184827   \n",
      "2                18.808533                1.162562   \n",
      "3                19.330200                1.079755   \n",
      "4                19.267422                1.012642   \n",
      "5                19.640269                0.915835   \n",
      "6                19.262491                0.986248   \n",
      "7                18.861866                1.116110   \n",
      "8                18.873082                1.186780   \n",
      "9                18.907179                1.167140   \n",
      "\n",
      "   secondary_cleaner.output.tail_ag  secondary_cleaner.output.tail_pb  \\\n",
      "0                         14.500184                          4.694824   \n",
      "1                         14.265474                          4.592547   \n",
      "2                         14.115662                          4.624775   \n",
      "3                         13.732071                          4.482453   \n",
      "4                         14.079996                          4.470737   \n",
      "5                         13.615012                          4.286817   \n",
      "6                         13.597056                          4.487865   \n",
      "7                         13.177237                          4.432448   \n",
      "8                         13.487870                          4.608756   \n",
      "9                         13.209191                          4.550553   \n",
      "\n",
      "   secondary_cleaner.output.tail_sol  secondary_cleaner.output.tail_au  \n",
      "0                           8.764648                          2.606185  \n",
      "1                           9.001494                          2.488248  \n",
      "2                           8.842896                          2.458187  \n",
      "3                           9.122857                          2.322062  \n",
      "4                           8.871028                          2.330448  \n",
      "5                           9.302669                          2.192127  \n",
      "6                           9.103047                          2.316720  \n",
      "7                           9.369209                          2.192197  \n",
      "8                           9.437044                          2.212084  \n",
      "9                           9.813732                          2.073737  \n",
      "\n",
      "[10 rows x 34 columns]\n"
     ]
    }
   ],
   "source": [
    "print(data_train_copy.info())\n",
    "print(data_train_copy.head(10))"
   ]
  },
  {
   "cell_type": "markdown",
   "metadata": {},
   "source": [
    "<b>Вывод: </b> Некоторые параметры недоступны т.к. рассчитываются значительно позже. Из-за этого в тестовой выборке отсутствуют некоторые признаки, которые могут быть в обучающей. Также в тестовом наборе нет целевых признаков. Скорее всего столбцы этапов rougher.output, rougher.calculation, final.output, primary_cleaner.output и secondary_cleaner.output отсутсвуют в тестовой выборке т.к. заполняются после тех. процессов"
   ]
  },
  {
   "cell_type": "markdown",
   "metadata": {},
   "source": [
    "### Проведем предобработку данных"
   ]
  },
  {
   "cell_type": "code",
   "execution_count": 9,
   "metadata": {},
   "outputs": [
    {
     "name": "stdout",
     "output_type": "stream",
     "text": [
      "date                                            0\n",
      "final.output.concentrate_ag                     1\n",
      "final.output.concentrate_pb                     1\n",
      "final.output.concentrate_sol                  211\n",
      "final.output.concentrate_au                     0\n",
      "                                             ... \n",
      "secondary_cleaner.state.floatbank5_a_level      1\n",
      "secondary_cleaner.state.floatbank5_b_air        1\n",
      "secondary_cleaner.state.floatbank5_b_level      1\n",
      "secondary_cleaner.state.floatbank6_a_air        2\n",
      "secondary_cleaner.state.floatbank6_a_level      1\n",
      "Length: 87, dtype: int64\n"
     ]
    }
   ],
   "source": [
    "# проверим количесто пропусков\n",
    "print(data_train.isna().sum())\n"
   ]
  },
  {
   "cell_type": "code",
   "execution_count": 10,
   "metadata": {
    "scrolled": true
   },
   "outputs": [
    {
     "name": "stdout",
     "output_type": "stream",
     "text": [
      "date                                           0\n",
      "primary_cleaner.input.sulfate                  4\n",
      "primary_cleaner.input.depressant               5\n",
      "primary_cleaner.input.feed_size                0\n",
      "primary_cleaner.input.xanthate                 4\n",
      "primary_cleaner.state.floatbank8_a_air         0\n",
      "primary_cleaner.state.floatbank8_a_level       0\n",
      "primary_cleaner.state.floatbank8_b_air         0\n",
      "primary_cleaner.state.floatbank8_b_level       0\n",
      "primary_cleaner.state.floatbank8_c_air         0\n",
      "primary_cleaner.state.floatbank8_c_level       0\n",
      "primary_cleaner.state.floatbank8_d_air         0\n",
      "primary_cleaner.state.floatbank8_d_level       0\n",
      "rougher.input.feed_ag                          0\n",
      "rougher.input.feed_pb                          0\n",
      "rougher.input.feed_rate                        3\n",
      "rougher.input.feed_size                        1\n",
      "rougher.input.feed_sol                        21\n",
      "rougher.input.feed_au                          0\n",
      "rougher.input.floatbank10_sulfate              5\n",
      "rougher.input.floatbank10_xanthate             0\n",
      "rougher.input.floatbank11_sulfate              8\n",
      "rougher.input.floatbank11_xanthate            25\n",
      "rougher.state.floatbank10_a_air                0\n",
      "rougher.state.floatbank10_a_level              0\n",
      "rougher.state.floatbank10_b_air                0\n",
      "rougher.state.floatbank10_b_level              0\n",
      "rougher.state.floatbank10_c_air                0\n",
      "rougher.state.floatbank10_c_level              0\n",
      "rougher.state.floatbank10_d_air                0\n",
      "rougher.state.floatbank10_d_level              0\n",
      "rougher.state.floatbank10_e_air                0\n",
      "rougher.state.floatbank10_e_level              0\n",
      "rougher.state.floatbank10_f_air                0\n",
      "rougher.state.floatbank10_f_level              0\n",
      "secondary_cleaner.state.floatbank2_a_air       3\n",
      "secondary_cleaner.state.floatbank2_a_level     0\n",
      "secondary_cleaner.state.floatbank2_b_air       2\n",
      "secondary_cleaner.state.floatbank2_b_level     0\n",
      "secondary_cleaner.state.floatbank3_a_air       9\n",
      "secondary_cleaner.state.floatbank3_a_level     0\n",
      "secondary_cleaner.state.floatbank3_b_air       0\n",
      "secondary_cleaner.state.floatbank3_b_level     0\n",
      "secondary_cleaner.state.floatbank4_a_air       0\n",
      "secondary_cleaner.state.floatbank4_a_level     0\n",
      "secondary_cleaner.state.floatbank4_b_air       0\n",
      "secondary_cleaner.state.floatbank4_b_level     0\n",
      "secondary_cleaner.state.floatbank5_a_air       0\n",
      "secondary_cleaner.state.floatbank5_a_level     0\n",
      "secondary_cleaner.state.floatbank5_b_air       0\n",
      "secondary_cleaner.state.floatbank5_b_level     0\n",
      "secondary_cleaner.state.floatbank6_a_air       0\n",
      "secondary_cleaner.state.floatbank6_a_level     0\n",
      "dtype: int64\n"
     ]
    }
   ],
   "source": [
    "# проверим количесто пропусков\n",
    "print(data_test.isna().sum())\n"
   ]
  },
  {
   "cell_type": "code",
   "execution_count": 11,
   "metadata": {
    "scrolled": true
   },
   "outputs": [
    {
     "name": "stdout",
     "output_type": "stream",
     "text": [
      "date                                            0\n",
      "final.output.concentrate_ag                     1\n",
      "final.output.concentrate_pb                     1\n",
      "final.output.concentrate_sol                  211\n",
      "final.output.concentrate_au                     0\n",
      "                                             ... \n",
      "secondary_cleaner.state.floatbank5_a_level      1\n",
      "secondary_cleaner.state.floatbank5_b_air        1\n",
      "secondary_cleaner.state.floatbank5_b_level      1\n",
      "secondary_cleaner.state.floatbank6_a_air        2\n",
      "secondary_cleaner.state.floatbank6_a_level      1\n",
      "Length: 87, dtype: int64\n"
     ]
    }
   ],
   "source": [
    "# проверим количесто пропусков\n",
    "print(data_full.isna().sum())\n"
   ]
  },
  {
   "cell_type": "code",
   "execution_count": 12,
   "metadata": {},
   "outputs": [],
   "source": [
    "# Заполним пропуски ближайшими значениями\n",
    "data_train = data_train.fillna(method='bfill')\n",
    "data_test = data_test.fillna(method='bfill')\n",
    "data_full = data_full.fillna(method='bfill')"
   ]
  },
  {
   "cell_type": "code",
   "execution_count": 13,
   "metadata": {},
   "outputs": [],
   "source": [
    "#data_train = data_train.drop(['date'], axis=1)\n",
    "#data_test = data_test.drop(['date'], axis=1)"
   ]
  },
  {
   "cell_type": "markdown",
   "metadata": {},
   "source": [
    "<b>Вывод: </b> Обработали пропуски - заменили на ближайшие значения. В дальнейшем в обучающей вывборки удалим признаки, отсутсвующие в тестовой выборке, чтобы избежать некорректных предсказаний. "
   ]
  },
  {
   "cell_type": "markdown",
   "metadata": {},
   "source": [
    "## Анализ данных"
   ]
  },
  {
   "cell_type": "markdown",
   "metadata": {},
   "source": [
    "### Анализ концентрации металлов (Au, Ag, Pb) на различных этапах очистки"
   ]
  },
  {
   "cell_type": "code",
   "execution_count": 14,
   "metadata": {},
   "outputs": [
    {
     "data": {
      "image/png": "[encoded data removed]",
      "text/plain": [
       "<Figure size 1080x360 with 1 Axes>"
      ]
     },
     "metadata": {
      "needs_background": "light"
     },
     "output_type": "display_data"
    }
   ],
   "source": [
    "# Золото\n",
    "plt.figure(figsize=(15,5))\n",
    "data_train['rougher.input.feed_au'].hist(bins=25, label='rougher.input.feed', alpha=0.8)\n",
    "data_train['rougher.output.concentrate_au'].hist(bins=25, label='rougher.output', alpha=0.5)\n",
    "data_train['primary_cleaner.output.concentrate_au'].hist(bins=25, label='primary_cleaner.output', alpha=0.5)\n",
    "data_train['final.output.concentrate_au'].hist(bins=25, label='secondary_cleaner.output', alpha=0.5)\n",
    "plt.title('Диаграмма концентрации золота au')\n",
    "plt.xlabel('Значения')\n",
    "plt.ylabel('Количество')\n",
    "plt.legend(loc='lower right')\n",
    "plt.show()"
   ]
  },
  {
   "cell_type": "markdown",
   "metadata": {},
   "source": [
    "Концентарция золота повышается на каждом этапе обработки сырья"
   ]
  },
  {
   "cell_type": "code",
   "execution_count": 16,
   "metadata": {},
   "outputs": [
    {
     "data": {
      "image/png": "[encoded data removed]",
      "text/plain": [
       "<Figure size 1080x360 with 1 Axes>"
      ]
     },
     "metadata": {
      "needs_background": "light"
     },
     "output_type": "display_data"
    }
   ],
   "source": [
    "# Серебро\n",
    "plt.figure(figsize=(15,5))\n",
    "data_train['rougher.input.feed_ag'].hist(bins=25, label='rougher.input.feed', alpha=0.8)\n",
    "data_train['rougher.output.concentrate_ag'].hist(bins=25, label='rougher.output', alpha=0.5)\n",
    "data_train['primary_cleaner.output.concentrate_ag'].hist(bins=25, label='primary_cleaner.output', alpha=0.5)\n",
    "data_train['final.output.concentrate_ag'].hist(bins=25, label='secondary_cleaner.output', alpha=0.5)\n",
    "plt.title('Диаграмма концентрации серебра ag')\n",
    "plt.xlabel('Значения')\n",
    "plt.ylabel('Количество')\n",
    "plt.legend(loc='lower right')\n",
    "plt.show()"
   ]
  },
  {
   "cell_type": "markdown",
   "metadata": {},
   "source": [
    "После первого этапа концентрация серебра увеличивается, потом уменьшается."
   ]
  },
  {
   "cell_type": "code",
   "execution_count": 18,
   "metadata": {},
   "outputs": [
    {
     "data": {
      "image/png": "[encoded data removed]",
      "text/plain": [
       "<Figure size 1080x360 with 1 Axes>"
      ]
     },
     "metadata": {
      "needs_background": "light"
     },
     "output_type": "display_data"
    }
   ],
   "source": [
    "# Свинец\n",
    "plt.figure(figsize=(15,5))\n",
    "data_train['rougher.input.feed_pb'].hist(bins=25, label='rougher.input.feed', alpha=0.8)\n",
    "data_train['rougher.output.concentrate_pb'].hist(bins=25, label='rougher.output', alpha=0.5)\n",
    "data_train['primary_cleaner.output.concentrate_pb'].hist(bins=25, label='primary_cleaner.output', alpha=0.5)\n",
    "data_train['final.output.concentrate_pb'].hist(bins=25, label='secondary_cleaner.output', alpha=0.5)\n",
    "plt.title('Диаграмма концентрации свинца pb')\n",
    "plt.xlabel('Значения')\n",
    "plt.ylabel('Количество')\n",
    "plt.legend(loc='lower right')\n",
    "plt.show()"
   ]
  },
  {
   "cell_type": "markdown",
   "metadata": {},
   "source": [
    "Концентарция свинца увеличивается"
   ]
  },
  {
   "cell_type": "markdown",
   "metadata": {},
   "source": [
    "### Распределение размеров гранул сырья на обучающей и тестовой выборках"
   ]
  },
  {
   "cell_type": "code",
   "execution_count": 20,
   "metadata": {},
   "outputs": [
    {
     "data": {
      "image/png": "[encoded data removed]",
      "text/plain": [
       "<Figure size 1080x360 with 1 Axes>"
      ]
     },
     "metadata": {
      "needs_background": "light"
     },
     "output_type": "display_data"
    }
   ],
   "source": [
    "# Визуализация концентрации размера гранул сырья на входе флотации train и test\n",
    "plt.figure(figsize=(15, 5))\n",
    "sns.kdeplot(data_train['rougher.input.feed_size'], label='train rougher.input.feed_size', alpha=0.5, shade=True)\n",
    "sns.kdeplot(data_test['rougher.input.feed_size'], label='test rougher.input.feed_size', alpha=0.7, shade=True)\n",
    "plt.xlim([0, 175])\n",
    "plt.xlabel('Значения')\n",
    "plt.ylabel('Плотность')\n",
    "plt.legend(loc='upper right')\n",
    "plt.show()"
   ]
  },
  {
   "cell_type": "code",
   "execution_count": 21,
   "metadata": {},
   "outputs": [
    {
     "data": {
      "image/png": "[encoded data removed]",
      "text/plain": [
       "<Figure size 1080x360 with 1 Axes>"
      ]
     },
     "metadata": {
      "needs_background": "light"
     },
     "output_type": "display_data"
    }
   ],
   "source": [
    "# Визуализация концентрации размера гранул сырья на входе финальной очистки train и test\n",
    "plt.figure(figsize=(15, 5))\n",
    "sns.kdeplot(data_train['primary_cleaner.input.feed_size'], label='train primary_cleaner.input.feed_size', alpha=0.3, shade=True)\n",
    "sns.kdeplot(data_test['primary_cleaner.input.feed_size'], label='test primary_cleaner.input.feed_size', alpha=0.3, shade=True)\n",
    "plt.xlim([5, 10])\n",
    "plt.xlabel('Значения')\n",
    "plt.ylabel('Плотность')\n",
    "plt.legend(loc='upper right')\n",
    "plt.show()"
   ]
  },
  {
   "cell_type": "markdown",
   "metadata": {},
   "source": [
    "<b>Вывод: </b>Графики распределение размеров гранул сырья на входе в этапы флотации и финальной очистки на обучающей и тестовой выборках примерно похожи, следовательно данные не отличаются друг от друга, оценка модели будет нправильной."
   ]
  },
  {
   "cell_type": "markdown",
   "metadata": {},
   "source": [
    "### Суммарная концентрации всех веществ на разных стадиях"
   ]
  },
  {
   "cell_type": "code",
   "execution_count": 22,
   "metadata": {},
   "outputs": [],
   "source": [
    "# суммарная концентрация всех веществ на стадии флотации\n",
    "data_train['rougher.output.concentrate_sum'] = (data_train['rougher.output.concentrate_ag']+\n",
    "                                                        data_train['rougher.output.concentrate_pb']+\n",
    "                                                        data_train['rougher.output.concentrate_sol']+\n",
    "                                                        data_train['rougher.output.concentrate_au'])"
   ]
  },
  {
   "cell_type": "code",
   "execution_count": 23,
   "metadata": {},
   "outputs": [],
   "source": [
    "# суммарная концентрация всех веществ на стадии первичной очистки\n",
    "data_train['primary_cleaner.output.concentrate_sum'] = (data_train['primary_cleaner.output.concentrate_ag']+\n",
    "                                          data_train['primary_cleaner.output.concentrate_pb']+\n",
    "                                          data_train['primary_cleaner.output.concentrate_sol']+\n",
    "                                          data_train['primary_cleaner.output.concentrate_au'])"
   ]
  },
  {
   "cell_type": "code",
   "execution_count": 24,
   "metadata": {},
   "outputs": [],
   "source": [
    "# суммарная концентрация всех веществ на стадии финальной очистки\n",
    "data_train['final.output.concentrate_sum'] = (data_train['final.output.concentrate_ag']+\n",
    "                                                      data_train['final.output.concentrate_pb']+\n",
    "                                                      data_train['final.output.concentrate_sol']+\n",
    "                                                      data_train['final.output.concentrate_au'])"
   ]
  },
  {
   "cell_type": "code",
   "execution_count": 25,
   "metadata": {},
   "outputs": [],
   "source": [
    "# суммарная концентрация всех веществ в исходном сырье\n",
    "data_train['rougher.input.feed_sum'] = (data_train['rougher.input.feed_ag']+\n",
    "                                                      data_train['rougher.input.feed_pb']+\n",
    "                                                      data_train['rougher.input.feed_sol']+\n",
    "                                                      data_train['rougher.input.feed_au'])"
   ]
  },
  {
   "cell_type": "code",
   "execution_count": 27,
   "metadata": {},
   "outputs": [
    {
     "data": {
      "image/png": "[encoded data removed]",
      "text/plain": [
       "<Figure size 1080x360 with 1 Axes>"
      ]
     },
     "metadata": {
      "needs_background": "light"
     },
     "output_type": "display_data"
    }
   ],
   "source": [
    "# Визуализация суммарной концентрации на разных стадиях\n",
    "plt.figure(figsize=(15,5))\n",
    "data_train['rougher.input.feed_sum'].hist(bins=25, label='rougher.input.feed_sum', alpha=0.5)\n",
    "data_train['rougher.output.concentrate_sum'].hist(bins=25, label='rougher.output.concentrate_sum', alpha=0.5)\n",
    "data_train['primary_cleaner.output.concentrate_sum'].hist(bins=25, label='primary_cleaner.output.concentrate_sum', alpha=0.5)\n",
    "data_train['final.output.concentrate_sum'].hist(bins=25, label='final.output.concentrate_sum', alpha=0.5)\n",
    "plt.title('Диаграмма суммарной концентрации на разных стадиях')\n",
    "plt.xlabel('Значения')\n",
    "plt.ylabel('Количество')\n",
    "plt.legend(loc='upper left')\n",
    "plt.show()"
   ]
  },
  {
   "cell_type": "markdown",
   "metadata": {},
   "source": [
    "Наблюдается много аномалий в нулевых значениях, можно их удалить."
   ]
  },
  {
   "cell_type": "code",
   "execution_count": 28,
   "metadata": {},
   "outputs": [],
   "source": [
    "data_train = data_train.drop(data_train[data_train['rougher.output.concentrate_sum'] == 0].index)\n",
    "data_train = data_train.drop(data_train[data_train['primary_cleaner.output.concentrate_sum'] == 0].index)\n",
    "data_train = data_train.drop(data_train[data_train['final.output.concentrate_sum'] == 0].index)\n",
    "data_train = data_train.drop(data_train[data_train['rougher.input.feed_sum'] == 0].index)"
   ]
  },
  {
   "cell_type": "code",
   "execution_count": 30,
   "metadata": {},
   "outputs": [
    {
     "data": {
      "image/png": "[encoded data removed]",
      "text/plain": [
       "<Figure size 1080x360 with 1 Axes>"
      ]
     },
     "metadata": {
      "needs_background": "light"
     },
     "output_type": "display_data"
    }
   ],
   "source": [
    "# Визуализация суммарной концентрации на разных стадиях после удаления выбросов\n",
    "plt.figure(figsize=(15,5))\n",
    "data_train['rougher.input.feed_sum'].hist(bins=25, label='rougher.input.feed_sum', alpha=0.5)\n",
    "data_train['rougher.output.concentrate_sum'].hist(bins=25, label='rougher.output.concentrate_sum', alpha=0.5)\n",
    "data_train['primary_cleaner.output.concentrate_sum'].hist(bins=25, label='primary_cleaner.output.concentrate_sum', alpha=0.5)\n",
    "data_train['final.output.concentrate_sum'].hist(bins=25, label='final.output.concentrate_sum', alpha=0.5)\n",
    "plt.title('Диаграмма суммарной концентрации на разных стадиях')\n",
    "plt.xlabel('Значения')\n",
    "plt.ylabel('Количество')\n",
    "plt.legend(loc='upper left')\n",
    "plt.show()"
   ]
  },
  {
   "cell_type": "markdown",
   "metadata": {},
   "source": [
    "<b>Вывод: </b>\n",
    "\n",
    "<p>Анализ концентрации металлов показал, что концентрация золота увеличивается на каждом этапе обработки сырья. Концентрации серебра после первого и второго этапа очистки уменьшается. Концентарция свинца увеличивается.\n",
    "<p>Графики распределение размеров гранул сырья на входе в этапы флотации и финальной очистки на обучающей и тестовой выборках примерно похожи, следовательно данные не отличаются друг от друга, оценка модели будет нправильной.\n",
    "<p>Расчитана суммарная концентрации всех веществ на разных стадиях"
   ]
  },
  {
   "cell_type": "markdown",
   "metadata": {},
   "source": [
    "## Модель"
   ]
  },
  {
   "cell_type": "markdown",
   "metadata": {},
   "source": [
    "### Функция для вычисления итоговой sMAPE"
   ]
  },
  {
   "cell_type": "code",
   "execution_count": 31,
   "metadata": {},
   "outputs": [],
   "source": [
    "def smape(target, pred):\n",
    "    error = np.mean(abs(target - pred)/((abs(target)+abs(pred))/2))*100\n",
    "    return error"
   ]
  },
  {
   "cell_type": "code",
   "execution_count": 32,
   "metadata": {},
   "outputs": [],
   "source": [
    "def smape_sum(smape_rougher,smape_final):\n",
    "    return (0.25*smape_rougher + 0.75*smape_final)"
   ]
  },
  {
   "cell_type": "code",
   "execution_count": 33,
   "metadata": {},
   "outputs": [],
   "source": [
    "# убираем отсутсвующие данные в test из train\n",
    "data_train_off_test = set(data_train.columns) - set(data_test.columns)\n",
    "target_off = data_train_off_test - set(['final.output.recovery', 'rougher.output.recovery'])\n",
    "data_train = data_train.drop(columns=target_off, axis=1) "
   ]
  },
  {
   "cell_type": "code",
   "execution_count": 34,
   "metadata": {},
   "outputs": [],
   "source": [
    "# признаки для модели\n",
    "target_train_rougher = data_train['rougher.output.recovery']\n",
    "target_train_final = data_train['final.output.recovery']\n",
    "features_train = data_train.drop(['date', 'final.output.recovery', 'rougher.output.recovery'], axis=1) "
   ]
  },
  {
   "cell_type": "markdown",
   "metadata": {},
   "source": [
    "### Линейная регрессия"
   ]
  },
  {
   "cell_type": "code",
   "execution_count": 35,
   "metadata": {},
   "outputs": [],
   "source": [
    "smape_scorer = make_scorer(smape, greater_is_better=False)"
   ]
  },
  {
   "cell_type": "code",
   "execution_count": 36,
   "metadata": {},
   "outputs": [],
   "source": [
    "#инициируем модель линейной регрессии\n",
    "model_lr = LinearRegression()"
   ]
  },
  {
   "cell_type": "code",
   "execution_count": 37,
   "metadata": {},
   "outputs": [
    {
     "name": "stdout",
     "output_type": "stream",
     "text": [
      "Средняя оценка качества модели: 7.1831\n"
     ]
    }
   ],
   "source": [
    "#оценим модель с помощью кроссвалидации. Вычислим score_rougher\n",
    "scores_lr_rougher = cross_val_score(model_lr, features_train, target_train_rougher, cv=5, scoring=smape_scorer)\n",
    "smape_rougher = np.mean(abs(scores_lr_rougher))\n",
    "print('Средняя оценка качества модели:', round(smape_rougher, 4))"
   ]
  },
  {
   "cell_type": "code",
   "execution_count": 38,
   "metadata": {},
   "outputs": [
    {
     "name": "stdout",
     "output_type": "stream",
     "text": [
      "Средняя оценка качества модели: 10.8899\n"
     ]
    }
   ],
   "source": [
    "#оценим модель с помощью кроссвалидации. Вычислим score_final\n",
    "scores_lr_final = cross_val_score(model_lr, features_train, target_train_final, cv=5, scoring=smape_scorer)\n",
    "smape_final = np.mean(abs(scores_lr_final))\n",
    "print('Средняя оценка качества модели:', round(smape_final, 4))"
   ]
  },
  {
   "cell_type": "code",
   "execution_count": 39,
   "metadata": {},
   "outputs": [
    {
     "name": "stdout",
     "output_type": "stream",
     "text": [
      "Средняя итоговая оценка качества модели: 9.9632\n"
     ]
    }
   ],
   "source": [
    "#вычислим итоговую оценку sMape\n",
    "smape_total = smape_sum(smape_rougher, smape_final)\n",
    "print('Средняя итоговая оценка качества модели:', round(smape_total, 4))"
   ]
  },
  {
   "cell_type": "markdown",
   "metadata": {},
   "source": [
    "Средняя итоговая оценка качества модели линейной регрессии 9,96"
   ]
  },
  {
   "cell_type": "markdown",
   "metadata": {},
   "source": [
    "### Дерево решений"
   ]
  },
  {
   "cell_type": "code",
   "execution_count": 40,
   "metadata": {},
   "outputs": [
    {
     "name": "stdout",
     "output_type": "stream",
     "text": [
      "Средняя оценка качества модели: 10.3216\n"
     ]
    }
   ],
   "source": [
    "#этап rougher\n",
    "\n",
    "#инициируем модель дерева решений\n",
    "model_dtree_rougher = DecisionTreeRegressor(random_state=12345, max_depth=10)\n",
    "#model_dtree_rougher.fit(features_train, target_train_rougher)\n",
    "\n",
    "#оценим модель с помощью кроссвалидации. Вычислим sMape_rougher\n",
    "scores_dtree_rougher = cross_val_score(model_dtree_rougher, features_train, target_train_rougher, cv=5, scoring=smape_scorer)\n",
    "smape_rougher = np.mean(abs(scores_dtree_rougher))\n",
    "print('Средняя оценка качества модели:', round(smape_rougher, 4))"
   ]
  },
  {
   "cell_type": "code",
   "execution_count": 41,
   "metadata": {},
   "outputs": [
    {
     "name": "stdout",
     "output_type": "stream",
     "text": [
      "Средняя оценка качества модели: 13.6292\n"
     ]
    }
   ],
   "source": [
    "#этап final\n",
    "\n",
    "#инициируем модель дерева решений\n",
    "model_dtree_final = DecisionTreeRegressor(random_state=12345, max_depth=10)\n",
    "#model_dtree_final.fit(features_train, target_train_final)\n",
    "\n",
    "#оценим модель с помощью кроссвалидации. Вычислим sMape_rougher\n",
    "scores_dtree_final = cross_val_score(model_dtree_final, features_train, target_train_final, cv=5, scoring=smape_scorer)\n",
    "smape_final = np.mean(abs(scores_dtree_final))\n",
    "print('Средняя оценка качества модели:', round(smape_final, 4))"
   ]
  },
  {
   "cell_type": "code",
   "execution_count": 42,
   "metadata": {},
   "outputs": [
    {
     "name": "stdout",
     "output_type": "stream",
     "text": [
      "Средняя итоговая оценка качества модели: 12.8023\n"
     ]
    }
   ],
   "source": [
    "#вычислим итоговую оценку sMape\n",
    "smape_total = smape_sum(smape_rougher, smape_final)\n",
    "print('Средняя итоговая оценка качества модели:', round(smape_total, 4))"
   ]
  },
  {
   "cell_type": "code",
   "execution_count": 43,
   "metadata": {},
   "outputs": [
    {
     "name": "stdout",
     "output_type": "stream",
     "text": [
      "{'max_depth': 3}\n",
      "Значение smape_rougher: 7.247\n",
      "CPU times: user 1min 22s, sys: 226 ms, total: 1min 23s\n",
      "Wall time: 1min 23s\n"
     ]
    }
   ],
   "source": [
    "%%time\n",
    "#находим параметры глубины дерева\n",
    "model_dtree_rougher = DecisionTreeRegressor(random_state=12345)\n",
    "parameters = {'max_depth': range(1, 30)}\n",
    "\n",
    "grid_dt_rougher = GridSearchCV(model_dtree_rougher, parameters, cv=5, scoring=smape_scorer)\n",
    "grid_dt_rougher.fit(features_train, target_train_rougher)\n",
    "\n",
    "print(grid_dt_rougher.best_params_)\n",
    "print('Значение smape_rougher:', abs(round(grid_dt_rougher.best_score_, 3)))"
   ]
  },
  {
   "cell_type": "code",
   "execution_count": 44,
   "metadata": {},
   "outputs": [
    {
     "name": "stdout",
     "output_type": "stream",
     "text": [
      "{'max_depth': 2}\n",
      "Значение smape_final: 9.553\n",
      "CPU times: user 1min 26s, sys: 415 ms, total: 1min 27s\n",
      "Wall time: 1min 27s\n"
     ]
    }
   ],
   "source": [
    "%%time\n",
    "#находим параметры глубины дерева\n",
    "model_dtree_final = DecisionTreeRegressor(random_state=12345)\n",
    "parameters = {'max_depth': range(1, 30)}\n",
    "\n",
    "grid_dt_final = GridSearchCV(model_dtree_final, parameters, cv=5, scoring=smape_scorer)\n",
    "grid_dt_final.fit(features_train, target_train_final)\n",
    "\n",
    "print(grid_dt_final.best_params_)\n",
    "print('Значение smape_final:', abs(round(grid_dt_final.best_score_, 3)))"
   ]
  },
  {
   "cell_type": "code",
   "execution_count": 45,
   "metadata": {},
   "outputs": [
    {
     "name": "stdout",
     "output_type": "stream",
     "text": [
      "Средняя итоговая оценка качества модели: 8.9765\n"
     ]
    }
   ],
   "source": [
    "#находим итоговую оценку smape\n",
    "smape_total = smape_sum(abs(round(grid_dt_rougher.best_score_, 3)), abs(round(grid_dt_final.best_score_, 3)))\n",
    "print('Средняя итоговая оценка качества модели:', round(smape_total, 4))"
   ]
  },
  {
   "cell_type": "markdown",
   "metadata": {},
   "source": [
    "Средняя итоговая оценка качества модели дерева решений 8,97"
   ]
  },
  {
   "cell_type": "markdown",
   "metadata": {},
   "source": [
    "### Случайный лес"
   ]
  },
  {
   "cell_type": "code",
   "execution_count": 159,
   "metadata": {},
   "outputs": [
    {
     "name": "stdout",
     "output_type": "stream",
     "text": [
      "Средняя оценка качества модели: 7.3284\n"
     ]
    }
   ],
   "source": [
    "#этап rougher\n",
    "\n",
    "model_rf_rougher = RandomForestRegressor(random_state=12345, max_depth=10, n_estimators=20)\n",
    "\n",
    "#оценим модель с помощью кроссвалидации. Вычислим sMape_rougher\n",
    "scores_rf_rougher = cross_val_score(model_rf_rougher, features_train, target_train_rougher, cv=5, scoring=smape_scorer)\n",
    "smape_rf_rougher = np.mean(abs(scores_rf_rougher))\n",
    "print('Средняя оценка качества модели:', round(smape_rf_rougher, 4))"
   ]
  },
  {
   "cell_type": "code",
   "execution_count": 160,
   "metadata": {},
   "outputs": [
    {
     "name": "stdout",
     "output_type": "stream",
     "text": [
      "Средняя оценка качества модели: 9.746\n"
     ]
    }
   ],
   "source": [
    "#этап final\n",
    "\n",
    "model_rf_final = RandomForestRegressor(random_state=12345, max_depth=10, n_estimators=20)\n",
    "\n",
    "#оценим модель с помощью кроссвалидации. Вычислим sMape_rougher\n",
    "scores_rf_final = cross_val_score(model_rf_final, features_train, target_train_final, cv=5, scoring=smape_scorer)\n",
    "smape_rf_final = np.mean(abs(scores_rf_final))\n",
    "print('Средняя оценка качества модели:', round(smape_rf_final, 4))"
   ]
  },
  {
   "cell_type": "code",
   "execution_count": 161,
   "metadata": {},
   "outputs": [
    {
     "name": "stdout",
     "output_type": "stream",
     "text": [
      "Средняя итоговая оценка качества модели  9.1416\n"
     ]
    }
   ],
   "source": [
    "#вычислим итоговую оценку smape_rf_total \n",
    "smape_rf_total = smape_sum(smape_rf_rougher, smape_rf_final)\n",
    "print('Средняя итоговая оценка качества модели ', round(smape_rf_total, 4))"
   ]
  },
  {
   "cell_type": "code",
   "execution_count": 162,
   "metadata": {},
   "outputs": [
    {
     "name": "stdout",
     "output_type": "stream",
     "text": [
      "Лучшие параметры:  {'max_depth': 3, 'n_estimators': 200}\n",
      "smape_rougher 6.566\n",
      "CPU times: user 38min 9s, sys: 5.01 s, total: 38min 14s\n",
      "Wall time: 38min 33s\n"
     ]
    }
   ],
   "source": [
    "%%time\n",
    "#подберем параметры на этапе rougher\n",
    "\n",
    "model_rf_rougher = RandomForestRegressor(random_state=12345)\n",
    "parameters = { 'max_depth': range(1, 10, 2),\n",
    "               'n_estimators': range(50, 250, 50)\n",
    "             }\n",
    "\n",
    "grid_rf_rougher = GridSearchCV(model_rf_rougher, parameters, cv=5, scoring=smape_scorer, n_jobs=-1)\n",
    "grid_rf_rougher.fit(features_train, target_train_rougher)\n",
    "\n",
    "print('Лучшие параметры: ', grid_rf_rougher.best_params_)\n",
    "print('smape_rougher', abs(round(grid_rf_rougher.best_score_, 3)))"
   ]
  },
  {
   "cell_type": "markdown",
   "metadata": {},
   "source": [
    "Лучшие параметры:  {'max_depth': 3, 'n_estimators': 200}\n",
    "smape_rougher 6.566\n",
    "CPU times: user 38min 9s, sys: 5.01 s, total: 38min 14s\n",
    "Wall time: 38min 33s"
   ]
  },
  {
   "cell_type": "code",
   "execution_count": 164,
   "metadata": {},
   "outputs": [
    {
     "name": "stdout",
     "output_type": "stream",
     "text": [
      "Лучшие параметры:  {'max_depth': 5, 'n_estimators': 50}\n",
      "smape_final 9.161\n",
      "CPU times: user 38min 18s, sys: 25.8 s, total: 38min 44s\n",
      "Wall time: 39min 24s\n"
     ]
    }
   ],
   "source": [
    "%%time\n",
    "#подберем параметры на этапе final\n",
    "\n",
    "model_rf_final = RandomForestRegressor(random_state=12345)\n",
    "\n",
    "parameters = { 'max_depth': range(1, 10, 2),\n",
    "               'n_estimators': range(50, 250, 50)\n",
    "             }\n",
    "\n",
    "grid_rf_final = GridSearchCV(model_rf_final, parameters, cv=5, scoring=smape_scorer, n_jobs=-1)\n",
    "grid_rf_final.fit(features_train, target_train_final)\n",
    "\n",
    "print('Лучшие параметры: ', grid_rf_final.best_params_)\n",
    "print('smape_final', round(abs(grid_rf_final.best_score_), 3))"
   ]
  },
  {
   "cell_type": "markdown",
   "metadata": {},
   "source": [
    "Лучшие параметры:  {'max_depth': 5, 'n_estimators': 50}\n",
    "smape_final 9.161\n",
    "CPU times: user 38min 18s, sys: 25.8 s, total: 38min 44s\n",
    "Wall time: 39min 24s"
   ]
  },
  {
   "cell_type": "code",
   "execution_count": 166,
   "metadata": {},
   "outputs": [
    {
     "name": "stdout",
     "output_type": "stream",
     "text": [
      "Средняя итоговая оценка качества модели: 8.5122\n"
     ]
    }
   ],
   "source": [
    "#вычислим итоговую оценку smape_rf_total \n",
    "smape_rf_total = smape_sum(abs(round(grid_rf_rougher.best_score_, 3)), abs(round(grid_rf_final.best_score_, 3)))\n",
    "print('Средняя итоговая оценка качества модели:', round(smape_rf_total, 4))"
   ]
  },
  {
   "cell_type": "markdown",
   "metadata": {},
   "source": [
    "<b>Вывод: </b> Лучший результат показала модель Случайного леса. Средняя итоговая оценка качества модели случаного леса 8,51 c параметрами:\n",
    "<p>- для этапа rougher глубина 3, количество деревьев 200.\n",
    "<p>- для этапа final глубина 5, количество деревьев 50."
   ]
  },
  {
   "cell_type": "markdown",
   "metadata": {},
   "source": [
    "### Проверка модели"
   ]
  },
  {
   "cell_type": "code",
   "execution_count": 167,
   "metadata": {},
   "outputs": [],
   "source": [
    "#признаки для тестовой модели\n",
    "test_frame_for_target = data_test.merge(data_full.loc[:,['date',\"rougher.output.recovery\",\"final.output.recovery\"]],on = 'date')\n",
    "features_test = test_frame_for_target.drop(['date', 'final.output.recovery', 'rougher.output.recovery'], axis=1)\n",
    "target_test_rougher = test_frame_for_target['rougher.output.recovery']\n",
    "target_test_final = test_frame_for_target['final.output.recovery']"
   ]
  },
  {
   "cell_type": "code",
   "execution_count": 168,
   "metadata": {},
   "outputs": [],
   "source": [
    "def model_best(features_train, target_train, features_test, depth, estimators):\n",
    "    model_rf = RandomForestRegressor(random_state=12345, max_depth=depth, n_estimators=estimators)\n",
    "    model_rf.fit(features_train, target_train)\n",
    "    pred_test_rf = model_rf.predict(features_test)\n",
    "    return pred_test_rf"
   ]
  },
  {
   "cell_type": "code",
   "execution_count": 169,
   "metadata": {},
   "outputs": [],
   "source": [
    "#спрогнозируем эффективность для этапа rougher\n",
    "pred_test_rougher = model_best(features_train, target_train_rougher, features_test, 3, 200)"
   ]
  },
  {
   "cell_type": "code",
   "execution_count": 170,
   "metadata": {},
   "outputs": [],
   "source": [
    "#спрогнозируем эффективность для этапа final\n",
    "pred_test_final = model_best(features_train, target_train_final, features_test, 5, 50)"
   ]
  },
  {
   "cell_type": "code",
   "execution_count": 171,
   "metadata": {},
   "outputs": [
    {
     "name": "stdout",
     "output_type": "stream",
     "text": [
      "Итоговая оценка smape на тестовых данных: 9.48\n"
     ]
    }
   ],
   "source": [
    "#рассчитаем smape на тестовых данных\n",
    "smape_rougher = smape(target_test_rougher, pred_test_rougher)\n",
    "smape_final = smape(target_test_final, pred_test_final)\n",
    "smape_test = smape_sum(smape_rougher, smape_final)\n",
    "print('Итоговая оценка smape на тестовых данных:', round(smape_test, 2))"
   ]
  },
  {
   "cell_type": "code",
   "execution_count": 172,
   "metadata": {},
   "outputs": [],
   "source": [
    "#проверка моделди на адекватность\n",
    "def const_model(features_train, target_train, features_test):\n",
    "    dummy_regr = DummyRegressor(strategy=\"mean\")\n",
    "    dummy_regr.fit(features_train, target_train)\n",
    "    pred_test = dummy_regr.predict(features_test)\n",
    "    return pred_test"
   ]
  },
  {
   "cell_type": "code",
   "execution_count": 173,
   "metadata": {},
   "outputs": [],
   "source": [
    "#прогноз константной модели для этапа rougher\n",
    "pred_test_rougher_const = const_model(features_train, target_train_rougher, features_test)"
   ]
  },
  {
   "cell_type": "code",
   "execution_count": 174,
   "metadata": {},
   "outputs": [],
   "source": [
    "#прогноз константной модели для этапа final\n",
    "pred_test_final_const = const_model(features_train, target_train_final, features_test)"
   ]
  },
  {
   "cell_type": "code",
   "execution_count": 175,
   "metadata": {},
   "outputs": [
    {
     "name": "stdout",
     "output_type": "stream",
     "text": [
      "Итоговая оценка smape константной модели на тестовых данных: 9.83\n"
     ]
    }
   ],
   "source": [
    "#smape на тестовых данных\n",
    "smape_rougher_test = smape(target_test_rougher, pred_test_rougher_const)\n",
    "smape_final_test = smape(target_test_final, pred_test_final_const)\n",
    "smape_test_const = smape_sum(smape_rougher_test, smape_final_test)\n",
    "print('Итоговая оценка smape константной модели на тестовых данных:', round(smape_test_const, 2))"
   ]
  },
  {
   "cell_type": "markdown",
   "metadata": {},
   "source": [
    "<b>Вывод: </b> модель прошла проверку на адекватность. Результат константной модели хуже."
   ]
  },
  {
   "cell_type": "markdown",
   "metadata": {},
   "source": [
    "## Вывод"
   ]
  },
  {
   "cell_type": "markdown",
   "metadata": {},
   "source": [
    "<p>В рамках предобработки данных проекта, изучены загруженные файлы.\n",
    "<p>Проведен расчёт эффективности обогащения. Значения МАЕ близки к 0. Значит эффективность обогащения рассчитана правильно.\n",
    "<p>Проанализированы поля недоступные в тестовой выборке. Некоторые параметры недоступны т.к. рассчитываются значительно позже. Из-за этого в тестовой выборке отсутствуют некоторые признаки, которые могут быть в обучающей. Также в тестовом наборе нет целевых признаков. Скорее всего столбцы этапов rougher.output, rougher.calculation, final.output, primary_cleaner.output и secondary_cleaner.output отсутсвуют в тестовой выборке т.к. заполняются после тех. процессов    \n",
    "<p>Провели предобработку данных. Проверили дубликаты, обработали пропуски.\n",
    "<p>Анализ концентрации металлов показал, что концентрация золота увеличивается на каждом этапе обработки сырья. Концентрации серебра после первого и второго этапа очистки уменьшается. Концентарция свинца увеличивается.   \n",
    "<p>Построены графики распределения плотности вероятности значений размеров гранул на входе в этапы флотации и финальной очистки выборок train и test. Графики примерно похожи, следовательно данные не отличаются друг от друга, оценка модели будет правильной.    \n",
    "<p>Исследована суммарная концентрация всех веществ на разных стадиях: в сырье, в черновом и финальном концентратах. Удалены аномалии в нулевых значениях.\n",
    "<p>Написана функция для вычисления итоговой sMAPE.  \n",
    "<p>На данных train обучены модели линейной регрессии, дерева решений, а также случайного леса. Проведена оценка каждой модели. <p>Лучший результат показала модель Случайного леса с параметрами:\n",
    "<p>- для этапа rougher глубина 3, количество деревьев 200.\n",
    "<p>- для этапа final глубина 5, количество деревьев 50.\n",
    "<p>Эти параметры позволяют получить на данных train показатель smape равный 8.51\n",
    "<p>Итоговый расчёт на тестовых данных выбранной модели случайного леса позволил получить прогноз целевых признаков концентрации золота для этапа флотации и финальной очистки с показателем smape равным 9.48\n",
    "<p>Проведена проверка модели на адекватность. Итоговая оценка smape константной модели на тестовых данных равна 9.83"
   ]
  }
 ],
 "metadata": {
  "ExecuteTimeLog": [
   {
    "duration": 1450,
    "start_time": "2023-02-04T07:24:26.045Z"
   },
   {
    "duration": 131,
    "start_time": "2023-02-04T07:25:46.676Z"
   },
   {
    "duration": 1430,
    "start_time": "2023-02-04T07:26:23.665Z"
   },
   {
    "duration": 185,
    "start_time": "2023-02-04T07:27:34.001Z"
   },
   {
    "duration": 698,
    "start_time": "2023-02-04T07:28:07.732Z"
   },
   {
    "duration": 46,
    "start_time": "2023-02-05T08:32:10.840Z"
   },
   {
    "duration": 6,
    "start_time": "2023-02-05T08:32:19.294Z"
   },
   {
    "duration": 1484,
    "start_time": "2023-02-05T08:32:32.160Z"
   },
   {
    "duration": 1252,
    "start_time": "2023-02-05T08:32:33.646Z"
   },
   {
    "duration": 427,
    "start_time": "2023-02-05T08:32:34.900Z"
   },
   {
    "duration": 1858,
    "start_time": "2023-02-05T08:32:35.328Z"
   },
   {
    "duration": 12,
    "start_time": "2023-02-05T08:32:38.304Z"
   },
   {
    "duration": 78,
    "start_time": "2023-02-05T08:35:30.056Z"
   },
   {
    "duration": 4,
    "start_time": "2023-02-05T08:36:11.457Z"
   },
   {
    "duration": 449,
    "start_time": "2023-02-05T08:36:12.321Z"
   },
   {
    "duration": 107,
    "start_time": "2023-02-05T08:36:12.902Z"
   },
   {
    "duration": 472,
    "start_time": "2023-02-05T08:36:13.431Z"
   },
   {
    "duration": 8,
    "start_time": "2023-02-05T08:36:15.127Z"
   },
   {
    "duration": 13,
    "start_time": "2023-02-05T08:36:16.635Z"
   },
   {
    "duration": 8,
    "start_time": "2023-02-05T08:36:59.446Z"
   },
   {
    "duration": 8,
    "start_time": "2023-02-05T08:44:47.268Z"
   },
   {
    "duration": 9,
    "start_time": "2023-02-05T08:44:47.795Z"
   },
   {
    "duration": 1597,
    "start_time": "2023-02-05T16:58:50.168Z"
   },
   {
    "duration": 1088,
    "start_time": "2023-02-05T16:58:51.767Z"
   },
   {
    "duration": 513,
    "start_time": "2023-02-05T16:58:52.856Z"
   },
   {
    "duration": 2198,
    "start_time": "2023-02-05T16:58:53.372Z"
   },
   {
    "duration": 13,
    "start_time": "2023-02-05T16:58:55.572Z"
   },
   {
    "duration": 11,
    "start_time": "2023-02-05T16:58:55.587Z"
   },
   {
    "duration": 2,
    "start_time": "2023-02-05T16:59:56.983Z"
   },
   {
    "duration": 9,
    "start_time": "2023-02-05T16:59:58.484Z"
   },
   {
    "duration": 4,
    "start_time": "2023-02-05T17:00:07.511Z"
   },
   {
    "duration": 476,
    "start_time": "2023-02-05T17:00:08.053Z"
   },
   {
    "duration": 134,
    "start_time": "2023-02-05T17:00:08.607Z"
   },
   {
    "duration": 535,
    "start_time": "2023-02-05T17:00:09.180Z"
   },
   {
    "duration": 13,
    "start_time": "2023-02-05T17:00:10.820Z"
   },
   {
    "duration": 9,
    "start_time": "2023-02-05T17:00:11.604Z"
   },
   {
    "duration": 5,
    "start_time": "2023-02-05T17:05:19.248Z"
   },
   {
    "duration": 5,
    "start_time": "2023-02-05T17:05:19.868Z"
   },
   {
    "duration": 38,
    "start_time": "2023-02-05T17:05:20.701Z"
   },
   {
    "duration": 4,
    "start_time": "2023-02-05T17:06:58.260Z"
   },
   {
    "duration": 22,
    "start_time": "2023-02-05T17:06:58.717Z"
   },
   {
    "duration": 20,
    "start_time": "2023-02-05T17:06:59.292Z"
   },
   {
    "duration": 19,
    "start_time": "2023-02-05T17:13:13.413Z"
   },
   {
    "duration": 7,
    "start_time": "2023-02-05T17:13:34.451Z"
   },
   {
    "duration": 9,
    "start_time": "2023-02-05T17:13:44.680Z"
   },
   {
    "duration": 8,
    "start_time": "2023-02-05T17:15:22.840Z"
   },
   {
    "duration": 11,
    "start_time": "2023-02-05T17:15:32.544Z"
   },
   {
    "duration": 29,
    "start_time": "2023-02-05T17:20:55.080Z"
   },
   {
    "duration": 121,
    "start_time": "2023-02-05T17:30:35.160Z"
   },
   {
    "duration": 10,
    "start_time": "2023-02-05T17:33:08.058Z"
   },
   {
    "duration": 17,
    "start_time": "2023-02-05T17:33:11.369Z"
   },
   {
    "duration": 18,
    "start_time": "2023-02-05T17:33:24.960Z"
   },
   {
    "duration": 4,
    "start_time": "2023-02-05T17:33:29.695Z"
   },
   {
    "duration": 456,
    "start_time": "2023-02-05T17:33:30.260Z"
   },
   {
    "duration": 119,
    "start_time": "2023-02-05T17:33:30.741Z"
   },
   {
    "duration": 486,
    "start_time": "2023-02-05T17:33:31.271Z"
   },
   {
    "duration": 3,
    "start_time": "2023-02-05T17:33:32.657Z"
   },
   {
    "duration": 8,
    "start_time": "2023-02-05T17:33:33.298Z"
   },
   {
    "duration": 9,
    "start_time": "2023-02-05T17:33:40.120Z"
   },
   {
    "duration": 5,
    "start_time": "2023-02-05T17:33:41.074Z"
   },
   {
    "duration": 23,
    "start_time": "2023-02-05T17:33:42.779Z"
   },
   {
    "duration": 13,
    "start_time": "2023-02-05T17:33:47.219Z"
   },
   {
    "duration": 7,
    "start_time": "2023-02-05T17:33:47.838Z"
   },
   {
    "duration": 11,
    "start_time": "2023-02-05T17:33:48.633Z"
   },
   {
    "duration": 19,
    "start_time": "2023-02-05T17:33:49.688Z"
   },
   {
    "duration": 10,
    "start_time": "2023-02-05T17:33:52.888Z"
   },
   {
    "duration": 98,
    "start_time": "2023-02-05T17:37:05.849Z"
   },
   {
    "duration": 13,
    "start_time": "2023-02-05T17:39:04.133Z"
   },
   {
    "duration": 5,
    "start_time": "2023-02-05T17:40:03.433Z"
   },
   {
    "duration": 10,
    "start_time": "2023-02-05T17:40:19.447Z"
   },
   {
    "duration": 4,
    "start_time": "2023-02-05T17:40:49.479Z"
   },
   {
    "duration": 14,
    "start_time": "2023-02-05T17:42:52.246Z"
   },
   {
    "duration": 6,
    "start_time": "2023-02-05T17:43:02.350Z"
   },
   {
    "duration": 427,
    "start_time": "2023-02-05T17:43:02.943Z"
   },
   {
    "duration": 127,
    "start_time": "2023-02-05T17:43:03.513Z"
   },
   {
    "duration": 594,
    "start_time": "2023-02-05T17:43:04.080Z"
   },
   {
    "duration": 3,
    "start_time": "2023-02-05T17:43:05.288Z"
   },
   {
    "duration": 11,
    "start_time": "2023-02-05T17:43:06.774Z"
   },
   {
    "duration": 5,
    "start_time": "2023-02-05T17:43:08.808Z"
   },
   {
    "duration": 5,
    "start_time": "2023-02-05T17:43:09.435Z"
   },
   {
    "duration": 21,
    "start_time": "2023-02-05T17:43:10.191Z"
   },
   {
    "duration": 10,
    "start_time": "2023-02-05T17:43:12.334Z"
   },
   {
    "duration": 6,
    "start_time": "2023-02-05T17:43:12.965Z"
   },
   {
    "duration": 11,
    "start_time": "2023-02-05T17:43:13.633Z"
   },
   {
    "duration": 20,
    "start_time": "2023-02-05T17:43:14.366Z"
   },
   {
    "duration": 9,
    "start_time": "2023-02-05T17:43:15.133Z"
   },
   {
    "duration": 15,
    "start_time": "2023-02-05T17:44:00.033Z"
   },
   {
    "duration": 22,
    "start_time": "2023-02-05T17:44:07.980Z"
   },
   {
    "duration": 15,
    "start_time": "2023-02-05T17:44:08.600Z"
   },
   {
    "duration": 4,
    "start_time": "2023-02-05T17:44:14.285Z"
   },
   {
    "duration": 556,
    "start_time": "2023-02-05T17:44:14.807Z"
   },
   {
    "duration": 127,
    "start_time": "2023-02-05T17:44:15.365Z"
   },
   {
    "duration": 568,
    "start_time": "2023-02-05T17:44:16.077Z"
   },
   {
    "duration": 3,
    "start_time": "2023-02-05T17:44:17.014Z"
   },
   {
    "duration": 10,
    "start_time": "2023-02-05T17:44:17.534Z"
   },
   {
    "duration": 5,
    "start_time": "2023-02-05T17:44:19.137Z"
   },
   {
    "duration": 6,
    "start_time": "2023-02-05T17:44:19.701Z"
   },
   {
    "duration": 22,
    "start_time": "2023-02-05T17:44:20.533Z"
   },
   {
    "duration": 11,
    "start_time": "2023-02-05T17:44:22.559Z"
   },
   {
    "duration": 7,
    "start_time": "2023-02-05T17:44:23.141Z"
   },
   {
    "duration": 10,
    "start_time": "2023-02-05T17:44:23.693Z"
   },
   {
    "duration": 26,
    "start_time": "2023-02-05T17:44:24.337Z"
   },
   {
    "duration": 22,
    "start_time": "2023-02-05T17:44:25.017Z"
   },
   {
    "duration": 16,
    "start_time": "2023-02-05T17:44:48.451Z"
   },
   {
    "duration": 20,
    "start_time": "2023-02-05T17:45:01.315Z"
   },
   {
    "duration": 1426,
    "start_time": "2023-02-05T17:53:48.693Z"
   },
   {
    "duration": 754,
    "start_time": "2023-02-05T17:54:55.910Z"
   },
   {
    "duration": 599,
    "start_time": "2023-02-05T17:56:49.414Z"
   },
   {
    "duration": 613,
    "start_time": "2023-02-05T17:57:13.274Z"
   },
   {
    "duration": 790,
    "start_time": "2023-02-05T17:58:33.987Z"
   },
   {
    "duration": 741,
    "start_time": "2023-02-05T17:58:44.233Z"
   },
   {
    "duration": 727,
    "start_time": "2023-02-05T18:00:16.273Z"
   },
   {
    "duration": 91,
    "start_time": "2023-02-05T18:01:32.733Z"
   },
   {
    "duration": 602,
    "start_time": "2023-02-05T18:03:11.482Z"
   },
   {
    "duration": 353,
    "start_time": "2023-02-05T18:03:15.880Z"
   },
   {
    "duration": 398,
    "start_time": "2023-02-05T18:04:53.440Z"
   },
   {
    "duration": 423,
    "start_time": "2023-02-05T18:06:57.360Z"
   },
   {
    "duration": 612,
    "start_time": "2023-02-05T18:12:03.550Z"
   },
   {
    "duration": 495,
    "start_time": "2023-02-05T18:12:38.551Z"
   },
   {
    "duration": 431,
    "start_time": "2023-02-05T18:13:25.347Z"
   },
   {
    "duration": 387,
    "start_time": "2023-02-05T18:14:12.468Z"
   },
   {
    "duration": 461,
    "start_time": "2023-02-05T18:14:14.099Z"
   },
   {
    "duration": 520,
    "start_time": "2023-02-05T18:14:38.417Z"
   },
   {
    "duration": 474,
    "start_time": "2023-02-05T18:14:44.119Z"
   },
   {
    "duration": 1582,
    "start_time": "2023-02-06T08:28:38.675Z"
   },
   {
    "duration": 1400,
    "start_time": "2023-02-06T08:28:40.259Z"
   },
   {
    "duration": 188,
    "start_time": "2023-02-06T08:28:41.660Z"
   },
   {
    "duration": 645,
    "start_time": "2023-02-06T08:28:41.850Z"
   },
   {
    "duration": 10,
    "start_time": "2023-02-06T08:28:53.263Z"
   },
   {
    "duration": 8,
    "start_time": "2023-02-06T08:28:56.019Z"
   },
   {
    "duration": 7,
    "start_time": "2023-02-06T08:28:56.962Z"
   },
   {
    "duration": 22,
    "start_time": "2023-02-06T08:28:57.611Z"
   },
   {
    "duration": 8,
    "start_time": "2023-02-06T08:29:00.186Z"
   },
   {
    "duration": 7,
    "start_time": "2023-02-06T08:29:00.978Z"
   },
   {
    "duration": 9,
    "start_time": "2023-02-06T08:29:02.282Z"
   },
   {
    "duration": 28,
    "start_time": "2023-02-06T08:29:04.227Z"
   },
   {
    "duration": 8,
    "start_time": "2023-02-06T08:29:05.179Z"
   },
   {
    "duration": 363,
    "start_time": "2023-02-06T08:29:11.043Z"
   },
   {
    "duration": 345,
    "start_time": "2023-02-06T08:29:12.931Z"
   },
   {
    "duration": 459,
    "start_time": "2023-02-06T08:29:14.915Z"
   },
   {
    "duration": 486,
    "start_time": "2023-02-06T08:29:18.628Z"
   },
   {
    "duration": 480,
    "start_time": "2023-02-06T08:29:19.355Z"
   },
   {
    "duration": 115,
    "start_time": "2023-02-06T08:37:07.835Z"
   },
   {
    "duration": 13,
    "start_time": "2023-02-06T08:38:33.037Z"
   },
   {
    "duration": 5,
    "start_time": "2023-02-06T08:38:43.326Z"
   },
   {
    "duration": 5,
    "start_time": "2023-02-06T08:39:06.606Z"
   },
   {
    "duration": 5,
    "start_time": "2023-02-06T08:40:48.656Z"
   },
   {
    "duration": 5,
    "start_time": "2023-02-06T08:41:22.149Z"
   },
   {
    "duration": 4,
    "start_time": "2023-02-06T08:41:22.601Z"
   },
   {
    "duration": 6,
    "start_time": "2023-02-06T08:41:23.032Z"
   },
   {
    "duration": 4,
    "start_time": "2023-02-06T08:41:40.793Z"
   },
   {
    "duration": 5,
    "start_time": "2023-02-06T08:41:41.257Z"
   },
   {
    "duration": 5,
    "start_time": "2023-02-06T08:41:41.713Z"
   },
   {
    "duration": 5,
    "start_time": "2023-02-06T08:44:22.883Z"
   },
   {
    "duration": 6,
    "start_time": "2023-02-06T08:44:23.203Z"
   },
   {
    "duration": 5,
    "start_time": "2023-02-06T08:44:23.539Z"
   },
   {
    "duration": 296,
    "start_time": "2023-02-06T08:46:55.334Z"
   },
   {
    "duration": 305,
    "start_time": "2023-02-06T08:47:05.307Z"
   },
   {
    "duration": 275,
    "start_time": "2023-02-06T08:47:38.855Z"
   },
   {
    "duration": 936,
    "start_time": "2023-02-06T08:51:06.311Z"
   },
   {
    "duration": 37,
    "start_time": "2023-02-06T08:51:32.897Z"
   },
   {
    "duration": 15,
    "start_time": "2023-02-06T08:51:48.600Z"
   },
   {
    "duration": 9,
    "start_time": "2023-02-06T08:51:53.627Z"
   },
   {
    "duration": 9,
    "start_time": "2023-02-06T09:06:41.905Z"
   },
   {
    "duration": 52,
    "start_time": "2023-02-06T09:07:22.289Z"
   },
   {
    "duration": 21,
    "start_time": "2023-02-06T09:07:34.617Z"
   },
   {
    "duration": 22,
    "start_time": "2023-02-06T09:08:46.979Z"
   },
   {
    "duration": 374,
    "start_time": "2023-02-06T09:09:41.531Z"
   },
   {
    "duration": 4,
    "start_time": "2023-02-06T09:27:38.941Z"
   },
   {
    "duration": 2,
    "start_time": "2023-02-06T09:27:40.014Z"
   },
   {
    "duration": 1505,
    "start_time": "2023-02-07T11:40:25.340Z"
   },
   {
    "duration": 1516,
    "start_time": "2023-02-07T11:40:26.847Z"
   },
   {
    "duration": 185,
    "start_time": "2023-02-07T11:40:28.364Z"
   },
   {
    "duration": 641,
    "start_time": "2023-02-07T11:40:28.551Z"
   },
   {
    "duration": 8,
    "start_time": "2023-02-07T11:40:29.194Z"
   },
   {
    "duration": 109,
    "start_time": "2023-02-07T11:44:22.497Z"
   },
   {
    "duration": 8,
    "start_time": "2023-02-07T11:44:31.437Z"
   },
   {
    "duration": 7,
    "start_time": "2023-02-07T11:44:33.096Z"
   },
   {
    "duration": 7,
    "start_time": "2023-02-07T11:44:33.706Z"
   },
   {
    "duration": 23,
    "start_time": "2023-02-07T11:44:34.560Z"
   },
   {
    "duration": 9,
    "start_time": "2023-02-07T11:44:42.264Z"
   },
   {
    "duration": 6,
    "start_time": "2023-02-07T11:44:48.944Z"
   },
   {
    "duration": 9,
    "start_time": "2023-02-07T11:44:57.344Z"
   },
   {
    "duration": 28,
    "start_time": "2023-02-07T11:45:00.792Z"
   },
   {
    "duration": 2,
    "start_time": "2023-02-07T11:45:16.433Z"
   },
   {
    "duration": 355,
    "start_time": "2023-02-07T11:45:31.369Z"
   },
   {
    "duration": 328,
    "start_time": "2023-02-07T11:45:33.065Z"
   },
   {
    "duration": 455,
    "start_time": "2023-02-07T11:45:34.641Z"
   },
   {
    "duration": 391,
    "start_time": "2023-02-07T11:45:42.905Z"
   },
   {
    "duration": 373,
    "start_time": "2023-02-07T11:45:44.521Z"
   },
   {
    "duration": 4,
    "start_time": "2023-02-07T11:45:49.361Z"
   },
   {
    "duration": 5,
    "start_time": "2023-02-07T11:45:50.522Z"
   },
   {
    "duration": 5,
    "start_time": "2023-02-07T11:45:51.289Z"
   },
   {
    "duration": 249,
    "start_time": "2023-02-07T11:45:52.705Z"
   },
   {
    "duration": 37,
    "start_time": "2023-02-07T11:45:57.673Z"
   },
   {
    "duration": 246,
    "start_time": "2023-02-07T11:47:20.563Z"
   },
   {
    "duration": 3,
    "start_time": "2023-02-07T11:54:07.978Z"
   },
   {
    "duration": 3,
    "start_time": "2023-02-07T11:54:08.417Z"
   },
   {
    "duration": 10,
    "start_time": "2023-02-07T12:04:05.868Z"
   },
   {
    "duration": 46,
    "start_time": "2023-02-07T12:09:18.698Z"
   },
   {
    "duration": 11,
    "start_time": "2023-02-07T12:09:23.025Z"
   },
   {
    "duration": 8,
    "start_time": "2023-02-07T12:10:58.443Z"
   },
   {
    "duration": 800,
    "start_time": "2023-02-07T12:10:59.506Z"
   },
   {
    "duration": 704,
    "start_time": "2023-02-07T12:11:21.675Z"
   },
   {
    "duration": 2,
    "start_time": "2023-02-07T12:11:32.547Z"
   },
   {
    "duration": 711,
    "start_time": "2023-02-07T12:11:33.235Z"
   },
   {
    "duration": 3,
    "start_time": "2023-02-07T12:13:07.565Z"
   },
   {
    "duration": 3,
    "start_time": "2023-02-07T12:13:34.677Z"
   },
   {
    "duration": 4,
    "start_time": "2023-02-07T12:13:42.237Z"
   },
   {
    "duration": 4,
    "start_time": "2023-02-07T12:15:24.372Z"
   },
   {
    "duration": 3,
    "start_time": "2023-02-07T12:15:25.175Z"
   },
   {
    "duration": 14,
    "start_time": "2023-02-07T12:15:33.481Z"
   },
   {
    "duration": 4,
    "start_time": "2023-02-07T12:15:46.151Z"
   },
   {
    "duration": 412,
    "start_time": "2023-02-07T12:15:46.687Z"
   },
   {
    "duration": 101,
    "start_time": "2023-02-07T12:15:47.231Z"
   },
   {
    "duration": 440,
    "start_time": "2023-02-07T12:15:47.815Z"
   },
   {
    "duration": 10,
    "start_time": "2023-02-07T12:15:49.055Z"
   },
   {
    "duration": 5,
    "start_time": "2023-02-07T12:15:50.846Z"
   },
   {
    "duration": 5,
    "start_time": "2023-02-07T12:15:51.399Z"
   },
   {
    "duration": 26,
    "start_time": "2023-02-07T12:15:52.023Z"
   },
   {
    "duration": 9,
    "start_time": "2023-02-07T12:15:53.735Z"
   },
   {
    "duration": 7,
    "start_time": "2023-02-07T12:15:54.327Z"
   },
   {
    "duration": 9,
    "start_time": "2023-02-07T12:15:55.056Z"
   },
   {
    "duration": 21,
    "start_time": "2023-02-07T12:15:55.727Z"
   },
   {
    "duration": 3,
    "start_time": "2023-02-07T12:15:56.255Z"
   },
   {
    "duration": 313,
    "start_time": "2023-02-07T12:15:59.383Z"
   },
   {
    "duration": 405,
    "start_time": "2023-02-07T12:16:00.551Z"
   },
   {
    "duration": 350,
    "start_time": "2023-02-07T12:16:01.919Z"
   },
   {
    "duration": 489,
    "start_time": "2023-02-07T12:16:03.960Z"
   },
   {
    "duration": 431,
    "start_time": "2023-02-07T12:16:04.599Z"
   },
   {
    "duration": 5,
    "start_time": "2023-02-07T12:16:06.479Z"
   },
   {
    "duration": 4,
    "start_time": "2023-02-07T12:16:06.960Z"
   },
   {
    "duration": 5,
    "start_time": "2023-02-07T12:16:07.864Z"
   },
   {
    "duration": 254,
    "start_time": "2023-02-07T12:16:08.777Z"
   },
   {
    "duration": 35,
    "start_time": "2023-02-07T12:16:11.984Z"
   },
   {
    "duration": 237,
    "start_time": "2023-02-07T12:16:12.584Z"
   },
   {
    "duration": 3,
    "start_time": "2023-02-07T12:16:14.903Z"
   },
   {
    "duration": 3,
    "start_time": "2023-02-07T12:16:15.535Z"
   },
   {
    "duration": 5,
    "start_time": "2023-02-07T12:16:16.256Z"
   },
   {
    "duration": 3,
    "start_time": "2023-02-07T12:16:18.111Z"
   },
   {
    "duration": 4,
    "start_time": "2023-02-07T12:16:18.783Z"
   },
   {
    "duration": 2,
    "start_time": "2023-02-07T12:16:47.192Z"
   },
   {
    "duration": 2,
    "start_time": "2023-02-07T12:16:47.680Z"
   },
   {
    "duration": 4,
    "start_time": "2023-02-07T12:16:48.233Z"
   },
   {
    "duration": 14,
    "start_time": "2023-02-07T12:18:04.512Z"
   },
   {
    "duration": 12,
    "start_time": "2023-02-07T12:18:23.361Z"
   },
   {
    "duration": 12,
    "start_time": "2023-02-07T12:18:41.298Z"
   },
   {
    "duration": 3,
    "start_time": "2023-02-07T12:18:45.889Z"
   },
   {
    "duration": 3,
    "start_time": "2023-02-07T12:18:46.393Z"
   },
   {
    "duration": 12,
    "start_time": "2023-02-07T12:18:47.137Z"
   },
   {
    "duration": 11,
    "start_time": "2023-02-07T12:18:55.193Z"
   },
   {
    "duration": 3,
    "start_time": "2023-02-07T12:19:33.714Z"
   },
   {
    "duration": 3,
    "start_time": "2023-02-07T12:19:34.618Z"
   },
   {
    "duration": 3,
    "start_time": "2023-02-07T12:19:35.091Z"
   },
   {
    "duration": 12,
    "start_time": "2023-02-07T12:19:35.882Z"
   },
   {
    "duration": 13,
    "start_time": "2023-02-07T12:22:06.844Z"
   },
   {
    "duration": 4,
    "start_time": "2023-02-07T12:22:19.692Z"
   },
   {
    "duration": 419,
    "start_time": "2023-02-07T12:22:20.484Z"
   },
   {
    "duration": 115,
    "start_time": "2023-02-07T12:22:33.101Z"
   },
   {
    "duration": 468,
    "start_time": "2023-02-07T12:22:34.077Z"
   },
   {
    "duration": 8,
    "start_time": "2023-02-07T12:22:38.572Z"
   },
   {
    "duration": 5,
    "start_time": "2023-02-07T12:22:42.428Z"
   },
   {
    "duration": 5,
    "start_time": "2023-02-07T12:22:42.900Z"
   },
   {
    "duration": 19,
    "start_time": "2023-02-07T12:22:43.500Z"
   },
   {
    "duration": 17,
    "start_time": "2023-02-07T12:22:50.356Z"
   },
   {
    "duration": 8,
    "start_time": "2023-02-07T12:23:03.516Z"
   },
   {
    "duration": 7,
    "start_time": "2023-02-07T12:23:05.508Z"
   },
   {
    "duration": 9,
    "start_time": "2023-02-07T12:23:08.221Z"
   },
   {
    "duration": 27,
    "start_time": "2023-02-07T12:23:10.324Z"
   },
   {
    "duration": 16,
    "start_time": "2023-02-07T12:23:10.972Z"
   },
   {
    "duration": 418,
    "start_time": "2023-02-07T12:23:30.381Z"
   },
   {
    "duration": 316,
    "start_time": "2023-02-07T12:23:32.205Z"
   },
   {
    "duration": 399,
    "start_time": "2023-02-07T12:23:33.869Z"
   },
   {
    "duration": 416,
    "start_time": "2023-02-07T12:23:37.173Z"
   },
   {
    "duration": 399,
    "start_time": "2023-02-07T12:23:38.741Z"
   },
   {
    "duration": 5,
    "start_time": "2023-02-07T12:23:42.206Z"
   },
   {
    "duration": 5,
    "start_time": "2023-02-07T12:23:42.710Z"
   },
   {
    "duration": 5,
    "start_time": "2023-02-07T12:23:43.301Z"
   },
   {
    "duration": 261,
    "start_time": "2023-02-07T12:23:44.189Z"
   },
   {
    "duration": 27,
    "start_time": "2023-02-07T12:23:45.893Z"
   },
   {
    "duration": 236,
    "start_time": "2023-02-07T12:23:46.709Z"
   },
   {
    "duration": 15,
    "start_time": "2023-02-07T12:24:19.417Z"
   },
   {
    "duration": 369,
    "start_time": "2023-02-07T12:24:34.814Z"
   },
   {
    "duration": 3,
    "start_time": "2023-02-07T12:24:37.998Z"
   },
   {
    "duration": 3,
    "start_time": "2023-02-07T12:24:38.454Z"
   },
   {
    "duration": 15,
    "start_time": "2023-02-07T12:24:43.701Z"
   },
   {
    "duration": 3,
    "start_time": "2023-02-07T12:24:55.567Z"
   },
   {
    "duration": 3,
    "start_time": "2023-02-07T12:24:57.030Z"
   },
   {
    "duration": 3,
    "start_time": "2023-02-07T12:24:57.886Z"
   },
   {
    "duration": 14,
    "start_time": "2023-02-07T12:24:58.990Z"
   },
   {
    "duration": 10,
    "start_time": "2023-02-07T12:27:12.568Z"
   },
   {
    "duration": 2,
    "start_time": "2023-02-07T12:27:23.232Z"
   },
   {
    "duration": 2,
    "start_time": "2023-02-07T12:27:23.640Z"
   },
   {
    "duration": 6,
    "start_time": "2023-02-07T12:27:42.117Z"
   },
   {
    "duration": 16,
    "start_time": "2023-02-07T12:27:43.441Z"
   },
   {
    "duration": 833,
    "start_time": "2023-02-07T12:28:41.225Z"
   },
   {
    "duration": 3,
    "start_time": "2023-02-07T12:28:50.297Z"
   },
   {
    "duration": 2,
    "start_time": "2023-02-07T12:28:50.746Z"
   },
   {
    "duration": 3,
    "start_time": "2023-02-07T12:28:51.225Z"
   },
   {
    "duration": 692,
    "start_time": "2023-02-07T12:28:51.809Z"
   },
   {
    "duration": 3,
    "start_time": "2023-02-07T12:28:58.778Z"
   },
   {
    "duration": 401,
    "start_time": "2023-02-07T12:28:59.330Z"
   },
   {
    "duration": 102,
    "start_time": "2023-02-07T12:28:59.857Z"
   },
   {
    "duration": 451,
    "start_time": "2023-02-07T12:29:00.554Z"
   },
   {
    "duration": 8,
    "start_time": "2023-02-07T12:29:01.834Z"
   },
   {
    "duration": 5,
    "start_time": "2023-02-07T12:29:03.393Z"
   },
   {
    "duration": 6,
    "start_time": "2023-02-07T12:29:04.041Z"
   },
   {
    "duration": 22,
    "start_time": "2023-02-07T12:29:04.578Z"
   },
   {
    "duration": 8,
    "start_time": "2023-02-07T12:29:06.210Z"
   },
   {
    "duration": 7,
    "start_time": "2023-02-07T12:29:06.745Z"
   },
   {
    "duration": 10,
    "start_time": "2023-02-07T12:29:07.401Z"
   },
   {
    "duration": 26,
    "start_time": "2023-02-07T12:29:07.977Z"
   },
   {
    "duration": 2,
    "start_time": "2023-02-07T12:29:08.538Z"
   },
   {
    "duration": 341,
    "start_time": "2023-02-07T12:29:10.802Z"
   },
   {
    "duration": 308,
    "start_time": "2023-02-07T12:29:11.626Z"
   },
   {
    "duration": 299,
    "start_time": "2023-02-07T12:29:12.418Z"
   },
   {
    "duration": 531,
    "start_time": "2023-02-07T12:29:13.658Z"
   },
   {
    "duration": 415,
    "start_time": "2023-02-07T12:29:14.191Z"
   },
   {
    "duration": 6,
    "start_time": "2023-02-07T12:29:15.482Z"
   },
   {
    "duration": 5,
    "start_time": "2023-02-07T12:29:15.978Z"
   },
   {
    "duration": 5,
    "start_time": "2023-02-07T12:29:16.394Z"
   },
   {
    "duration": 384,
    "start_time": "2023-02-07T12:29:16.915Z"
   },
   {
    "duration": 27,
    "start_time": "2023-02-07T12:29:17.922Z"
   },
   {
    "duration": 249,
    "start_time": "2023-02-07T12:29:18.346Z"
   },
   {
    "duration": 3,
    "start_time": "2023-02-07T12:29:20.074Z"
   },
   {
    "duration": 3,
    "start_time": "2023-02-07T12:29:20.449Z"
   },
   {
    "duration": 2,
    "start_time": "2023-02-07T12:29:21.434Z"
   },
   {
    "duration": 11,
    "start_time": "2023-02-07T12:29:22.202Z"
   },
   {
    "duration": 4,
    "start_time": "2023-02-07T12:29:24.242Z"
   },
   {
    "duration": 3,
    "start_time": "2023-02-07T12:29:24.673Z"
   },
   {
    "duration": 16,
    "start_time": "2023-02-07T12:29:25.275Z"
   },
   {
    "duration": 3,
    "start_time": "2023-02-07T12:36:40.490Z"
   },
   {
    "duration": 2,
    "start_time": "2023-02-07T12:36:40.690Z"
   },
   {
    "duration": 2,
    "start_time": "2023-02-07T12:36:41.178Z"
   },
   {
    "duration": 11,
    "start_time": "2023-02-07T12:36:41.809Z"
   },
   {
    "duration": 9,
    "start_time": "2023-02-07T12:36:42.729Z"
   },
   {
    "duration": 4,
    "start_time": "2023-02-07T12:38:02.387Z"
   },
   {
    "duration": 375,
    "start_time": "2023-02-07T12:38:03.014Z"
   },
   {
    "duration": 100,
    "start_time": "2023-02-07T12:38:03.443Z"
   },
   {
    "duration": 556,
    "start_time": "2023-02-07T12:38:03.683Z"
   },
   {
    "duration": 11,
    "start_time": "2023-02-07T12:38:04.242Z"
   },
   {
    "duration": 5,
    "start_time": "2023-02-07T12:38:04.530Z"
   },
   {
    "duration": 5,
    "start_time": "2023-02-07T12:38:04.674Z"
   },
   {
    "duration": 21,
    "start_time": "2023-02-07T12:38:04.826Z"
   },
   {
    "duration": 9,
    "start_time": "2023-02-07T12:38:05.275Z"
   },
   {
    "duration": 728,
    "start_time": "2023-02-07T12:38:05.435Z"
   },
   {
    "duration": 17,
    "start_time": "2023-02-07T12:38:06.165Z"
   },
   {
    "duration": 19,
    "start_time": "2023-02-07T12:38:06.184Z"
   },
   {
    "duration": 2,
    "start_time": "2023-02-07T12:38:06.205Z"
   },
   {
    "duration": 311,
    "start_time": "2023-02-07T12:38:06.500Z"
   },
   {
    "duration": 319,
    "start_time": "2023-02-07T12:38:07.106Z"
   },
   {
    "duration": 334,
    "start_time": "2023-02-07T12:38:07.459Z"
   },
   {
    "duration": 554,
    "start_time": "2023-02-07T12:38:07.955Z"
   },
   {
    "duration": 401,
    "start_time": "2023-02-07T12:38:08.511Z"
   },
   {
    "duration": 5,
    "start_time": "2023-02-07T12:38:08.914Z"
   },
   {
    "duration": 24,
    "start_time": "2023-02-07T12:38:08.929Z"
   },
   {
    "duration": 5,
    "start_time": "2023-02-07T12:38:09.099Z"
   },
   {
    "duration": 264,
    "start_time": "2023-02-07T12:38:09.275Z"
   },
   {
    "duration": 32,
    "start_time": "2023-02-07T12:38:09.603Z"
   },
   {
    "duration": 265,
    "start_time": "2023-02-07T12:38:09.771Z"
   },
   {
    "duration": 3,
    "start_time": "2023-02-07T12:38:11.067Z"
   },
   {
    "duration": 3,
    "start_time": "2023-02-07T12:38:11.267Z"
   },
   {
    "duration": 3,
    "start_time": "2023-02-07T12:38:11.556Z"
   },
   {
    "duration": 11,
    "start_time": "2023-02-07T12:38:11.971Z"
   },
   {
    "duration": 11,
    "start_time": "2023-02-07T12:38:13.403Z"
   },
   {
    "duration": 3,
    "start_time": "2023-02-07T12:38:40.604Z"
   },
   {
    "duration": 3,
    "start_time": "2023-02-07T12:38:47.908Z"
   },
   {
    "duration": 3,
    "start_time": "2023-02-07T12:39:06.607Z"
   },
   {
    "duration": 10,
    "start_time": "2023-02-07T12:40:08.789Z"
   },
   {
    "duration": 3,
    "start_time": "2023-02-07T12:40:09.853Z"
   },
   {
    "duration": 3,
    "start_time": "2023-02-07T12:40:10.413Z"
   },
   {
    "duration": 10,
    "start_time": "2023-02-07T12:40:49.990Z"
   },
   {
    "duration": 4,
    "start_time": "2023-02-07T12:41:22.143Z"
   },
   {
    "duration": 379,
    "start_time": "2023-02-07T12:41:22.630Z"
   },
   {
    "duration": 115,
    "start_time": "2023-02-07T12:41:23.010Z"
   },
   {
    "duration": 408,
    "start_time": "2023-02-07T12:41:23.127Z"
   },
   {
    "duration": 7,
    "start_time": "2023-02-07T12:41:23.537Z"
   },
   {
    "duration": 5,
    "start_time": "2023-02-07T12:41:23.678Z"
   },
   {
    "duration": 4,
    "start_time": "2023-02-07T12:41:23.822Z"
   },
   {
    "duration": 22,
    "start_time": "2023-02-07T12:41:23.985Z"
   },
   {
    "duration": 8,
    "start_time": "2023-02-07T12:41:24.406Z"
   },
   {
    "duration": 5,
    "start_time": "2023-02-07T12:41:24.543Z"
   },
   {
    "duration": 9,
    "start_time": "2023-02-07T12:41:24.701Z"
   },
   {
    "duration": 23,
    "start_time": "2023-02-07T12:41:24.863Z"
   },
   {
    "duration": 2,
    "start_time": "2023-02-07T12:41:25.022Z"
   },
   {
    "duration": 307,
    "start_time": "2023-02-07T12:41:25.598Z"
   },
   {
    "duration": 311,
    "start_time": "2023-02-07T12:41:25.910Z"
   },
   {
    "duration": 405,
    "start_time": "2023-02-07T12:41:26.223Z"
   },
   {
    "duration": 422,
    "start_time": "2023-02-07T12:41:26.679Z"
   },
   {
    "duration": 402,
    "start_time": "2023-02-07T12:41:27.103Z"
   },
   {
    "duration": 5,
    "start_time": "2023-02-07T12:41:27.506Z"
   },
   {
    "duration": 5,
    "start_time": "2023-02-07T12:41:27.742Z"
   },
   {
    "duration": 5,
    "start_time": "2023-02-07T12:41:28.175Z"
   },
   {
    "duration": 260,
    "start_time": "2023-02-07T12:41:28.606Z"
   },
   {
    "duration": 29,
    "start_time": "2023-02-07T12:41:29.390Z"
   },
   {
    "duration": 330,
    "start_time": "2023-02-07T12:41:29.655Z"
   },
   {
    "duration": 4,
    "start_time": "2023-02-07T12:41:31.030Z"
   },
   {
    "duration": 2,
    "start_time": "2023-02-07T12:41:31.215Z"
   },
   {
    "duration": 3,
    "start_time": "2023-02-07T12:41:31.398Z"
   },
   {
    "duration": 11,
    "start_time": "2023-02-07T12:41:31.870Z"
   },
   {
    "duration": 10,
    "start_time": "2023-02-07T12:41:34.935Z"
   },
   {
    "duration": 3,
    "start_time": "2023-02-07T12:41:35.743Z"
   },
   {
    "duration": 3,
    "start_time": "2023-02-07T12:41:36.118Z"
   },
   {
    "duration": 258,
    "start_time": "2023-02-07T12:41:36.710Z"
   },
   {
    "duration": 242,
    "start_time": "2023-02-07T12:42:44.488Z"
   },
   {
    "duration": 4,
    "start_time": "2023-02-07T12:53:27.922Z"
   },
   {
    "duration": 3,
    "start_time": "2023-02-07T12:53:28.378Z"
   },
   {
    "duration": 3,
    "start_time": "2023-02-07T12:53:31.570Z"
   },
   {
    "duration": 10,
    "start_time": "2023-02-07T12:53:33.795Z"
   },
   {
    "duration": 3,
    "start_time": "2023-02-07T12:54:36.204Z"
   },
   {
    "duration": 3,
    "start_time": "2023-02-07T12:55:05.956Z"
   },
   {
    "duration": 3,
    "start_time": "2023-02-07T12:55:06.805Z"
   },
   {
    "duration": 14,
    "start_time": "2023-02-07T12:55:07.109Z"
   },
   {
    "duration": 46,
    "start_time": "2023-02-07T12:58:42.401Z"
   },
   {
    "duration": 426,
    "start_time": "2023-02-07T12:58:43.072Z"
   },
   {
    "duration": 114,
    "start_time": "2023-02-07T12:58:43.500Z"
   },
   {
    "duration": 465,
    "start_time": "2023-02-07T12:58:43.616Z"
   },
   {
    "duration": 11,
    "start_time": "2023-02-07T12:58:44.083Z"
   },
   {
    "duration": 15,
    "start_time": "2023-02-07T12:58:44.096Z"
   },
   {
    "duration": 6,
    "start_time": "2023-02-07T12:58:44.232Z"
   },
   {
    "duration": 21,
    "start_time": "2023-02-07T12:58:44.391Z"
   },
   {
    "duration": 10,
    "start_time": "2023-02-07T12:58:44.831Z"
   },
   {
    "duration": 7,
    "start_time": "2023-02-07T12:58:44.983Z"
   },
   {
    "duration": 9,
    "start_time": "2023-02-07T12:58:45.135Z"
   },
   {
    "duration": 25,
    "start_time": "2023-02-07T12:58:45.287Z"
   },
   {
    "duration": 2,
    "start_time": "2023-02-07T12:58:45.440Z"
   },
   {
    "duration": 327,
    "start_time": "2023-02-07T12:58:46.047Z"
   },
   {
    "duration": 408,
    "start_time": "2023-02-07T12:58:46.520Z"
   },
   {
    "duration": 319,
    "start_time": "2023-02-07T12:58:46.930Z"
   },
   {
    "duration": 419,
    "start_time": "2023-02-07T12:58:47.472Z"
   },
   {
    "duration": 513,
    "start_time": "2023-02-07T12:58:47.893Z"
   },
   {
    "duration": 4,
    "start_time": "2023-02-07T12:58:48.409Z"
   },
   {
    "duration": 7,
    "start_time": "2023-02-07T12:58:48.601Z"
   },
   {
    "duration": 5,
    "start_time": "2023-02-07T12:58:48.780Z"
   },
   {
    "duration": 255,
    "start_time": "2023-02-07T12:58:48.928Z"
   },
   {
    "duration": 30,
    "start_time": "2023-02-07T12:58:49.263Z"
   },
   {
    "duration": 252,
    "start_time": "2023-02-07T12:58:49.465Z"
   },
   {
    "duration": 3,
    "start_time": "2023-02-07T12:58:50.175Z"
   },
   {
    "duration": 3,
    "start_time": "2023-02-07T12:58:50.368Z"
   },
   {
    "duration": 2,
    "start_time": "2023-02-07T12:58:50.514Z"
   },
   {
    "duration": 11,
    "start_time": "2023-02-07T12:58:50.712Z"
   },
   {
    "duration": 3,
    "start_time": "2023-02-07T12:58:52.496Z"
   },
   {
    "duration": 3,
    "start_time": "2023-02-07T12:58:52.664Z"
   },
   {
    "duration": 279,
    "start_time": "2023-02-07T12:58:52.857Z"
   },
   {
    "duration": 262,
    "start_time": "2023-02-07T12:58:53.248Z"
   },
   {
    "duration": 3,
    "start_time": "2023-02-07T12:58:53.800Z"
   },
   {
    "duration": 74,
    "start_time": "2023-02-07T13:02:30.941Z"
   },
   {
    "duration": 3,
    "start_time": "2023-02-07T13:15:58.145Z"
   },
   {
    "duration": 3,
    "start_time": "2023-02-07T13:15:59.089Z"
   },
   {
    "duration": 270,
    "start_time": "2023-02-07T13:15:59.618Z"
   },
   {
    "duration": 241,
    "start_time": "2023-02-07T13:16:00.369Z"
   },
   {
    "duration": 4,
    "start_time": "2023-02-07T13:16:00.905Z"
   },
   {
    "duration": 69,
    "start_time": "2023-02-07T13:16:02.098Z"
   },
   {
    "duration": 82,
    "start_time": "2023-02-07T13:16:02.706Z"
   },
   {
    "duration": 4,
    "start_time": "2023-02-07T13:16:03.305Z"
   },
   {
    "duration": 259,
    "start_time": "2023-02-07T13:16:05.369Z"
   },
   {
    "duration": 240,
    "start_time": "2023-02-07T13:16:06.354Z"
   },
   {
    "duration": 3,
    "start_time": "2023-02-07T13:16:07.282Z"
   },
   {
    "duration": 4,
    "start_time": "2023-02-07T13:17:56.788Z"
   },
   {
    "duration": 407,
    "start_time": "2023-02-07T13:17:56.947Z"
   },
   {
    "duration": 140,
    "start_time": "2023-02-07T13:17:57.356Z"
   },
   {
    "duration": 494,
    "start_time": "2023-02-07T13:17:57.498Z"
   },
   {
    "duration": 9,
    "start_time": "2023-02-07T13:17:57.995Z"
   },
   {
    "duration": 5,
    "start_time": "2023-02-07T13:17:58.219Z"
   },
   {
    "duration": 5,
    "start_time": "2023-02-07T13:17:58.371Z"
   },
   {
    "duration": 21,
    "start_time": "2023-02-07T13:17:58.531Z"
   },
   {
    "duration": 8,
    "start_time": "2023-02-07T13:17:59.003Z"
   },
   {
    "duration": 13,
    "start_time": "2023-02-07T13:17:59.163Z"
   },
   {
    "duration": 10,
    "start_time": "2023-02-07T13:17:59.323Z"
   },
   {
    "duration": 28,
    "start_time": "2023-02-07T13:17:59.484Z"
   },
   {
    "duration": 318,
    "start_time": "2023-02-07T13:18:00.124Z"
   },
   {
    "duration": 455,
    "start_time": "2023-02-07T13:18:00.445Z"
   },
   {
    "duration": 337,
    "start_time": "2023-02-07T13:18:00.902Z"
   },
   {
    "duration": 410,
    "start_time": "2023-02-07T13:18:01.283Z"
   },
   {
    "duration": 424,
    "start_time": "2023-02-07T13:18:01.695Z"
   },
   {
    "duration": 5,
    "start_time": "2023-02-07T13:18:02.122Z"
   },
   {
    "duration": 6,
    "start_time": "2023-02-07T13:18:02.147Z"
   },
   {
    "duration": 6,
    "start_time": "2023-02-07T13:18:02.322Z"
   },
   {
    "duration": 262,
    "start_time": "2023-02-07T13:18:02.507Z"
   },
   {
    "duration": 31,
    "start_time": "2023-02-07T13:18:02.842Z"
   },
   {
    "duration": 278,
    "start_time": "2023-02-07T13:18:03.012Z"
   },
   {
    "duration": 3,
    "start_time": "2023-02-07T13:18:03.691Z"
   },
   {
    "duration": 3,
    "start_time": "2023-02-07T13:18:03.859Z"
   },
   {
    "duration": 3,
    "start_time": "2023-02-07T13:18:04.035Z"
   },
   {
    "duration": 18,
    "start_time": "2023-02-07T13:18:04.203Z"
   },
   {
    "duration": 3,
    "start_time": "2023-02-07T13:18:04.547Z"
   },
   {
    "duration": 3,
    "start_time": "2023-02-07T13:18:04.723Z"
   },
   {
    "duration": 279,
    "start_time": "2023-02-07T13:18:04.891Z"
   },
   {
    "duration": 262,
    "start_time": "2023-02-07T13:18:05.172Z"
   },
   {
    "duration": 5,
    "start_time": "2023-02-07T13:18:05.436Z"
   },
   {
    "duration": 73,
    "start_time": "2023-02-07T13:18:05.572Z"
   },
   {
    "duration": 71,
    "start_time": "2023-02-07T13:18:05.739Z"
   },
   {
    "duration": 4,
    "start_time": "2023-02-07T13:18:05.923Z"
   },
   {
    "duration": 261,
    "start_time": "2023-02-07T13:18:06.268Z"
   },
   {
    "duration": 263,
    "start_time": "2023-02-07T13:18:06.531Z"
   },
   {
    "duration": 4,
    "start_time": "2023-02-07T13:18:07.371Z"
   },
   {
    "duration": 1700,
    "start_time": "2023-02-08T07:53:24.692Z"
   },
   {
    "duration": 1059,
    "start_time": "2023-02-08T07:53:26.394Z"
   },
   {
    "duration": 452,
    "start_time": "2023-02-08T07:53:27.455Z"
   },
   {
    "duration": 1962,
    "start_time": "2023-02-08T07:53:27.909Z"
   },
   {
    "duration": 9,
    "start_time": "2023-02-08T07:53:29.872Z"
   },
   {
    "duration": 8,
    "start_time": "2023-02-08T07:53:29.884Z"
   },
   {
    "duration": 13,
    "start_time": "2023-02-08T07:53:29.894Z"
   },
   {
    "duration": 28,
    "start_time": "2023-02-08T07:53:29.955Z"
   },
   {
    "duration": 9,
    "start_time": "2023-02-08T07:53:31.612Z"
   },
   {
    "duration": 7,
    "start_time": "2023-02-08T07:53:32.100Z"
   },
   {
    "duration": 10,
    "start_time": "2023-02-08T07:53:32.603Z"
   },
   {
    "duration": 30,
    "start_time": "2023-02-08T07:53:33.132Z"
   },
   {
    "duration": 361,
    "start_time": "2023-02-08T07:53:37.332Z"
   },
   {
    "duration": 459,
    "start_time": "2023-02-08T07:53:39.051Z"
   },
   {
    "duration": 454,
    "start_time": "2023-02-08T07:53:40.787Z"
   },
   {
    "duration": 547,
    "start_time": "2023-02-08T07:53:43.076Z"
   },
   {
    "duration": 399,
    "start_time": "2023-02-08T07:53:43.724Z"
   },
   {
    "duration": 5,
    "start_time": "2023-02-08T07:53:46.091Z"
   },
   {
    "duration": 6,
    "start_time": "2023-02-08T07:53:46.533Z"
   },
   {
    "duration": 6,
    "start_time": "2023-02-08T07:53:46.940Z"
   },
   {
    "duration": 266,
    "start_time": "2023-02-08T07:53:47.588Z"
   },
   {
    "duration": 40,
    "start_time": "2023-02-08T07:53:49.163Z"
   },
   {
    "duration": 307,
    "start_time": "2023-02-08T07:53:49.780Z"
   },
   {
    "duration": 4,
    "start_time": "2023-02-08T07:53:52.804Z"
   },
   {
    "duration": 3,
    "start_time": "2023-02-08T07:53:53.213Z"
   },
   {
    "duration": 6,
    "start_time": "2023-02-08T07:53:53.680Z"
   },
   {
    "duration": 12,
    "start_time": "2023-02-08T07:53:54.779Z"
   },
   {
    "duration": 3,
    "start_time": "2023-02-08T07:53:57.612Z"
   },
   {
    "duration": 4,
    "start_time": "2023-02-08T07:55:32.733Z"
   },
   {
    "duration": 3,
    "start_time": "2023-02-08T07:55:33.134Z"
   },
   {
    "duration": 113,
    "start_time": "2023-02-08T07:55:33.573Z"
   },
   {
    "duration": 4,
    "start_time": "2023-02-08T07:56:10.135Z"
   },
   {
    "duration": 23,
    "start_time": "2023-02-08T07:56:59.103Z"
   },
   {
    "duration": 6,
    "start_time": "2023-02-08T07:57:07.382Z"
   },
   {
    "duration": 4,
    "start_time": "2023-02-08T07:57:07.951Z"
   },
   {
    "duration": 4,
    "start_time": "2023-02-08T07:57:09.866Z"
   },
   {
    "duration": 11,
    "start_time": "2023-02-08T07:57:10.399Z"
   },
   {
    "duration": 100,
    "start_time": "2023-02-08T07:59:06.945Z"
   },
   {
    "duration": 10,
    "start_time": "2023-02-08T07:59:16.865Z"
   },
   {
    "duration": 9,
    "start_time": "2023-02-08T07:59:24.331Z"
   },
   {
    "duration": 9,
    "start_time": "2023-02-08T07:59:40.073Z"
   },
   {
    "duration": 3,
    "start_time": "2023-02-08T08:00:46.451Z"
   },
   {
    "duration": 12,
    "start_time": "2023-02-08T08:01:52.220Z"
   },
   {
    "duration": 3,
    "start_time": "2023-02-08T08:05:40.952Z"
   },
   {
    "duration": 3,
    "start_time": "2023-02-08T08:05:41.408Z"
   },
   {
    "duration": 9,
    "start_time": "2023-02-08T08:05:41.911Z"
   },
   {
    "duration": 5,
    "start_time": "2023-02-08T08:07:19.609Z"
   },
   {
    "duration": 22,
    "start_time": "2023-02-08T08:15:44.432Z"
   },
   {
    "duration": 9,
    "start_time": "2023-02-08T08:15:56.801Z"
   },
   {
    "duration": 9,
    "start_time": "2023-02-08T08:15:58.481Z"
   },
   {
    "duration": 11,
    "start_time": "2023-02-08T08:17:36.699Z"
   },
   {
    "duration": 10,
    "start_time": "2023-02-08T08:17:37.458Z"
   },
   {
    "duration": 6,
    "start_time": "2023-02-08T08:17:40.323Z"
   },
   {
    "duration": 3,
    "start_time": "2023-02-08T08:17:40.788Z"
   },
   {
    "duration": 355,
    "start_time": "2023-02-08T08:17:41.739Z"
   },
   {
    "duration": 260,
    "start_time": "2023-02-08T08:17:56.755Z"
   },
   {
    "duration": 2,
    "start_time": "2023-02-08T08:18:14.443Z"
   },
   {
    "duration": 245,
    "start_time": "2023-02-08T08:19:14.205Z"
   },
   {
    "duration": 207,
    "start_time": "2023-02-08T08:20:06.645Z"
   },
   {
    "duration": 3,
    "start_time": "2023-02-08T08:20:10.790Z"
   },
   {
    "duration": 77,
    "start_time": "2023-02-08T08:20:47.191Z"
   },
   {
    "duration": 50,
    "start_time": "2023-02-08T08:21:32.317Z"
   },
   {
    "duration": 3,
    "start_time": "2023-02-08T08:21:49.295Z"
   },
   {
    "duration": 199,
    "start_time": "2023-02-08T08:22:10.625Z"
   },
   {
    "duration": 172,
    "start_time": "2023-02-08T08:22:31.399Z"
   },
   {
    "duration": 3,
    "start_time": "2023-02-08T08:22:33.575Z"
   },
   {
    "duration": 3,
    "start_time": "2023-02-08T08:26:03.832Z"
   },
   {
    "duration": 2,
    "start_time": "2023-02-08T08:26:04.259Z"
   },
   {
    "duration": 182,
    "start_time": "2023-02-08T08:26:04.666Z"
   },
   {
    "duration": 176,
    "start_time": "2023-02-08T08:30:26.944Z"
   },
   {
    "duration": 167,
    "start_time": "2023-02-08T08:31:00.431Z"
   },
   {
    "duration": 5,
    "start_time": "2023-02-08T08:37:00.296Z"
   },
   {
    "duration": 161,
    "start_time": "2023-02-08T08:37:28.356Z"
   },
   {
    "duration": 153,
    "start_time": "2023-02-08T08:37:29.286Z"
   },
   {
    "duration": 6,
    "start_time": "2023-02-08T08:38:42.111Z"
   },
   {
    "duration": 429,
    "start_time": "2023-02-08T08:38:42.569Z"
   },
   {
    "duration": 161,
    "start_time": "2023-02-08T08:38:43.061Z"
   },
   {
    "duration": 531,
    "start_time": "2023-02-08T08:38:43.495Z"
   },
   {
    "duration": 17,
    "start_time": "2023-02-08T08:38:44.306Z"
   },
   {
    "duration": 5,
    "start_time": "2023-02-08T08:38:45.621Z"
   },
   {
    "duration": 5,
    "start_time": "2023-02-08T08:38:46.079Z"
   },
   {
    "duration": 23,
    "start_time": "2023-02-08T08:38:46.520Z"
   },
   {
    "duration": 8,
    "start_time": "2023-02-08T08:38:48.319Z"
   },
   {
    "duration": 7,
    "start_time": "2023-02-08T08:38:48.944Z"
   },
   {
    "duration": 10,
    "start_time": "2023-02-08T08:38:49.551Z"
   },
   {
    "duration": 24,
    "start_time": "2023-02-08T08:38:50.152Z"
   },
   {
    "duration": 448,
    "start_time": "2023-02-08T08:38:52.367Z"
   },
   {
    "duration": 375,
    "start_time": "2023-02-08T08:38:53.959Z"
   },
   {
    "duration": 329,
    "start_time": "2023-02-08T08:38:55.711Z"
   },
   {
    "duration": 428,
    "start_time": "2023-02-08T08:38:58.231Z"
   },
   {
    "duration": 415,
    "start_time": "2023-02-08T08:38:58.951Z"
   },
   {
    "duration": 6,
    "start_time": "2023-02-08T08:39:01.800Z"
   },
   {
    "duration": 5,
    "start_time": "2023-02-08T08:39:02.305Z"
   },
   {
    "duration": 5,
    "start_time": "2023-02-08T08:39:02.760Z"
   },
   {
    "duration": 319,
    "start_time": "2023-02-08T08:39:03.417Z"
   },
   {
    "duration": 28,
    "start_time": "2023-02-08T08:39:04.624Z"
   },
   {
    "duration": 293,
    "start_time": "2023-02-08T08:39:05.243Z"
   },
   {
    "duration": 4,
    "start_time": "2023-02-08T08:39:08.328Z"
   },
   {
    "duration": 3,
    "start_time": "2023-02-08T08:39:08.656Z"
   },
   {
    "duration": 7,
    "start_time": "2023-02-08T08:39:09.144Z"
   },
   {
    "duration": 5,
    "start_time": "2023-02-08T08:39:09.823Z"
   },
   {
    "duration": 3,
    "start_time": "2023-02-08T08:39:11.663Z"
   },
   {
    "duration": 3,
    "start_time": "2023-02-08T08:39:12.316Z"
   },
   {
    "duration": 175,
    "start_time": "2023-02-08T08:39:12.976Z"
   },
   {
    "duration": 1511,
    "start_time": "2023-02-08T08:51:21.247Z"
   },
   {
    "duration": 373,
    "start_time": "2023-02-08T08:51:44.276Z"
   },
   {
    "duration": 1194,
    "start_time": "2023-02-08T08:53:56.559Z"
   },
   {
    "duration": 1379,
    "start_time": "2023-02-08T08:58:50.244Z"
   },
   {
    "duration": 1906,
    "start_time": "2023-02-08T09:00:01.189Z"
   },
   {
    "duration": 29,
    "start_time": "2023-02-08T09:00:27.636Z"
   },
   {
    "duration": 16,
    "start_time": "2023-02-08T09:00:35.819Z"
   },
   {
    "duration": 15,
    "start_time": "2023-02-08T09:02:03.629Z"
   },
   {
    "duration": 4,
    "start_time": "2023-02-08T09:02:32.119Z"
   },
   {
    "duration": 405,
    "start_time": "2023-02-08T09:02:33.854Z"
   },
   {
    "duration": 117,
    "start_time": "2023-02-08T09:02:41.982Z"
   },
   {
    "duration": 427,
    "start_time": "2023-02-08T09:02:42.887Z"
   },
   {
    "duration": 9,
    "start_time": "2023-02-08T09:03:06.144Z"
   },
   {
    "duration": 5,
    "start_time": "2023-02-08T09:03:11.847Z"
   },
   {
    "duration": 5,
    "start_time": "2023-02-08T09:03:14.823Z"
   },
   {
    "duration": 29,
    "start_time": "2023-02-08T09:03:17.423Z"
   },
   {
    "duration": 8,
    "start_time": "2023-02-08T09:03:24.623Z"
   },
   {
    "duration": 7,
    "start_time": "2023-02-08T09:03:28.183Z"
   },
   {
    "duration": 21,
    "start_time": "2023-02-08T09:03:28.896Z"
   },
   {
    "duration": 20,
    "start_time": "2023-02-08T09:03:29.920Z"
   },
   {
    "duration": 16,
    "start_time": "2023-02-08T09:03:55.192Z"
   },
   {
    "duration": 353,
    "start_time": "2023-02-08T09:04:03.017Z"
   },
   {
    "duration": 325,
    "start_time": "2023-02-08T09:04:04.601Z"
   },
   {
    "duration": 369,
    "start_time": "2023-02-08T09:04:06.064Z"
   },
   {
    "duration": 538,
    "start_time": "2023-02-08T09:04:09.177Z"
   },
   {
    "duration": 403,
    "start_time": "2023-02-08T09:04:10.417Z"
   },
   {
    "duration": 16,
    "start_time": "2023-02-08T09:04:14.736Z"
   },
   {
    "duration": 6,
    "start_time": "2023-02-08T09:04:29.873Z"
   },
   {
    "duration": 6,
    "start_time": "2023-02-08T09:05:19.898Z"
   },
   {
    "duration": 2,
    "start_time": "2023-02-08T09:05:21.289Z"
   },
   {
    "duration": 6,
    "start_time": "2023-02-08T09:05:49.243Z"
   },
   {
    "duration": 310,
    "start_time": "2023-02-08T09:06:05.405Z"
   },
   {
    "duration": 23,
    "start_time": "2023-02-08T09:06:54.907Z"
   },
   {
    "duration": 267,
    "start_time": "2023-02-08T09:07:23.140Z"
   },
   {
    "duration": 3,
    "start_time": "2023-02-08T09:07:30.724Z"
   },
   {
    "duration": 3,
    "start_time": "2023-02-08T09:07:31.148Z"
   },
   {
    "duration": 6,
    "start_time": "2023-02-08T09:07:31.652Z"
   },
   {
    "duration": 5,
    "start_time": "2023-02-08T09:07:32.380Z"
   },
   {
    "duration": 3,
    "start_time": "2023-02-08T09:07:35.763Z"
   },
   {
    "duration": 3,
    "start_time": "2023-02-08T09:07:36.324Z"
   },
   {
    "duration": 169,
    "start_time": "2023-02-08T09:07:37.052Z"
   },
   {
    "duration": 4,
    "start_time": "2023-02-08T09:07:56.054Z"
   },
   {
    "duration": 2,
    "start_time": "2023-02-08T09:07:59.269Z"
   },
   {
    "duration": 1163,
    "start_time": "2023-02-08T09:08:07.525Z"
   },
   {
    "duration": 6,
    "start_time": "2023-02-08T09:08:16.533Z"
   },
   {
    "duration": 413,
    "start_time": "2023-02-08T09:08:16.997Z"
   },
   {
    "duration": 109,
    "start_time": "2023-02-08T09:08:17.540Z"
   },
   {
    "duration": 455,
    "start_time": "2023-02-08T09:08:18.060Z"
   },
   {
    "duration": 9,
    "start_time": "2023-02-08T09:08:18.669Z"
   },
   {
    "duration": 5,
    "start_time": "2023-02-08T09:08:19.149Z"
   },
   {
    "duration": 4,
    "start_time": "2023-02-08T09:08:19.308Z"
   },
   {
    "duration": 20,
    "start_time": "2023-02-08T09:08:19.468Z"
   },
   {
    "duration": 8,
    "start_time": "2023-02-08T09:08:20.637Z"
   },
   {
    "duration": 6,
    "start_time": "2023-02-08T09:08:21.004Z"
   },
   {
    "duration": 10,
    "start_time": "2023-02-08T09:08:21.740Z"
   },
   {
    "duration": 19,
    "start_time": "2023-02-08T09:08:22.236Z"
   },
   {
    "duration": 321,
    "start_time": "2023-02-08T09:08:24.356Z"
   },
   {
    "duration": 322,
    "start_time": "2023-02-08T09:08:26.197Z"
   },
   {
    "duration": 416,
    "start_time": "2023-02-08T09:08:27.574Z"
   },
   {
    "duration": 441,
    "start_time": "2023-02-08T09:08:29.780Z"
   },
   {
    "duration": 421,
    "start_time": "2023-02-08T09:08:31.388Z"
   },
   {
    "duration": 6,
    "start_time": "2023-02-08T09:08:38.293Z"
   },
   {
    "duration": 2,
    "start_time": "2023-02-08T09:08:41.006Z"
   },
   {
    "duration": 6,
    "start_time": "2023-02-08T09:08:41.639Z"
   },
   {
    "duration": 3,
    "start_time": "2023-02-08T09:08:42.559Z"
   },
   {
    "duration": 6,
    "start_time": "2023-02-08T09:08:42.997Z"
   },
   {
    "duration": 3,
    "start_time": "2023-02-08T09:08:43.501Z"
   },
   {
    "duration": 267,
    "start_time": "2023-02-08T09:08:44.781Z"
   },
   {
    "duration": 2,
    "start_time": "2023-02-08T09:08:47.093Z"
   },
   {
    "duration": 20,
    "start_time": "2023-02-08T09:08:48.932Z"
   },
   {
    "duration": 2,
    "start_time": "2023-02-08T09:08:49.829Z"
   },
   {
    "duration": 263,
    "start_time": "2023-02-08T09:08:50.677Z"
   },
   {
    "duration": 2,
    "start_time": "2023-02-08T09:08:55.813Z"
   },
   {
    "duration": 3,
    "start_time": "2023-02-08T09:08:58.565Z"
   },
   {
    "duration": 2,
    "start_time": "2023-02-08T09:08:58.981Z"
   },
   {
    "duration": 6,
    "start_time": "2023-02-08T09:08:59.477Z"
   },
   {
    "duration": 6,
    "start_time": "2023-02-08T09:09:00.092Z"
   },
   {
    "duration": 3,
    "start_time": "2023-02-08T09:09:01.428Z"
   },
   {
    "duration": 3,
    "start_time": "2023-02-08T09:09:01.886Z"
   },
   {
    "duration": 153,
    "start_time": "2023-02-08T09:09:02.439Z"
   },
   {
    "duration": 152,
    "start_time": "2023-02-08T09:09:21.174Z"
   },
   {
    "duration": 4,
    "start_time": "2023-02-08T09:09:21.965Z"
   },
   {
    "duration": 59,
    "start_time": "2023-02-08T09:09:23.302Z"
   },
   {
    "duration": 1311,
    "start_time": "2023-02-08T09:11:17.648Z"
   },
   {
    "duration": 4,
    "start_time": "2023-02-08T09:11:24.383Z"
   },
   {
    "duration": 410,
    "start_time": "2023-02-08T09:11:24.952Z"
   },
   {
    "duration": 102,
    "start_time": "2023-02-08T09:11:25.399Z"
   },
   {
    "duration": 426,
    "start_time": "2023-02-08T09:11:25.879Z"
   },
   {
    "duration": 10,
    "start_time": "2023-02-08T09:11:26.711Z"
   },
   {
    "duration": 5,
    "start_time": "2023-02-08T09:11:27.911Z"
   },
   {
    "duration": 5,
    "start_time": "2023-02-08T09:11:28.303Z"
   },
   {
    "duration": 24,
    "start_time": "2023-02-08T09:11:28.727Z"
   },
   {
    "duration": 10,
    "start_time": "2023-02-08T09:11:30.191Z"
   },
   {
    "duration": 6,
    "start_time": "2023-02-08T09:11:30.664Z"
   },
   {
    "duration": 10,
    "start_time": "2023-02-08T09:11:31.183Z"
   },
   {
    "duration": 25,
    "start_time": "2023-02-08T09:11:31.671Z"
   },
   {
    "duration": 290,
    "start_time": "2023-02-08T09:11:33.584Z"
   },
   {
    "duration": 3,
    "start_time": "2023-02-08T09:11:42.232Z"
   },
   {
    "duration": 385,
    "start_time": "2023-02-08T09:15:08.347Z"
   },
   {
    "duration": 2,
    "start_time": "2023-02-08T09:15:09.811Z"
   },
   {
    "duration": 311,
    "start_time": "2023-02-08T09:19:02.943Z"
   },
   {
    "duration": 3,
    "start_time": "2023-02-08T09:19:04.463Z"
   },
   {
    "duration": 354,
    "start_time": "2023-02-08T09:19:16.792Z"
   },
   {
    "duration": 3,
    "start_time": "2023-02-08T09:19:37.201Z"
   },
   {
    "duration": 3,
    "start_time": "2023-02-08T09:19:41.265Z"
   },
   {
    "duration": 321,
    "start_time": "2023-02-08T09:19:52.992Z"
   },
   {
    "duration": 3,
    "start_time": "2023-02-08T09:20:50.241Z"
   },
   {
    "duration": 313,
    "start_time": "2023-02-08T09:20:58.713Z"
   },
   {
    "duration": 3,
    "start_time": "2023-02-08T09:21:05.553Z"
   },
   {
    "duration": 324,
    "start_time": "2023-02-08T09:21:57.505Z"
   },
   {
    "duration": 2,
    "start_time": "2023-02-08T09:21:57.962Z"
   },
   {
    "duration": 474,
    "start_time": "2023-02-08T09:21:59.946Z"
   },
   {
    "duration": 432,
    "start_time": "2023-02-08T09:22:00.562Z"
   },
   {
    "duration": 5,
    "start_time": "2023-02-08T09:22:02.978Z"
   },
   {
    "duration": 3,
    "start_time": "2023-02-08T09:22:03.362Z"
   },
   {
    "duration": 4,
    "start_time": "2023-02-08T09:22:03.810Z"
   },
   {
    "duration": 3,
    "start_time": "2023-02-08T09:22:04.250Z"
   },
   {
    "duration": 5,
    "start_time": "2023-02-08T09:22:04.618Z"
   },
   {
    "duration": 3,
    "start_time": "2023-02-08T09:22:05.058Z"
   },
   {
    "duration": 289,
    "start_time": "2023-02-08T09:22:05.546Z"
   },
   {
    "duration": 3,
    "start_time": "2023-02-08T09:22:06.706Z"
   },
   {
    "duration": 18,
    "start_time": "2023-02-08T09:22:08.626Z"
   },
   {
    "duration": 2,
    "start_time": "2023-02-08T09:22:10.074Z"
   },
   {
    "duration": 281,
    "start_time": "2023-02-08T09:22:10.763Z"
   },
   {
    "duration": 3,
    "start_time": "2023-02-08T09:22:12.705Z"
   },
   {
    "duration": 3,
    "start_time": "2023-02-08T09:22:14.818Z"
   },
   {
    "duration": 3,
    "start_time": "2023-02-08T09:22:15.267Z"
   },
   {
    "duration": 6,
    "start_time": "2023-02-08T09:22:15.842Z"
   },
   {
    "duration": 6,
    "start_time": "2023-02-08T09:22:16.514Z"
   },
   {
    "duration": 3,
    "start_time": "2023-02-08T09:22:17.402Z"
   },
   {
    "duration": 2,
    "start_time": "2023-02-08T09:22:18.067Z"
   },
   {
    "duration": 148,
    "start_time": "2023-02-08T09:22:18.651Z"
   },
   {
    "duration": 149,
    "start_time": "2023-02-08T09:22:20.163Z"
   },
   {
    "duration": 2,
    "start_time": "2023-02-08T09:25:40.222Z"
   },
   {
    "duration": 146,
    "start_time": "2023-02-08T09:25:46.982Z"
   },
   {
    "duration": 143,
    "start_time": "2023-02-08T09:26:14.055Z"
   },
   {
    "duration": 4,
    "start_time": "2023-02-08T09:38:11.099Z"
   },
   {
    "duration": 3,
    "start_time": "2023-02-08T09:38:11.475Z"
   },
   {
    "duration": 3,
    "start_time": "2023-02-08T09:38:11.682Z"
   },
   {
    "duration": 2,
    "start_time": "2023-02-08T09:38:12.098Z"
   },
   {
    "duration": 155,
    "start_time": "2023-02-08T09:38:12.938Z"
   },
   {
    "duration": 144,
    "start_time": "2023-02-08T09:39:31.564Z"
   },
   {
    "duration": 13,
    "start_time": "2023-02-08T09:40:12.373Z"
   },
   {
    "duration": 61,
    "start_time": "2023-02-08T09:40:22.211Z"
   },
   {
    "duration": 3,
    "start_time": "2023-02-08T09:40:38.925Z"
   },
   {
    "duration": 8,
    "start_time": "2023-02-08T09:50:22.997Z"
   },
   {
    "duration": 2,
    "start_time": "2023-02-08T09:50:24.631Z"
   },
   {
    "duration": 161,
    "start_time": "2023-02-08T09:50:25.223Z"
   },
   {
    "duration": 7,
    "start_time": "2023-02-08T09:50:41.512Z"
   },
   {
    "duration": 432,
    "start_time": "2023-02-08T09:50:42.199Z"
   },
   {
    "duration": 120,
    "start_time": "2023-02-08T09:50:42.799Z"
   },
   {
    "duration": 499,
    "start_time": "2023-02-08T09:50:43.584Z"
   },
   {
    "duration": 10,
    "start_time": "2023-02-08T09:50:47.783Z"
   },
   {
    "duration": 4,
    "start_time": "2023-02-08T09:50:49.431Z"
   },
   {
    "duration": 7,
    "start_time": "2023-02-08T09:50:50.192Z"
   },
   {
    "duration": 20,
    "start_time": "2023-02-08T09:50:51.420Z"
   },
   {
    "duration": 8,
    "start_time": "2023-02-08T09:50:53.106Z"
   },
   {
    "duration": 6,
    "start_time": "2023-02-08T09:50:53.552Z"
   },
   {
    "duration": 20,
    "start_time": "2023-02-08T09:50:53.999Z"
   },
   {
    "duration": 19,
    "start_time": "2023-02-08T09:50:54.471Z"
   },
   {
    "duration": 18,
    "start_time": "2023-02-08T09:50:54.959Z"
   },
   {
    "duration": 21,
    "start_time": "2023-02-08T09:51:36.377Z"
   },
   {
    "duration": 10,
    "start_time": "2023-02-08T09:51:37.192Z"
   },
   {
    "duration": 328,
    "start_time": "2023-02-08T09:51:47.624Z"
   },
   {
    "duration": 3,
    "start_time": "2023-02-08T09:51:49.025Z"
   },
   {
    "duration": 329,
    "start_time": "2023-02-08T09:51:50.169Z"
   },
   {
    "duration": 4,
    "start_time": "2023-02-08T09:51:51.018Z"
   },
   {
    "duration": 574,
    "start_time": "2023-02-08T09:51:51.880Z"
   },
   {
    "duration": 4,
    "start_time": "2023-02-08T09:51:52.456Z"
   },
   {
    "duration": 422,
    "start_time": "2023-02-08T09:52:46.690Z"
   },
   {
    "duration": 503,
    "start_time": "2023-02-08T09:52:47.232Z"
   },
   {
    "duration": 4,
    "start_time": "2023-02-08T09:52:48.866Z"
   },
   {
    "duration": 2,
    "start_time": "2023-02-08T09:52:49.353Z"
   },
   {
    "duration": 6,
    "start_time": "2023-02-08T09:52:50.025Z"
   },
   {
    "duration": 2,
    "start_time": "2023-02-08T09:52:50.465Z"
   },
   {
    "duration": 5,
    "start_time": "2023-02-08T09:52:50.817Z"
   },
   {
    "duration": 2,
    "start_time": "2023-02-08T09:52:51.218Z"
   },
   {
    "duration": 297,
    "start_time": "2023-02-08T09:52:51.674Z"
   },
   {
    "duration": 2,
    "start_time": "2023-02-08T09:52:52.459Z"
   },
   {
    "duration": 19,
    "start_time": "2023-02-08T09:52:53.361Z"
   },
   {
    "duration": 2,
    "start_time": "2023-02-08T09:52:53.665Z"
   },
   {
    "duration": 263,
    "start_time": "2023-02-08T09:52:53.882Z"
   },
   {
    "duration": 2,
    "start_time": "2023-02-08T09:52:54.330Z"
   },
   {
    "duration": 3,
    "start_time": "2023-02-08T09:52:56.000Z"
   },
   {
    "duration": 3,
    "start_time": "2023-02-08T09:52:56.457Z"
   },
   {
    "duration": 6,
    "start_time": "2023-02-08T09:52:57.225Z"
   },
   {
    "duration": 5,
    "start_time": "2023-02-08T09:52:59.010Z"
   },
   {
    "duration": 3,
    "start_time": "2023-02-08T09:53:02.233Z"
   },
   {
    "duration": 2,
    "start_time": "2023-02-08T09:53:02.442Z"
   },
   {
    "duration": 3,
    "start_time": "2023-02-08T09:53:06.025Z"
   },
   {
    "duration": 207,
    "start_time": "2023-02-08T09:53:06.811Z"
   },
   {
    "duration": 8,
    "start_time": "2023-02-08T09:54:08.069Z"
   },
   {
    "duration": 14,
    "start_time": "2023-02-08T09:54:27.515Z"
   },
   {
    "duration": 13,
    "start_time": "2023-02-08T09:55:37.780Z"
   },
   {
    "duration": 6,
    "start_time": "2023-02-08T09:55:56.197Z"
   },
   {
    "duration": 1399,
    "start_time": "2023-02-08T09:56:14.341Z"
   },
   {
    "duration": 0,
    "start_time": "2023-02-08T09:56:15.742Z"
   },
   {
    "duration": 0,
    "start_time": "2023-02-08T09:56:15.743Z"
   },
   {
    "duration": 0,
    "start_time": "2023-02-08T09:56:15.744Z"
   },
   {
    "duration": 0,
    "start_time": "2023-02-08T09:56:15.745Z"
   },
   {
    "duration": 0,
    "start_time": "2023-02-08T09:56:15.746Z"
   },
   {
    "duration": 385,
    "start_time": "2023-02-08T09:56:15.925Z"
   },
   {
    "duration": 430,
    "start_time": "2023-02-08T09:56:16.312Z"
   },
   {
    "duration": 1251,
    "start_time": "2023-02-08T09:56:16.746Z"
   },
   {
    "duration": 0,
    "start_time": "2023-02-08T09:56:17.999Z"
   },
   {
    "duration": 0,
    "start_time": "2023-02-08T09:56:18.000Z"
   },
   {
    "duration": 0,
    "start_time": "2023-02-08T09:56:18.001Z"
   },
   {
    "duration": 0,
    "start_time": "2023-02-08T09:56:18.002Z"
   },
   {
    "duration": 0,
    "start_time": "2023-02-08T09:56:18.003Z"
   },
   {
    "duration": 0,
    "start_time": "2023-02-08T09:56:18.004Z"
   },
   {
    "duration": 0,
    "start_time": "2023-02-08T09:56:18.005Z"
   },
   {
    "duration": 0,
    "start_time": "2023-02-08T09:56:18.006Z"
   },
   {
    "duration": 2,
    "start_time": "2023-02-08T09:56:18.141Z"
   },
   {
    "duration": 1149,
    "start_time": "2023-02-08T09:56:18.293Z"
   },
   {
    "duration": 0,
    "start_time": "2023-02-08T09:56:19.443Z"
   },
   {
    "duration": 4,
    "start_time": "2023-02-08T09:56:20.318Z"
   },
   {
    "duration": 3,
    "start_time": "2023-02-08T09:56:20.493Z"
   },
   {
    "duration": 4,
    "start_time": "2023-02-08T09:56:20.669Z"
   },
   {
    "duration": 8,
    "start_time": "2023-02-08T09:56:21.108Z"
   },
   {
    "duration": 2,
    "start_time": "2023-02-08T09:56:22.253Z"
   },
   {
    "duration": 3,
    "start_time": "2023-02-08T09:56:23.317Z"
   },
   {
    "duration": 2,
    "start_time": "2023-02-08T09:56:23.805Z"
   },
   {
    "duration": 3,
    "start_time": "2023-02-08T09:56:24.692Z"
   },
   {
    "duration": 1601,
    "start_time": "2023-02-08T09:56:25.309Z"
   },
   {
    "duration": 1349,
    "start_time": "2023-02-08T09:56:29.765Z"
   },
   {
    "duration": 4,
    "start_time": "2023-02-08T09:56:32.430Z"
   },
   {
    "duration": 1624,
    "start_time": "2023-02-08T09:57:53.087Z"
   },
   {
    "duration": 3,
    "start_time": "2023-02-08T09:57:56.198Z"
   },
   {
    "duration": 1706,
    "start_time": "2023-02-08T09:58:11.712Z"
   },
   {
    "duration": 1602,
    "start_time": "2023-02-08T09:58:13.421Z"
   },
   {
    "duration": 84,
    "start_time": "2023-02-08T09:58:15.026Z"
   },
   {
    "duration": 1469,
    "start_time": "2023-02-08T09:58:29.543Z"
   },
   {
    "duration": 3,
    "start_time": "2023-02-08T09:58:34.117Z"
   },
   {
    "duration": 2967,
    "start_time": "2023-02-08T09:58:50.567Z"
   },
   {
    "duration": 3285,
    "start_time": "2023-02-08T09:58:58.936Z"
   },
   {
    "duration": 3,
    "start_time": "2023-02-08T09:59:04.681Z"
   },
   {
    "duration": 3020,
    "start_time": "2023-02-08T09:59:44.041Z"
   },
   {
    "duration": 3038,
    "start_time": "2023-02-08T09:59:52.321Z"
   },
   {
    "duration": 3,
    "start_time": "2023-02-08T10:00:00.978Z"
   },
   {
    "duration": 3,
    "start_time": "2023-02-08T10:00:05.914Z"
   },
   {
    "duration": 29444,
    "start_time": "2023-02-08T10:00:13.537Z"
   },
   {
    "duration": 30168,
    "start_time": "2023-02-08T10:00:42.983Z"
   },
   {
    "duration": 4,
    "start_time": "2023-02-08T10:01:13.152Z"
   },
   {
    "duration": 3034,
    "start_time": "2023-02-08T10:02:11.650Z"
   },
   {
    "duration": 3022,
    "start_time": "2023-02-08T10:03:39.116Z"
   },
   {
    "duration": 3112,
    "start_time": "2023-02-08T10:03:42.140Z"
   },
   {
    "duration": 3,
    "start_time": "2023-02-08T10:03:45.254Z"
   },
   {
    "duration": 28807,
    "start_time": "2023-02-08T10:05:46.975Z"
   },
   {
    "duration": 29710,
    "start_time": "2023-02-08T10:06:32.422Z"
   },
   {
    "duration": 4,
    "start_time": "2023-02-08T10:07:02.134Z"
   },
   {
    "duration": 3,
    "start_time": "2023-02-08T10:07:09.743Z"
   },
   {
    "duration": 29403,
    "start_time": "2023-02-08T10:07:10.687Z"
   },
   {
    "duration": 29566,
    "start_time": "2023-02-08T10:07:40.092Z"
   },
   {
    "duration": 4,
    "start_time": "2023-02-08T10:08:09.659Z"
   },
   {
    "duration": 3,
    "start_time": "2023-02-08T10:20:22.277Z"
   },
   {
    "duration": 8,
    "start_time": "2023-02-08T10:20:23.853Z"
   },
   {
    "duration": 8,
    "start_time": "2023-02-08T10:20:38.054Z"
   },
   {
    "duration": 2,
    "start_time": "2023-02-08T10:22:17.840Z"
   },
   {
    "duration": 4,
    "start_time": "2023-02-08T10:22:19.239Z"
   },
   {
    "duration": 31890,
    "start_time": "2023-02-08T10:22:19.991Z"
   },
   {
    "duration": 4,
    "start_time": "2023-02-08T10:23:49.865Z"
   },
   {
    "duration": 409,
    "start_time": "2023-02-08T10:23:50.888Z"
   },
   {
    "duration": 115,
    "start_time": "2023-02-08T10:23:51.937Z"
   },
   {
    "duration": 441,
    "start_time": "2023-02-08T10:23:52.408Z"
   },
   {
    "duration": 16,
    "start_time": "2023-02-08T10:23:53.400Z"
   },
   {
    "duration": 5,
    "start_time": "2023-02-08T10:23:54.936Z"
   },
   {
    "duration": 5,
    "start_time": "2023-02-08T10:23:55.824Z"
   },
   {
    "duration": 34,
    "start_time": "2023-02-08T10:23:56.882Z"
   },
   {
    "duration": 19,
    "start_time": "2023-02-08T10:23:59.601Z"
   },
   {
    "duration": 7,
    "start_time": "2023-02-08T10:24:00.160Z"
   },
   {
    "duration": 12,
    "start_time": "2023-02-08T10:24:00.721Z"
   },
   {
    "duration": 22,
    "start_time": "2023-02-08T10:24:02.360Z"
   },
   {
    "duration": 8,
    "start_time": "2023-02-08T10:24:23.240Z"
   },
   {
    "duration": 372,
    "start_time": "2023-02-08T10:24:25.363Z"
   },
   {
    "duration": 3,
    "start_time": "2023-02-08T10:24:26.449Z"
   },
   {
    "duration": 348,
    "start_time": "2023-02-08T10:24:27.401Z"
   },
   {
    "duration": 3,
    "start_time": "2023-02-08T10:24:28.018Z"
   },
   {
    "duration": 365,
    "start_time": "2023-02-08T10:24:29.041Z"
   },
   {
    "duration": 3,
    "start_time": "2023-02-08T10:24:29.609Z"
   },
   {
    "duration": 450,
    "start_time": "2023-02-08T10:24:31.185Z"
   },
   {
    "duration": 428,
    "start_time": "2023-02-08T10:24:31.721Z"
   },
   {
    "duration": 6,
    "start_time": "2023-02-08T10:24:33.458Z"
   },
   {
    "duration": 17,
    "start_time": "2023-02-08T10:24:45.602Z"
   },
   {
    "duration": 7,
    "start_time": "2023-02-08T10:24:49.433Z"
   },
   {
    "duration": 3,
    "start_time": "2023-02-08T10:24:50.066Z"
   },
   {
    "duration": 7,
    "start_time": "2023-02-08T10:24:50.518Z"
   },
   {
    "duration": 3,
    "start_time": "2023-02-08T10:24:50.979Z"
   },
   {
    "duration": 297,
    "start_time": "2023-02-08T10:24:51.538Z"
   },
   {
    "duration": 3,
    "start_time": "2023-02-08T10:24:52.041Z"
   },
   {
    "duration": 19,
    "start_time": "2023-02-08T10:24:53.185Z"
   },
   {
    "duration": 2,
    "start_time": "2023-02-08T10:24:53.618Z"
   },
   {
    "duration": 367,
    "start_time": "2023-02-08T10:24:54.114Z"
   },
   {
    "duration": 3,
    "start_time": "2023-02-08T10:24:55.147Z"
   },
   {
    "duration": 4,
    "start_time": "2023-02-08T10:24:56.962Z"
   },
   {
    "duration": 3,
    "start_time": "2023-02-08T10:24:57.425Z"
   },
   {
    "duration": 5,
    "start_time": "2023-02-08T10:24:57.921Z"
   },
   {
    "duration": 5,
    "start_time": "2023-02-08T10:24:58.897Z"
   },
   {
    "duration": 2,
    "start_time": "2023-02-08T10:25:08.626Z"
   },
   {
    "duration": 2,
    "start_time": "2023-02-08T10:25:09.034Z"
   },
   {
    "duration": 1652,
    "start_time": "2023-02-08T10:25:09.362Z"
   },
   {
    "duration": 1885,
    "start_time": "2023-02-08T10:25:11.018Z"
   },
   {
    "duration": 5,
    "start_time": "2023-02-08T10:25:12.914Z"
   },
   {
    "duration": 3455,
    "start_time": "2023-02-08T10:25:12.922Z"
   },
   {
    "duration": 3446,
    "start_time": "2023-02-08T10:25:16.378Z"
   },
   {
    "duration": 4,
    "start_time": "2023-02-08T10:25:19.825Z"
   },
   {
    "duration": 30332,
    "start_time": "2023-02-08T10:25:19.832Z"
   },
   {
    "duration": 30964,
    "start_time": "2023-02-08T10:25:50.166Z"
   },
   {
    "duration": 4,
    "start_time": "2023-02-08T10:26:21.132Z"
   },
   {
    "duration": 3,
    "start_time": "2023-02-08T10:26:33.923Z"
   },
   {
    "duration": 4,
    "start_time": "2023-02-08T10:26:34.427Z"
   },
   {
    "duration": 32479,
    "start_time": "2023-02-08T10:26:38.869Z"
   },
   {
    "duration": 43771,
    "start_time": "2023-02-08T10:27:11.350Z"
   },
   {
    "duration": 3,
    "start_time": "2023-02-08T10:28:31.079Z"
   },
   {
    "duration": 4,
    "start_time": "2023-02-08T10:28:31.844Z"
   },
   {
    "duration": 31888,
    "start_time": "2023-02-08T10:28:32.552Z"
   },
   {
    "duration": 43437,
    "start_time": "2023-02-08T10:29:04.443Z"
   },
   {
    "duration": 9,
    "start_time": "2023-02-08T10:29:47.881Z"
   },
   {
    "duration": 0,
    "start_time": "2023-02-08T10:29:47.892Z"
   },
   {
    "duration": 9,
    "start_time": "2023-02-08T10:31:38.449Z"
   },
   {
    "duration": 2,
    "start_time": "2023-02-08T10:34:48.748Z"
   },
   {
    "duration": 3,
    "start_time": "2023-02-08T10:34:49.180Z"
   },
   {
    "duration": 2,
    "start_time": "2023-02-08T10:34:49.476Z"
   },
   {
    "duration": 2,
    "start_time": "2023-02-08T10:34:49.780Z"
   },
   {
    "duration": 2,
    "start_time": "2023-02-08T10:34:50.060Z"
   },
   {
    "duration": 3,
    "start_time": "2023-02-08T10:46:38.256Z"
   },
   {
    "duration": 15,
    "start_time": "2023-02-08T10:46:38.672Z"
   },
   {
    "duration": 17,
    "start_time": "2023-02-08T10:47:18.856Z"
   },
   {
    "duration": 103,
    "start_time": "2023-02-08T11:04:03.546Z"
   },
   {
    "duration": 4,
    "start_time": "2023-02-08T11:04:32.505Z"
   },
   {
    "duration": 415,
    "start_time": "2023-02-08T11:04:33.266Z"
   },
   {
    "duration": 111,
    "start_time": "2023-02-08T11:04:33.744Z"
   },
   {
    "duration": 503,
    "start_time": "2023-02-08T11:04:33.964Z"
   },
   {
    "duration": 9,
    "start_time": "2023-02-08T11:04:34.469Z"
   },
   {
    "duration": 8,
    "start_time": "2023-02-08T11:04:34.721Z"
   },
   {
    "duration": 5,
    "start_time": "2023-02-08T11:04:34.865Z"
   },
   {
    "duration": 20,
    "start_time": "2023-02-08T11:04:35.025Z"
   },
   {
    "duration": 8,
    "start_time": "2023-02-08T11:04:35.480Z"
   },
   {
    "duration": 6,
    "start_time": "2023-02-08T11:04:35.636Z"
   },
   {
    "duration": 12,
    "start_time": "2023-02-08T11:04:35.793Z"
   },
   {
    "duration": 27,
    "start_time": "2023-02-08T11:04:35.961Z"
   },
   {
    "duration": 8,
    "start_time": "2023-02-08T11:04:36.113Z"
   },
   {
    "duration": 345,
    "start_time": "2023-02-08T11:04:36.945Z"
   },
   {
    "duration": 2,
    "start_time": "2023-02-08T11:04:37.293Z"
   },
   {
    "duration": 409,
    "start_time": "2023-02-08T11:04:37.432Z"
   },
   {
    "duration": 3,
    "start_time": "2023-02-08T11:04:37.843Z"
   },
   {
    "duration": 348,
    "start_time": "2023-02-08T11:04:37.907Z"
   },
   {
    "duration": 3,
    "start_time": "2023-02-08T11:04:38.257Z"
   },
   {
    "duration": 442,
    "start_time": "2023-02-08T11:04:38.713Z"
   },
   {
    "duration": 458,
    "start_time": "2023-02-08T11:04:39.158Z"
   },
   {
    "duration": 8,
    "start_time": "2023-02-08T11:04:39.618Z"
   },
   {
    "duration": 20,
    "start_time": "2023-02-08T11:04:39.628Z"
   },
   {
    "duration": 6,
    "start_time": "2023-02-08T11:04:39.720Z"
   },
   {
    "duration": 3,
    "start_time": "2023-02-08T11:04:39.889Z"
   },
   {
    "duration": 5,
    "start_time": "2023-02-08T11:04:40.043Z"
   },
   {
    "duration": 3,
    "start_time": "2023-02-08T11:04:40.209Z"
   },
   {
    "duration": 393,
    "start_time": "2023-02-08T11:04:40.361Z"
   },
   {
    "duration": 2,
    "start_time": "2023-02-08T11:04:40.756Z"
   },
   {
    "duration": 19,
    "start_time": "2023-02-08T11:04:40.856Z"
   },
   {
    "duration": 2,
    "start_time": "2023-02-08T11:04:41.185Z"
   },
   {
    "duration": 277,
    "start_time": "2023-02-08T11:04:41.361Z"
   },
   {
    "duration": 3,
    "start_time": "2023-02-08T11:04:41.640Z"
   },
   {
    "duration": 3,
    "start_time": "2023-02-08T11:04:42.210Z"
   },
   {
    "duration": 2,
    "start_time": "2023-02-08T11:04:42.377Z"
   },
   {
    "duration": 5,
    "start_time": "2023-02-08T11:04:42.562Z"
   },
   {
    "duration": 5,
    "start_time": "2023-02-08T11:04:42.747Z"
   },
   {
    "duration": 3,
    "start_time": "2023-02-08T11:04:43.089Z"
   },
   {
    "duration": 3,
    "start_time": "2023-02-08T11:04:43.273Z"
   },
   {
    "duration": 1343,
    "start_time": "2023-02-08T11:04:43.465Z"
   },
   {
    "duration": 1599,
    "start_time": "2023-02-08T11:04:44.811Z"
   },
   {
    "duration": 5,
    "start_time": "2023-02-08T11:04:46.413Z"
   },
   {
    "duration": 3005,
    "start_time": "2023-02-08T11:04:46.505Z"
   },
   {
    "duration": 3027,
    "start_time": "2023-02-08T11:04:49.512Z"
   },
   {
    "duration": 3,
    "start_time": "2023-02-08T11:04:52.541Z"
   },
   {
    "duration": 42021,
    "start_time": "2023-02-08T11:04:52.545Z"
   },
   {
    "duration": 4,
    "start_time": "2023-02-08T11:05:34.567Z"
   },
   {
    "duration": 44413,
    "start_time": "2023-02-08T11:06:49.780Z"
   },
   {
    "duration": 44565,
    "start_time": "2023-02-08T11:10:44.253Z"
   },
   {
    "duration": 41079,
    "start_time": "2023-02-08T11:15:42.021Z"
   },
   {
    "duration": 43447,
    "start_time": "2023-02-08T11:16:23.106Z"
   },
   {
    "duration": 4,
    "start_time": "2023-02-08T11:17:06.555Z"
   },
   {
    "duration": 4,
    "start_time": "2023-02-08T11:17:34.292Z"
   },
   {
    "duration": 28324,
    "start_time": "2023-02-08T11:18:10.527Z"
   },
   {
    "duration": 1870389,
    "start_time": "2023-02-08T11:23:14.947Z"
   },
   {
    "duration": 80,
    "start_time": "2023-02-08T11:54:25.338Z"
   },
   {
    "duration": 8,
    "start_time": "2023-02-08T11:54:25.420Z"
   },
   {
    "duration": 0,
    "start_time": "2023-02-08T11:54:25.431Z"
   },
   {
    "duration": 0,
    "start_time": "2023-02-08T11:54:25.433Z"
   },
   {
    "duration": 5,
    "start_time": "2023-02-08T13:21:13.853Z"
   },
   {
    "duration": 586,
    "start_time": "2023-02-08T13:21:18.423Z"
   },
   {
    "duration": 149,
    "start_time": "2023-02-08T13:21:19.891Z"
   },
   {
    "duration": 481,
    "start_time": "2023-02-08T13:21:21.340Z"
   },
   {
    "duration": 9,
    "start_time": "2023-02-08T13:21:23.236Z"
   },
   {
    "duration": 5,
    "start_time": "2023-02-08T13:21:25.244Z"
   },
   {
    "duration": 10,
    "start_time": "2023-02-08T13:21:26.726Z"
   },
   {
    "duration": 29,
    "start_time": "2023-02-08T13:21:27.817Z"
   },
   {
    "duration": 11,
    "start_time": "2023-02-08T13:21:29.852Z"
   },
   {
    "duration": 7,
    "start_time": "2023-02-08T13:21:31.135Z"
   },
   {
    "duration": 9,
    "start_time": "2023-02-08T13:21:32.068Z"
   },
   {
    "duration": 23,
    "start_time": "2023-02-08T13:21:34.093Z"
   },
   {
    "duration": 3,
    "start_time": "2023-02-08T13:21:34.828Z"
   },
   {
    "duration": 338,
    "start_time": "2023-02-08T13:21:39.085Z"
   },
   {
    "duration": 2,
    "start_time": "2023-02-08T13:21:40.069Z"
   },
   {
    "duration": 474,
    "start_time": "2023-02-08T13:21:41.468Z"
   },
   {
    "duration": 3,
    "start_time": "2023-02-08T13:21:42.423Z"
   },
   {
    "duration": 459,
    "start_time": "2023-02-08T13:21:43.364Z"
   },
   {
    "duration": 3,
    "start_time": "2023-02-08T13:21:44.332Z"
   },
   {
    "duration": 456,
    "start_time": "2023-02-08T13:21:46.188Z"
   },
   {
    "duration": 450,
    "start_time": "2023-02-08T13:21:47.518Z"
   },
   {
    "duration": 7,
    "start_time": "2023-02-08T13:21:50.125Z"
   },
   {
    "duration": 4,
    "start_time": "2023-02-08T13:21:50.627Z"
   },
   {
    "duration": 7,
    "start_time": "2023-02-08T13:21:51.141Z"
   },
   {
    "duration": 2,
    "start_time": "2023-02-08T13:21:51.781Z"
   },
   {
    "duration": 5,
    "start_time": "2023-02-08T13:21:52.245Z"
   },
   {
    "duration": 2,
    "start_time": "2023-02-08T13:21:52.765Z"
   },
   {
    "duration": 362,
    "start_time": "2023-02-08T13:21:53.493Z"
   },
   {
    "duration": 3,
    "start_time": "2023-02-08T13:21:54.380Z"
   },
   {
    "duration": 21,
    "start_time": "2023-02-08T13:21:55.927Z"
   },
   {
    "duration": 3,
    "start_time": "2023-02-08T13:22:00.030Z"
   },
   {
    "duration": 342,
    "start_time": "2023-02-08T13:22:01.285Z"
   },
   {
    "duration": 4,
    "start_time": "2023-02-08T13:22:02.528Z"
   },
   {
    "duration": 5,
    "start_time": "2023-02-08T13:22:05.235Z"
   },
   {
    "duration": 6,
    "start_time": "2023-02-08T13:22:06.117Z"
   },
   {
    "duration": 8,
    "start_time": "2023-02-08T13:22:07.039Z"
   },
   {
    "duration": 6,
    "start_time": "2023-02-08T13:22:11.636Z"
   },
   {
    "duration": 2,
    "start_time": "2023-02-08T13:22:19.781Z"
   },
   {
    "duration": 3,
    "start_time": "2023-02-08T13:22:20.268Z"
   },
   {
    "duration": 1439,
    "start_time": "2023-02-08T13:22:20.782Z"
   },
   {
    "duration": 2200,
    "start_time": "2023-02-08T13:22:22.224Z"
   },
   {
    "duration": 11,
    "start_time": "2023-02-08T13:22:24.515Z"
   },
   {
    "duration": 3188,
    "start_time": "2023-02-08T13:22:27.286Z"
   },
   {
    "duration": 3066,
    "start_time": "2023-02-08T13:22:31.197Z"
   },
   {
    "duration": 4,
    "start_time": "2023-02-08T13:22:35.123Z"
   },
   {
    "duration": 43121,
    "start_time": "2023-02-08T13:22:36.320Z"
   },
   {
    "duration": 47769,
    "start_time": "2023-02-08T13:23:54.179Z"
   },
   {
    "duration": 5,
    "start_time": "2023-02-08T13:24:45.427Z"
   },
   {
    "duration": 31015,
    "start_time": "2023-02-08T13:24:50.447Z"
   },
   {
    "duration": 31781,
    "start_time": "2023-02-08T13:25:48.888Z"
   },
   {
    "duration": 4,
    "start_time": "2023-02-08T13:26:32.577Z"
   },
   {
    "duration": 1600,
    "start_time": "2023-02-08T17:23:41.071Z"
   },
   {
    "duration": 1185,
    "start_time": "2023-02-08T17:23:42.674Z"
   },
   {
    "duration": 500,
    "start_time": "2023-02-08T17:23:43.861Z"
   },
   {
    "duration": 2110,
    "start_time": "2023-02-08T17:23:44.364Z"
   },
   {
    "duration": 12,
    "start_time": "2023-02-08T17:23:46.476Z"
   },
   {
    "duration": 32,
    "start_time": "2023-02-08T17:23:46.490Z"
   },
   {
    "duration": 15,
    "start_time": "2023-02-08T17:23:46.524Z"
   },
   {
    "duration": 55,
    "start_time": "2023-02-08T17:23:46.541Z"
   },
   {
    "duration": 10,
    "start_time": "2023-02-08T17:23:47.717Z"
   },
   {
    "duration": 5,
    "start_time": "2023-02-08T17:23:48.245Z"
   },
   {
    "duration": 10,
    "start_time": "2023-02-08T17:23:48.926Z"
   },
   {
    "duration": 38,
    "start_time": "2023-02-08T17:23:49.453Z"
   },
   {
    "duration": 2,
    "start_time": "2023-02-08T17:23:50.079Z"
   },
   {
    "duration": 359,
    "start_time": "2023-02-08T17:23:52.195Z"
   },
   {
    "duration": 3,
    "start_time": "2023-02-08T17:23:52.751Z"
   },
   {
    "duration": 401,
    "start_time": "2023-02-08T17:23:54.004Z"
   },
   {
    "duration": 2,
    "start_time": "2023-02-08T17:23:54.613Z"
   },
   {
    "duration": 319,
    "start_time": "2023-02-08T17:23:55.722Z"
   },
   {
    "duration": 3,
    "start_time": "2023-02-08T17:23:56.238Z"
   },
   {
    "duration": 451,
    "start_time": "2023-02-08T17:23:57.761Z"
   },
   {
    "duration": 406,
    "start_time": "2023-02-08T17:23:58.288Z"
   },
   {
    "duration": 5,
    "start_time": "2023-02-08T17:24:00.193Z"
   },
   {
    "duration": 3,
    "start_time": "2023-02-08T17:24:00.885Z"
   },
   {
    "duration": 5,
    "start_time": "2023-02-08T17:24:01.396Z"
   },
   {
    "duration": 3,
    "start_time": "2023-02-08T17:24:01.953Z"
   },
   {
    "duration": 7,
    "start_time": "2023-02-08T17:24:02.473Z"
   },
   {
    "duration": 4,
    "start_time": "2023-02-08T17:24:03.023Z"
   },
   {
    "duration": 285,
    "start_time": "2023-02-08T17:24:03.746Z"
   },
   {
    "duration": 6,
    "start_time": "2023-02-08T17:24:04.869Z"
   },
   {
    "duration": 25,
    "start_time": "2023-02-08T17:24:05.914Z"
   },
   {
    "duration": 2,
    "start_time": "2023-02-08T17:24:06.440Z"
   },
   {
    "duration": 345,
    "start_time": "2023-02-08T17:24:07.045Z"
   },
   {
    "duration": 3,
    "start_time": "2023-02-08T17:24:07.593Z"
   },
   {
    "duration": 4,
    "start_time": "2023-02-08T17:24:09.537Z"
   },
   {
    "duration": 3,
    "start_time": "2023-02-08T17:24:10.210Z"
   },
   {
    "duration": 6,
    "start_time": "2023-02-08T17:24:10.961Z"
   },
   {
    "duration": 8,
    "start_time": "2023-02-08T17:24:11.566Z"
   },
   {
    "duration": 3,
    "start_time": "2023-02-08T17:24:13.017Z"
   },
   {
    "duration": 3,
    "start_time": "2023-02-08T17:24:13.577Z"
   },
   {
    "duration": 1403,
    "start_time": "2023-02-08T17:24:14.392Z"
   },
   {
    "duration": 1987,
    "start_time": "2023-02-08T17:24:15.797Z"
   },
   {
    "duration": 4,
    "start_time": "2023-02-08T17:24:17.787Z"
   },
   {
    "duration": 2893,
    "start_time": "2023-02-08T17:24:20.140Z"
   },
   {
    "duration": 3042,
    "start_time": "2023-02-08T17:24:24.169Z"
   },
   {
    "duration": 4,
    "start_time": "2023-02-08T17:24:29.280Z"
   },
   {
    "duration": 40407,
    "start_time": "2023-02-08T17:24:30.466Z"
   },
   {
    "duration": 3,
    "start_time": "2023-02-08T17:25:41.882Z"
   },
   {
    "duration": 79434,
    "start_time": "2023-02-08T17:25:56.442Z"
   },
   {
    "duration": 87225,
    "start_time": "2023-02-08T17:27:40.713Z"
   },
   {
    "duration": 6,
    "start_time": "2023-02-08T17:29:47.751Z"
   },
   {
    "duration": 28616,
    "start_time": "2023-02-08T17:29:57.845Z"
   },
   {
    "duration": 29362,
    "start_time": "2023-02-08T17:30:34.839Z"
   },
   {
    "duration": 4,
    "start_time": "2023-02-08T17:31:36.136Z"
   },
   {
    "duration": 1960,
    "start_time": "2023-02-09T06:15:48.124Z"
   },
   {
    "duration": 1262,
    "start_time": "2023-02-09T06:15:50.086Z"
   },
   {
    "duration": 505,
    "start_time": "2023-02-09T06:15:51.351Z"
   },
   {
    "duration": 2064,
    "start_time": "2023-02-09T06:15:51.859Z"
   },
   {
    "duration": 15,
    "start_time": "2023-02-09T06:15:53.925Z"
   },
   {
    "duration": 7,
    "start_time": "2023-02-09T06:15:54.121Z"
   },
   {
    "duration": 6,
    "start_time": "2023-02-09T06:15:54.874Z"
   },
   {
    "duration": 21,
    "start_time": "2023-02-09T06:15:55.498Z"
   },
   {
    "duration": 11,
    "start_time": "2023-02-09T06:15:57.939Z"
   },
   {
    "duration": 5,
    "start_time": "2023-02-09T06:15:58.610Z"
   },
   {
    "duration": 12,
    "start_time": "2023-02-09T06:15:59.418Z"
   },
   {
    "duration": 33,
    "start_time": "2023-02-09T06:16:00.550Z"
   },
   {
    "duration": 2,
    "start_time": "2023-02-09T06:16:01.226Z"
   },
   {
    "duration": 351,
    "start_time": "2023-02-09T06:16:03.552Z"
   },
   {
    "duration": 3,
    "start_time": "2023-02-09T06:16:04.562Z"
   },
   {
    "duration": 462,
    "start_time": "2023-02-09T06:16:05.779Z"
   },
   {
    "duration": 3,
    "start_time": "2023-02-09T06:16:06.418Z"
   },
   {
    "duration": 372,
    "start_time": "2023-02-09T06:16:07.682Z"
   },
   {
    "duration": 3,
    "start_time": "2023-02-09T06:16:08.255Z"
   },
   {
    "duration": 433,
    "start_time": "2023-02-09T06:16:09.855Z"
   },
   {
    "duration": 434,
    "start_time": "2023-02-09T06:16:10.338Z"
   },
   {
    "duration": 7,
    "start_time": "2023-02-09T06:16:11.852Z"
   },
   {
    "duration": 3,
    "start_time": "2023-02-09T06:16:12.371Z"
   },
   {
    "duration": 8,
    "start_time": "2023-02-09T06:16:12.868Z"
   },
   {
    "duration": 3,
    "start_time": "2023-02-09T06:16:13.351Z"
   },
   {
    "duration": 6,
    "start_time": "2023-02-09T06:16:13.850Z"
   },
   {
    "duration": 3,
    "start_time": "2023-02-09T06:16:14.354Z"
   },
   {
    "duration": 310,
    "start_time": "2023-02-09T06:16:15.090Z"
   },
   {
    "duration": 4,
    "start_time": "2023-02-09T06:16:15.938Z"
   },
   {
    "duration": 31,
    "start_time": "2023-02-09T06:16:17.034Z"
   },
   {
    "duration": 3,
    "start_time": "2023-02-09T06:16:17.498Z"
   },
   {
    "duration": 375,
    "start_time": "2023-02-09T06:16:17.963Z"
   },
   {
    "duration": 3,
    "start_time": "2023-02-09T06:16:18.826Z"
   },
   {
    "duration": 3,
    "start_time": "2023-02-09T06:16:20.802Z"
   },
   {
    "duration": 4,
    "start_time": "2023-02-09T06:16:21.290Z"
   },
   {
    "duration": 6,
    "start_time": "2023-02-09T06:16:22.018Z"
   },
   {
    "duration": 6,
    "start_time": "2023-02-09T06:16:22.787Z"
   },
   {
    "duration": 3,
    "start_time": "2023-02-09T06:16:24.121Z"
   },
   {
    "duration": 3,
    "start_time": "2023-02-09T06:16:24.929Z"
   },
   {
    "duration": 1132,
    "start_time": "2023-02-09T06:16:25.410Z"
   },
   {
    "duration": 1633,
    "start_time": "2023-02-09T06:16:26.546Z"
   },
   {
    "duration": 57,
    "start_time": "2023-02-09T06:16:28.183Z"
   },
   {
    "duration": 3322,
    "start_time": "2023-02-09T06:16:29.873Z"
   },
   {
    "duration": 3464,
    "start_time": "2023-02-09T06:16:33.994Z"
   },
   {
    "duration": 5,
    "start_time": "2023-02-09T06:16:38.010Z"
   },
   {
    "duration": 93578,
    "start_time": "2023-02-09T06:16:38.924Z"
   },
   {
    "duration": 99158,
    "start_time": "2023-02-09T06:18:33.059Z"
   },
   {
    "duration": 4,
    "start_time": "2023-02-09T06:20:23.654Z"
   },
   {
    "duration": 31847,
    "start_time": "2023-02-09T06:21:09.246Z"
   },
   {
    "duration": 31090,
    "start_time": "2023-02-09T06:21:41.095Z"
   },
   {
    "duration": 4,
    "start_time": "2023-02-09T06:22:12.187Z"
   },
   {
    "duration": 1764,
    "start_time": "2023-02-09T11:14:59.943Z"
   },
   {
    "duration": 3,
    "start_time": "2023-02-09T11:15:04.829Z"
   },
   {
    "duration": 1029,
    "start_time": "2023-02-09T11:15:05.669Z"
   },
   {
    "duration": 469,
    "start_time": "2023-02-09T11:15:07.292Z"
   },
   {
    "duration": 1970,
    "start_time": "2023-02-09T11:15:08.614Z"
   },
   {
    "duration": 15,
    "start_time": "2023-02-09T11:15:13.438Z"
   },
   {
    "duration": 8,
    "start_time": "2023-02-09T11:15:16.208Z"
   },
   {
    "duration": 6,
    "start_time": "2023-02-09T11:15:17.287Z"
   },
   {
    "duration": 28,
    "start_time": "2023-02-09T11:15:17.974Z"
   },
   {
    "duration": 9,
    "start_time": "2023-02-09T11:15:19.949Z"
   },
   {
    "duration": 6,
    "start_time": "2023-02-09T11:15:20.638Z"
   },
   {
    "duration": 12,
    "start_time": "2023-02-09T11:15:21.405Z"
   },
   {
    "duration": 30,
    "start_time": "2023-02-09T11:15:22.062Z"
   },
   {
    "duration": 2,
    "start_time": "2023-02-09T11:15:22.574Z"
   },
   {
    "duration": 364,
    "start_time": "2023-02-09T11:15:24.775Z"
   },
   {
    "duration": 3,
    "start_time": "2023-02-09T11:15:26.054Z"
   },
   {
    "duration": 413,
    "start_time": "2023-02-09T11:15:27.846Z"
   },
   {
    "duration": 3,
    "start_time": "2023-02-09T11:15:28.966Z"
   },
   {
    "duration": 344,
    "start_time": "2023-02-09T11:15:29.926Z"
   },
   {
    "duration": 3,
    "start_time": "2023-02-09T11:15:30.902Z"
   },
   {
    "duration": 517,
    "start_time": "2023-02-09T11:15:32.357Z"
   },
   {
    "duration": 436,
    "start_time": "2023-02-09T11:15:34.855Z"
   },
   {
    "duration": 6,
    "start_time": "2023-02-09T11:15:37.278Z"
   },
   {
    "duration": 5,
    "start_time": "2023-02-09T11:15:38.686Z"
   },
   {
    "duration": 7,
    "start_time": "2023-02-09T11:15:39.272Z"
   },
   {
    "duration": 3,
    "start_time": "2023-02-09T11:15:40.262Z"
   },
   {
    "duration": 6,
    "start_time": "2023-02-09T11:15:40.686Z"
   },
   {
    "duration": 3,
    "start_time": "2023-02-09T11:15:41.366Z"
   },
   {
    "duration": 374,
    "start_time": "2023-02-09T11:15:41.862Z"
   },
   {
    "duration": 4,
    "start_time": "2023-02-09T11:15:42.663Z"
   },
   {
    "duration": 29,
    "start_time": "2023-02-09T11:15:44.022Z"
   },
   {
    "duration": 3,
    "start_time": "2023-02-09T11:15:44.709Z"
   },
   {
    "duration": 292,
    "start_time": "2023-02-09T11:15:45.239Z"
   },
   {
    "duration": 3,
    "start_time": "2023-02-09T11:15:46.286Z"
   },
   {
    "duration": 4,
    "start_time": "2023-02-09T11:15:48.798Z"
   },
   {
    "duration": 3,
    "start_time": "2023-02-09T11:15:49.662Z"
   },
   {
    "duration": 7,
    "start_time": "2023-02-09T11:15:50.574Z"
   },
   {
    "duration": 7,
    "start_time": "2023-02-09T11:15:51.936Z"
   },
   {
    "duration": 3,
    "start_time": "2023-02-09T11:15:53.022Z"
   },
   {
    "duration": 3,
    "start_time": "2023-02-09T11:15:53.542Z"
   },
   {
    "duration": 1576,
    "start_time": "2023-02-09T11:15:54.023Z"
   },
   {
    "duration": 5,
    "start_time": "2023-02-09T11:16:34.808Z"
   },
   {
    "duration": 435,
    "start_time": "2023-02-09T11:16:36.024Z"
   },
   {
    "duration": 127,
    "start_time": "2023-02-09T11:16:37.071Z"
   },
   {
    "duration": 466,
    "start_time": "2023-02-09T11:16:37.847Z"
   },
   {
    "duration": 10,
    "start_time": "2023-02-09T11:16:38.863Z"
   },
   {
    "duration": 7,
    "start_time": "2023-02-09T11:16:40.463Z"
   },
   {
    "duration": 5,
    "start_time": "2023-02-09T11:16:40.967Z"
   },
   {
    "duration": 31,
    "start_time": "2023-02-09T11:16:41.547Z"
   },
   {
    "duration": 12,
    "start_time": "2023-02-09T11:16:43.223Z"
   },
   {
    "duration": 8,
    "start_time": "2023-02-09T11:16:43.839Z"
   },
   {
    "duration": 14,
    "start_time": "2023-02-09T11:16:44.799Z"
   },
   {
    "duration": 24,
    "start_time": "2023-02-09T11:16:45.528Z"
   },
   {
    "duration": 2,
    "start_time": "2023-02-09T11:16:53.968Z"
   },
   {
    "duration": 328,
    "start_time": "2023-02-09T11:16:55.879Z"
   },
   {
    "duration": 3,
    "start_time": "2023-02-09T11:16:56.939Z"
   },
   {
    "duration": 549,
    "start_time": "2023-02-09T11:16:57.856Z"
   },
   {
    "duration": 3,
    "start_time": "2023-02-09T11:16:58.408Z"
   },
   {
    "duration": 345,
    "start_time": "2023-02-09T11:16:59.743Z"
   },
   {
    "duration": 3,
    "start_time": "2023-02-09T11:17:00.328Z"
   },
   {
    "duration": 404,
    "start_time": "2023-02-09T11:17:01.863Z"
   },
   {
    "duration": 446,
    "start_time": "2023-02-09T11:17:02.415Z"
   },
   {
    "duration": 6,
    "start_time": "2023-02-09T11:17:04.007Z"
   },
   {
    "duration": 2,
    "start_time": "2023-02-09T11:17:04.496Z"
   },
   {
    "duration": 5,
    "start_time": "2023-02-09T11:17:05.040Z"
   },
   {
    "duration": 3,
    "start_time": "2023-02-09T11:17:05.568Z"
   },
   {
    "duration": 6,
    "start_time": "2023-02-09T11:17:06.031Z"
   },
   {
    "duration": 3,
    "start_time": "2023-02-09T11:17:06.736Z"
   },
   {
    "duration": 304,
    "start_time": "2023-02-09T11:17:07.239Z"
   },
   {
    "duration": 3,
    "start_time": "2023-02-09T11:17:07.759Z"
   },
   {
    "duration": 29,
    "start_time": "2023-02-09T11:17:08.984Z"
   },
   {
    "duration": 3,
    "start_time": "2023-02-09T11:17:09.503Z"
   },
   {
    "duration": 310,
    "start_time": "2023-02-09T11:17:11.264Z"
   },
   {
    "duration": 3,
    "start_time": "2023-02-09T11:17:12.127Z"
   },
   {
    "duration": 3,
    "start_time": "2023-02-09T11:17:14.048Z"
   },
   {
    "duration": 2,
    "start_time": "2023-02-09T11:17:14.504Z"
   },
   {
    "duration": 7,
    "start_time": "2023-02-09T11:17:15.167Z"
   },
   {
    "duration": 6,
    "start_time": "2023-02-09T11:17:16.567Z"
   },
   {
    "duration": 3,
    "start_time": "2023-02-09T11:17:18.176Z"
   },
   {
    "duration": 4,
    "start_time": "2023-02-09T11:17:19.215Z"
   },
   {
    "duration": 1357,
    "start_time": "2023-02-09T11:17:20.080Z"
   },
   {
    "duration": 1184,
    "start_time": "2023-02-09T11:17:23.360Z"
   },
   {
    "duration": 4,
    "start_time": "2023-02-09T11:17:25.880Z"
   },
   {
    "duration": 3146,
    "start_time": "2023-02-09T11:17:27.696Z"
   },
   {
    "duration": 3181,
    "start_time": "2023-02-09T11:17:30.844Z"
   },
   {
    "duration": 4,
    "start_time": "2023-02-09T11:17:36.169Z"
   },
   {
    "duration": 84625,
    "start_time": "2023-02-09T11:17:37.935Z"
   },
   {
    "duration": 89033,
    "start_time": "2023-02-09T11:20:41.875Z"
   },
   {
    "duration": 4,
    "start_time": "2023-02-09T11:22:25.149Z"
   },
   {
    "duration": 29450,
    "start_time": "2023-02-09T11:22:31.261Z"
   },
   {
    "duration": 30065,
    "start_time": "2023-02-09T11:23:12.422Z"
   },
   {
    "duration": 4,
    "start_time": "2023-02-09T11:23:44.702Z"
   },
   {
    "duration": 7560932,
    "start_time": "2023-02-09T11:23:49.358Z"
   },
   {
    "duration": 2,
    "start_time": "2023-02-09T13:30:11.930Z"
   },
   {
    "duration": 118,
    "start_time": "2023-02-09T13:30:13.761Z"
   },
   {
    "duration": 5,
    "start_time": "2023-02-09T16:47:03.423Z"
   },
   {
    "duration": 376,
    "start_time": "2023-02-09T16:47:06.883Z"
   },
   {
    "duration": 126,
    "start_time": "2023-02-09T16:47:08.827Z"
   },
   {
    "duration": 465,
    "start_time": "2023-02-09T16:47:10.034Z"
   },
   {
    "duration": 9,
    "start_time": "2023-02-09T16:47:12.491Z"
   },
   {
    "duration": 6,
    "start_time": "2023-02-09T16:47:14.952Z"
   },
   {
    "duration": 5,
    "start_time": "2023-02-09T16:47:15.980Z"
   },
   {
    "duration": 21,
    "start_time": "2023-02-09T16:47:18.133Z"
   },
   {
    "duration": 9,
    "start_time": "2023-02-09T16:47:20.491Z"
   },
   {
    "duration": 7,
    "start_time": "2023-02-09T16:47:21.302Z"
   },
   {
    "duration": 9,
    "start_time": "2023-02-09T16:47:22.016Z"
   },
   {
    "duration": 25,
    "start_time": "2023-02-09T16:47:22.594Z"
   },
   {
    "duration": 3,
    "start_time": "2023-02-09T16:47:23.304Z"
   },
   {
    "duration": 405,
    "start_time": "2023-02-09T16:47:25.579Z"
   },
   {
    "duration": 3,
    "start_time": "2023-02-09T16:47:26.920Z"
   },
   {
    "duration": 316,
    "start_time": "2023-02-09T16:47:28.984Z"
   },
   {
    "duration": 2,
    "start_time": "2023-02-09T16:47:30.091Z"
   },
   {
    "duration": 331,
    "start_time": "2023-02-09T16:47:31.370Z"
   },
   {
    "duration": 3,
    "start_time": "2023-02-09T16:47:32.425Z"
   },
   {
    "duration": 401,
    "start_time": "2023-02-09T16:47:34.849Z"
   },
   {
    "duration": 425,
    "start_time": "2023-02-09T16:47:36.188Z"
   },
   {
    "duration": 6,
    "start_time": "2023-02-09T16:47:38.566Z"
   },
   {
    "duration": 5,
    "start_time": "2023-02-09T16:47:39.232Z"
   },
   {
    "duration": 7,
    "start_time": "2023-02-09T16:47:39.880Z"
   },
   {
    "duration": 282,
    "start_time": "2023-02-09T16:47:40.999Z"
   },
   {
    "duration": 22,
    "start_time": "2023-02-09T16:47:42.905Z"
   },
   {
    "duration": 2,
    "start_time": "2023-02-09T16:47:44.190Z"
   },
   {
    "duration": 288,
    "start_time": "2023-02-09T16:47:44.975Z"
   },
   {
    "duration": 3,
    "start_time": "2023-02-09T16:47:48.121Z"
   },
   {
    "duration": 3,
    "start_time": "2023-02-09T16:47:48.816Z"
   },
   {
    "duration": 7,
    "start_time": "2023-02-09T16:47:49.578Z"
   },
   {
    "duration": 6,
    "start_time": "2023-02-09T16:47:50.607Z"
   },
   {
    "duration": 3,
    "start_time": "2023-02-09T16:47:52.366Z"
   },
   {
    "duration": 3,
    "start_time": "2023-02-09T16:47:52.924Z"
   },
   {
    "duration": 1262,
    "start_time": "2023-02-09T16:47:53.478Z"
   },
   {
    "duration": 1394,
    "start_time": "2023-02-09T16:47:54.743Z"
   },
   {
    "duration": 4,
    "start_time": "2023-02-09T16:47:56.139Z"
   },
   {
    "duration": 2958,
    "start_time": "2023-02-09T16:47:59.583Z"
   },
   {
    "duration": 3027,
    "start_time": "2023-02-09T16:48:06.080Z"
   },
   {
    "duration": 4,
    "start_time": "2023-02-09T16:48:11.508Z"
   },
   {
    "duration": 80011,
    "start_time": "2023-02-09T16:48:12.280Z"
   },
   {
    "duration": 84881,
    "start_time": "2023-02-09T16:49:36.190Z"
   },
   {
    "duration": 4,
    "start_time": "2023-02-09T16:51:03.062Z"
   },
   {
    "duration": 28690,
    "start_time": "2023-02-09T16:51:07.074Z"
   },
   {
    "duration": 29124,
    "start_time": "2023-02-09T16:52:01.558Z"
   },
   {
    "duration": 4,
    "start_time": "2023-02-09T16:52:33.782Z"
   },
   {
    "duration": 3,
    "start_time": "2023-02-09T16:52:42.558Z"
   },
   {
    "duration": 3517823,
    "start_time": "2023-02-09T16:52:43.986Z"
   },
   {
    "duration": 4,
    "start_time": "2023-02-09T17:53:53.225Z"
   },
   {
    "duration": 6,
    "start_time": "2023-02-09T17:55:32.619Z"
   },
   {
    "duration": 5,
    "start_time": "2023-02-09T17:55:50.287Z"
   },
   {
    "duration": 4,
    "start_time": "2023-02-09T17:55:50.719Z"
   },
   {
    "duration": 24425,
    "start_time": "2023-02-09T17:55:52.111Z"
   },
   {
    "duration": 4468,
    "start_time": "2023-02-09T17:56:44.023Z"
   },
   {
    "duration": 13,
    "start_time": "2023-02-09T17:57:01.301Z"
   },
   {
    "duration": 28,
    "start_time": "2023-02-09T18:05:20.625Z"
   },
   {
    "duration": 22,
    "start_time": "2023-02-09T18:06:20.186Z"
   },
   {
    "duration": 13,
    "start_time": "2023-02-09T18:13:09.913Z"
   },
   {
    "duration": 4,
    "start_time": "2023-02-09T18:15:25.294Z"
   },
   {
    "duration": 24,
    "start_time": "2023-02-09T18:16:36.086Z"
   },
   {
    "duration": 47,
    "start_time": "2023-02-10T06:41:35.847Z"
   },
   {
    "duration": 1535,
    "start_time": "2023-02-10T06:41:47.308Z"
   },
   {
    "duration": 1388,
    "start_time": "2023-02-10T06:41:50.853Z"
   },
   {
    "duration": 176,
    "start_time": "2023-02-10T06:41:52.845Z"
   },
   {
    "duration": 729,
    "start_time": "2023-02-10T06:41:53.853Z"
   },
   {
    "duration": 11,
    "start_time": "2023-02-10T06:41:55.357Z"
   },
   {
    "duration": 7,
    "start_time": "2023-02-10T06:41:56.900Z"
   },
   {
    "duration": 5,
    "start_time": "2023-02-10T06:41:57.349Z"
   },
   {
    "duration": 19,
    "start_time": "2023-02-10T06:41:57.821Z"
   },
   {
    "duration": 8,
    "start_time": "2023-02-10T06:41:59.205Z"
   },
   {
    "duration": 6,
    "start_time": "2023-02-10T06:41:59.765Z"
   },
   {
    "duration": 10,
    "start_time": "2023-02-10T06:42:00.317Z"
   },
   {
    "duration": 29,
    "start_time": "2023-02-10T06:42:00.805Z"
   },
   {
    "duration": 2,
    "start_time": "2023-02-10T06:42:01.341Z"
   },
   {
    "duration": 322,
    "start_time": "2023-02-10T06:42:03.317Z"
   },
   {
    "duration": 2,
    "start_time": "2023-02-10T06:42:03.853Z"
   },
   {
    "duration": 372,
    "start_time": "2023-02-10T06:42:05.014Z"
   },
   {
    "duration": 2,
    "start_time": "2023-02-10T06:42:05.861Z"
   },
   {
    "duration": 310,
    "start_time": "2023-02-10T06:42:06.925Z"
   },
   {
    "duration": 2,
    "start_time": "2023-02-10T06:42:07.845Z"
   },
   {
    "duration": 420,
    "start_time": "2023-02-10T06:42:13.341Z"
   },
   {
    "duration": 416,
    "start_time": "2023-02-10T06:42:14.644Z"
   },
   {
    "duration": 6,
    "start_time": "2023-02-10T06:42:16.949Z"
   },
   {
    "duration": 6,
    "start_time": "2023-02-10T06:42:17.381Z"
   },
   {
    "duration": 5,
    "start_time": "2023-02-10T06:42:17.805Z"
   },
   {
    "duration": 271,
    "start_time": "2023-02-10T06:42:18.373Z"
   },
   {
    "duration": 25,
    "start_time": "2023-02-10T06:42:19.725Z"
   },
   {
    "duration": 2,
    "start_time": "2023-02-10T06:42:20.453Z"
   },
   {
    "duration": 278,
    "start_time": "2023-02-10T06:42:21.141Z"
   },
   {
    "duration": 3,
    "start_time": "2023-02-10T06:42:23.589Z"
   },
   {
    "duration": 3,
    "start_time": "2023-02-10T06:42:24.149Z"
   },
   {
    "duration": 6,
    "start_time": "2023-02-10T06:42:24.661Z"
   },
   {
    "duration": 6,
    "start_time": "2023-02-10T06:42:25.213Z"
   },
   {
    "duration": 3,
    "start_time": "2023-02-10T06:42:26.661Z"
   },
   {
    "duration": 3,
    "start_time": "2023-02-10T06:42:27.278Z"
   },
   {
    "duration": 1381,
    "start_time": "2023-02-10T06:42:27.821Z"
   },
   {
    "duration": 1201,
    "start_time": "2023-02-10T06:42:29.294Z"
   },
   {
    "duration": 96,
    "start_time": "2023-02-10T06:42:30.498Z"
   },
   {
    "duration": 2898,
    "start_time": "2023-02-10T06:42:33.149Z"
   },
   {
    "duration": 2907,
    "start_time": "2023-02-10T06:42:36.049Z"
   },
   {
    "duration": 4,
    "start_time": "2023-02-10T06:42:38.957Z"
   },
   {
    "duration": 83327,
    "start_time": "2023-02-10T06:44:00.309Z"
   },
   {
    "duration": 4,
    "start_time": "2023-02-10T06:45:23.637Z"
   },
   {
    "duration": 7,
    "start_time": "2023-02-10T07:09:58.360Z"
   },
   {
    "duration": 399,
    "start_time": "2023-02-10T07:10:02.078Z"
   },
   {
    "duration": 116,
    "start_time": "2023-02-10T07:10:03.309Z"
   },
   {
    "duration": 482,
    "start_time": "2023-02-10T07:10:04.158Z"
   },
   {
    "duration": 10,
    "start_time": "2023-02-10T07:10:07.998Z"
   },
   {
    "duration": 7,
    "start_time": "2023-02-10T07:10:09.790Z"
   },
   {
    "duration": 6,
    "start_time": "2023-02-10T07:10:10.333Z"
   },
   {
    "duration": 29,
    "start_time": "2023-02-10T07:10:10.966Z"
   },
   {
    "duration": 10,
    "start_time": "2023-02-10T07:10:12.711Z"
   },
   {
    "duration": 8,
    "start_time": "2023-02-10T07:10:13.350Z"
   },
   {
    "duration": 12,
    "start_time": "2023-02-10T07:10:14.158Z"
   },
   {
    "duration": 18,
    "start_time": "2023-02-10T07:10:14.806Z"
   },
   {
    "duration": 2,
    "start_time": "2023-02-10T07:10:15.334Z"
   },
   {
    "duration": 389,
    "start_time": "2023-02-10T07:10:17.902Z"
   },
   {
    "duration": 3,
    "start_time": "2023-02-10T07:10:18.798Z"
   },
   {
    "duration": 317,
    "start_time": "2023-02-10T07:10:20.118Z"
   },
   {
    "duration": 4,
    "start_time": "2023-02-10T07:10:20.798Z"
   },
   {
    "duration": 325,
    "start_time": "2023-02-10T07:10:21.815Z"
   },
   {
    "duration": 3,
    "start_time": "2023-02-10T07:10:22.422Z"
   },
   {
    "duration": 457,
    "start_time": "2023-02-10T07:10:24.150Z"
   },
   {
    "duration": 384,
    "start_time": "2023-02-10T07:10:25.606Z"
   },
   {
    "duration": 7,
    "start_time": "2023-02-10T07:10:28.166Z"
   },
   {
    "duration": 6,
    "start_time": "2023-02-10T07:10:28.415Z"
   },
   {
    "duration": 7,
    "start_time": "2023-02-10T07:10:28.614Z"
   },
   {
    "duration": 284,
    "start_time": "2023-02-10T07:10:29.294Z"
   },
   {
    "duration": 21,
    "start_time": "2023-02-10T07:10:30.670Z"
   },
   {
    "duration": 3,
    "start_time": "2023-02-10T07:10:30.942Z"
   },
   {
    "duration": 374,
    "start_time": "2023-02-10T07:10:31.487Z"
   },
   {
    "duration": 3,
    "start_time": "2023-02-10T07:10:34.398Z"
   },
   {
    "duration": 3,
    "start_time": "2023-02-10T07:10:34.822Z"
   },
   {
    "duration": 7,
    "start_time": "2023-02-10T07:10:35.710Z"
   },
   {
    "duration": 8,
    "start_time": "2023-02-10T07:10:36.359Z"
   },
   {
    "duration": 4,
    "start_time": "2023-02-10T07:10:40.102Z"
   },
   {
    "duration": 4,
    "start_time": "2023-02-10T07:10:41.030Z"
   },
   {
    "duration": 1803,
    "start_time": "2023-02-10T07:10:41.494Z"
   },
   {
    "duration": 3286,
    "start_time": "2023-02-10T07:10:44.015Z"
   },
   {
    "duration": 4,
    "start_time": "2023-02-10T07:10:48.198Z"
   },
   {
    "duration": 2871,
    "start_time": "2023-02-10T07:10:51.046Z"
   },
   {
    "duration": 2885,
    "start_time": "2023-02-10T07:10:54.599Z"
   },
   {
    "duration": 5,
    "start_time": "2023-02-10T07:10:58.346Z"
   },
   {
    "duration": 78236,
    "start_time": "2023-02-10T07:10:59.886Z"
   },
   {
    "duration": 83176,
    "start_time": "2023-02-10T07:12:35.760Z"
   },
   {
    "duration": 4,
    "start_time": "2023-02-10T07:14:02.066Z"
   },
   {
    "duration": 27683,
    "start_time": "2023-02-10T07:14:06.666Z"
   },
   {
    "duration": 28323,
    "start_time": "2023-02-10T07:15:24.579Z"
   },
   {
    "duration": 4,
    "start_time": "2023-02-10T07:15:59.803Z"
   },
   {
    "duration": 3,
    "start_time": "2023-02-10T07:16:04.144Z"
   },
   {
    "duration": 89,
    "start_time": "2023-02-10T07:16:12.308Z"
   },
   {
    "duration": 17,
    "start_time": "2023-02-10T07:16:26.180Z"
   },
   {
    "duration": 3,
    "start_time": "2023-02-10T07:16:28.804Z"
   },
   {
    "duration": 23811,
    "start_time": "2023-02-10T07:16:31.940Z"
   },
   {
    "duration": 15,
    "start_time": "2023-02-10T07:17:49.293Z"
   },
   {
    "duration": 3,
    "start_time": "2023-02-10T07:17:50.478Z"
   },
   {
    "duration": 24206,
    "start_time": "2023-02-10T07:17:52.710Z"
   },
   {
    "duration": 4038,
    "start_time": "2023-02-10T07:18:19.047Z"
   },
   {
    "duration": 7,
    "start_time": "2023-02-10T07:18:28.622Z"
   },
   {
    "duration": 3,
    "start_time": "2023-02-10T07:18:35.350Z"
   },
   {
    "duration": 4,
    "start_time": "2023-02-10T07:18:36.312Z"
   },
   {
    "duration": 4,
    "start_time": "2023-02-10T07:18:37.102Z"
   },
   {
    "duration": 9,
    "start_time": "2023-02-10T07:18:39.182Z"
   },
   {
    "duration": 7,
    "start_time": "2023-02-10T07:21:06.358Z"
   },
   {
    "duration": 7,
    "start_time": "2023-02-10T07:21:13.177Z"
   },
   {
    "duration": 6,
    "start_time": "2023-02-10T07:21:31.849Z"
   },
   {
    "duration": 4,
    "start_time": "2023-02-10T07:54:35.698Z"
   },
   {
    "duration": 364,
    "start_time": "2023-02-10T07:56:46.429Z"
   },
   {
    "duration": 116,
    "start_time": "2023-02-10T07:56:47.494Z"
   },
   {
    "duration": 437,
    "start_time": "2023-02-10T07:56:48.557Z"
   },
   {
    "duration": 9,
    "start_time": "2023-02-10T07:56:51.693Z"
   },
   {
    "duration": 5,
    "start_time": "2023-02-10T07:56:53.229Z"
   },
   {
    "duration": 5,
    "start_time": "2023-02-10T07:56:54.013Z"
   },
   {
    "duration": 20,
    "start_time": "2023-02-10T07:56:54.628Z"
   },
   {
    "duration": 8,
    "start_time": "2023-02-10T07:56:56.053Z"
   },
   {
    "duration": 6,
    "start_time": "2023-02-10T07:56:56.629Z"
   },
   {
    "duration": 10,
    "start_time": "2023-02-10T07:56:57.236Z"
   },
   {
    "duration": 24,
    "start_time": "2023-02-10T07:56:57.805Z"
   },
   {
    "duration": 2,
    "start_time": "2023-02-10T07:56:58.342Z"
   },
   {
    "duration": 350,
    "start_time": "2023-02-10T07:57:00.333Z"
   },
   {
    "duration": 3,
    "start_time": "2023-02-10T07:57:00.892Z"
   },
   {
    "duration": 362,
    "start_time": "2023-02-10T07:57:02.389Z"
   },
   {
    "duration": 3,
    "start_time": "2023-02-10T07:57:02.869Z"
   },
   {
    "duration": 418,
    "start_time": "2023-02-10T07:57:03.805Z"
   },
   {
    "duration": 4,
    "start_time": "2023-02-10T07:57:04.333Z"
   },
   {
    "duration": 682,
    "start_time": "2023-02-10T07:57:05.926Z"
   },
   {
    "duration": 497,
    "start_time": "2023-02-10T07:57:06.610Z"
   },
   {
    "duration": 5,
    "start_time": "2023-02-10T07:57:07.861Z"
   },
   {
    "duration": 5,
    "start_time": "2023-02-10T07:57:08.661Z"
   },
   {
    "duration": 6,
    "start_time": "2023-02-10T07:57:08.844Z"
   },
   {
    "duration": 305,
    "start_time": "2023-02-10T07:57:09.070Z"
   },
   {
    "duration": 20,
    "start_time": "2023-02-10T07:57:10.445Z"
   },
   {
    "duration": 3,
    "start_time": "2023-02-10T07:57:10.861Z"
   },
   {
    "duration": 271,
    "start_time": "2023-02-10T07:57:11.454Z"
   },
   {
    "duration": 3,
    "start_time": "2023-02-10T07:57:14.821Z"
   },
   {
    "duration": 3,
    "start_time": "2023-02-10T07:57:15.086Z"
   },
   {
    "duration": 8,
    "start_time": "2023-02-10T07:57:15.374Z"
   },
   {
    "duration": 7,
    "start_time": "2023-02-10T07:57:16.029Z"
   },
   {
    "duration": 3,
    "start_time": "2023-02-10T07:57:17.429Z"
   },
   {
    "duration": 3,
    "start_time": "2023-02-10T07:57:17.750Z"
   },
   {
    "duration": 1249,
    "start_time": "2023-02-10T07:57:18.158Z"
   },
   {
    "duration": 1501,
    "start_time": "2023-02-10T07:57:19.493Z"
   },
   {
    "duration": 4,
    "start_time": "2023-02-10T07:57:20.996Z"
   },
   {
    "duration": 3131,
    "start_time": "2023-02-10T07:57:23.230Z"
   },
   {
    "duration": 3304,
    "start_time": "2023-02-10T07:57:26.486Z"
   },
   {
    "duration": 4,
    "start_time": "2023-02-10T07:57:29.793Z"
   },
   {
    "duration": 83618,
    "start_time": "2023-02-10T07:57:31.593Z"
   },
   {
    "duration": 104416,
    "start_time": "2023-02-10T07:58:59.632Z"
   },
   {
    "duration": 8,
    "start_time": "2023-02-10T08:00:58.410Z"
   },
   {
    "duration": 34533,
    "start_time": "2023-02-10T08:01:00.941Z"
   },
   {
    "duration": 35235,
    "start_time": "2023-02-10T08:01:56.418Z"
   },
   {
    "duration": 8,
    "start_time": "2023-02-10T08:02:43.001Z"
   },
   {
    "duration": 2313492,
    "start_time": "2023-02-10T08:02:44.739Z"
   },
   {
    "duration": 3,
    "start_time": "2023-02-10T08:41:53.469Z"
   },
   {
    "duration": 2364045,
    "start_time": "2023-02-10T08:41:55.581Z"
   },
   {
    "duration": 8,
    "start_time": "2023-02-10T09:21:45.222Z"
   },
   {
    "duration": 10,
    "start_time": "2023-02-10T09:22:09.336Z"
   },
   {
    "duration": 16,
    "start_time": "2023-02-10T09:22:32.476Z"
   },
   {
    "duration": 4,
    "start_time": "2023-02-10T09:22:33.444Z"
   },
   {
    "duration": 29888,
    "start_time": "2023-02-10T09:22:41.119Z"
   },
   {
    "duration": 11838,
    "start_time": "2023-02-10T09:23:50.653Z"
   },
   {
    "duration": 11,
    "start_time": "2023-02-10T09:24:04.144Z"
   },
   {
    "duration": 5,
    "start_time": "2023-02-10T09:24:09.016Z"
   },
   {
    "duration": 4,
    "start_time": "2023-02-10T09:24:10.534Z"
   },
   {
    "duration": 4,
    "start_time": "2023-02-10T09:24:11.269Z"
   },
   {
    "duration": 7,
    "start_time": "2023-02-10T09:24:12.045Z"
   },
   {
    "duration": 1750,
    "start_time": "2023-02-10T11:36:09.258Z"
   },
   {
    "duration": 1707,
    "start_time": "2023-02-10T11:36:12.541Z"
   },
   {
    "duration": 213,
    "start_time": "2023-02-10T11:36:14.867Z"
   },
   {
    "duration": 891,
    "start_time": "2023-02-10T11:36:15.861Z"
   },
   {
    "duration": 11,
    "start_time": "2023-02-10T11:36:17.603Z"
   },
   {
    "duration": 9,
    "start_time": "2023-02-10T11:36:20.524Z"
   },
   {
    "duration": 14,
    "start_time": "2023-02-10T11:36:20.989Z"
   },
   {
    "duration": 25,
    "start_time": "2023-02-10T11:36:21.609Z"
   },
   {
    "duration": 8,
    "start_time": "2023-02-10T11:36:23.869Z"
   },
   {
    "duration": 6,
    "start_time": "2023-02-10T11:36:24.652Z"
   },
   {
    "duration": 10,
    "start_time": "2023-02-10T11:36:25.676Z"
   },
   {
    "duration": 52,
    "start_time": "2023-02-10T11:36:26.556Z"
   },
   {
    "duration": 2,
    "start_time": "2023-02-10T11:36:27.333Z"
   },
   {
    "duration": 318,
    "start_time": "2023-02-10T11:36:30.325Z"
   },
   {
    "duration": 2,
    "start_time": "2023-02-10T11:36:31.310Z"
   },
   {
    "duration": 377,
    "start_time": "2023-02-10T11:36:33.006Z"
   },
   {
    "duration": 3,
    "start_time": "2023-02-10T11:36:34.120Z"
   },
   {
    "duration": 325,
    "start_time": "2023-02-10T11:36:35.853Z"
   },
   {
    "duration": 3,
    "start_time": "2023-02-10T11:36:36.836Z"
   },
   {
    "duration": 428,
    "start_time": "2023-02-10T11:36:39.285Z"
   },
   {
    "duration": 407,
    "start_time": "2023-02-10T11:36:40.517Z"
   },
   {
    "duration": 5,
    "start_time": "2023-02-10T11:36:43.668Z"
   },
   {
    "duration": 5,
    "start_time": "2023-02-10T11:36:45.636Z"
   },
   {
    "duration": 6,
    "start_time": "2023-02-10T11:36:46.476Z"
   },
   {
    "duration": 5,
    "start_time": "2023-02-10T11:36:47.564Z"
   },
   {
    "duration": 311,
    "start_time": "2023-02-10T11:36:50.573Z"
   },
   {
    "duration": 314,
    "start_time": "2023-02-10T11:37:08.046Z"
   },
   {
    "duration": 82,
    "start_time": "2023-02-10T11:37:14.166Z"
   },
   {
    "duration": 2,
    "start_time": "2023-02-10T11:37:14.941Z"
   },
   {
    "duration": 313,
    "start_time": "2023-02-10T11:37:20.454Z"
   },
   {
    "duration": 4,
    "start_time": "2023-02-10T11:37:24.815Z"
   },
   {
    "duration": 2,
    "start_time": "2023-02-10T11:37:25.581Z"
   },
   {
    "duration": 5,
    "start_time": "2023-02-10T11:37:26.462Z"
   },
   {
    "duration": 6,
    "start_time": "2023-02-10T11:37:26.933Z"
   },
   {
    "duration": 4,
    "start_time": "2023-02-10T11:37:31.469Z"
   },
   {
    "duration": 3,
    "start_time": "2023-02-10T11:37:31.750Z"
   },
   {
    "duration": 2122,
    "start_time": "2023-02-10T11:37:32.013Z"
   },
   {
    "duration": 2273,
    "start_time": "2023-02-10T11:37:34.137Z"
   },
   {
    "duration": 4,
    "start_time": "2023-02-10T11:37:37.115Z"
   },
   {
    "duration": 2719,
    "start_time": "2023-02-10T11:37:52.022Z"
   },
   {
    "duration": 2553,
    "start_time": "2023-02-10T11:38:50.904Z"
   },
   {
    "duration": 4,
    "start_time": "2023-02-10T11:38:57.415Z"
   },
   {
    "duration": 83303,
    "start_time": "2023-02-10T11:39:07.956Z"
   },
   {
    "duration": 87530,
    "start_time": "2023-02-10T11:40:33.449Z"
   },
   {
    "duration": 5,
    "start_time": "2023-02-10T11:42:27.426Z"
   }
  ],
  "kernelspec": {
   "display_name": "Python 3 (ipykernel)",
   "language": "python",
   "name": "python3"
  },
  "language_info": {
   "codemirror_mode": {
    "name": "ipython",
    "version": 3
   },
   "file_extension": ".py",
   "mimetype": "text/x-python",
   "name": "python",
   "nbconvert_exporter": "python",
   "pygments_lexer": "ipython3",
   "version": "3.9.5"
  },
  "toc": {
   "base_numbering": 1,
   "nav_menu": {},
   "number_sections": true,
   "sideBar": true,
   "skip_h1_title": true,
   "title_cell": "Содержание",
   "title_sidebar": "Contents",
   "toc_cell": true,
   "toc_position": {
    "height": "calc(100% - 180px)",
    "left": "10px",
    "top": "150px",
    "width": "165px"
   },
   "toc_section_display": true,
   "toc_window_display": true
  }
 },
 "nbformat": 4,
 "nbformat_minor": 2
}
